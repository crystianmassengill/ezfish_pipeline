{
 "cells": [
  {
   "cell_type": "code",
   "execution_count": 4,
   "id": "e2f6c62e",
   "metadata": {},
   "outputs": [
    {
     "data": {
      "text/html": [
       "<style>.container { width:100% !important; }</style>"
      ],
      "text/plain": [
       "<IPython.core.display.HTML object>"
      ]
     },
     "metadata": {},
     "output_type": "display_data"
    }
   ],
   "source": [
    "from IPython.display import display, HTML\n",
    "display(HTML(\"<style>.container { width:100% !important; }</style>\"))\n",
    "from visualization_funcs import match_masks, visualize_match"
   ]
  },
  {
   "cell_type": "code",
   "execution_count": null,
   "id": "60cabf75",
   "metadata": {},
   "outputs": [],
   "source": [
    "### Make sure all images should be single channel, bit depth doesn't matter"
   ]
  },
  {
   "cell_type": "code",
   "execution_count": 5,
   "id": "d1638e92",
   "metadata": {},
   "outputs": [
    {
     "name": "stderr",
     "output_type": "stream",
     "text": [
      "C:\\ProgramData\\Anaconda3_2022\\lib\\site-packages\\numpy\\core\\fromnumeric.py:3464: RuntimeWarning: Mean of empty slice.\n",
      "  return _methods._mean(a, axis=axis, dtype=dtype,\n",
      "C:\\ProgramData\\Anaconda3_2022\\lib\\site-packages\\numpy\\core\\_methods.py:192: RuntimeWarning: invalid value encountered in scalar divide\n",
      "  ret = ret.dtype.type(ret / rcount)\n",
      "C:\\Users\\jonna\\AppData\\Roaming\\Python\\Python39\\site-packages\\tifffile\\tifffile.py:3776: UserWarning: <tifffile.TiffWriter 'Visualization_m…rlap_0.1_img.tif'> truncating ImageJ file\n",
      "  warnings.warn(\n"
     ]
    },
    {
     "data": {
      "text/plain": [
       "False"
      ]
     },
     "execution_count": 5,
     "metadata": {},
     "output_type": "execute_result"
    }
   ],
   "source": [
    "## All dimensions must match, all must be 1 channel, all mask files must have 1 value per mask\n",
    "## MAKE SURE TO ALWAYS LEAVE ONE CONSTANT AS HCR 1, DON'T SWITCH THE IDENTITIES\n",
    "#Output dataframes (dfs) saved in the HCR round folder in NASQUATCH for now\n",
    "\n",
    "\n",
    "stack1_image_path = fr\"\\\\nasquatch\\data\\2p\\jonna\\2p_To_HCR_ForBigWarp\\RG026_Slice001_L_ForColabs\\HCR3\\deformed.tiff\" #Must be 1 channel!!!\n",
    "stack1_masks_path = fr\"\\\\nasquatch\\data\\2p\\jonna\\2p_To_HCR_ForBigWarp\\RG026_Slice001_L_ForColabs\\HCR3\\deformed_cp_masks.tif\"\n",
    "\n",
    "#ALWAYS LEAVE THIS AS HCR ROUND 1 (TARGET ROUND)\n",
    "stack2_image_path = fr\"\\\\nasquatch\\data\\2p\\jonna\\2p_To_HCR_ForBigWarp\\RG026_Slice001_L_ForColabs\\HCR1\\RG026_Slice001_L_HCR1_C1_DAPI.tif\" #Must be 1 channel!!!\n",
    "stack2_masks_path = fr\"\\\\nasquatch\\data\\2p\\jonna\\2p_To_HCR_ForBigWarp\\RG026_Slice001_L_ForColabs\\HCR1\\RG026_Slice001_L_HCR1_C1_DAPI_cp_masks.tif\"\n",
    "\n",
    "min_overlap = 0.1\n",
    "\n",
    "output_base_filename = fr\"\\\\nasquatch\\data\\2p\\jonna\\2p_To_HCR_ForBigWarp\\RG026_Slice001_L_ForColabs\\HCR3\\Visualization_min_overlap_{min_overlap}\"\n",
    "\n",
    "# calculate the matching masks and the overlap\n",
    "mask1_to_mask2_df = match_masks(stack1_masks_path, stack2_masks_path)\n",
    "\n",
    "# filter only overlaps above min_overlap\n",
    "mask1_to_mask2 = mask1_to_mask2_df.query(f'overlap>@min_overlap')[['mask1','mask2']].astype('int').set_index('mask1')['mask2'].to_dict()\n",
    "\n",
    "# creating visualization files\n",
    "visualize_match(stack1_image_path, stack1_masks_path, stack2_image_path, stack2_masks_path,\n",
    "                mask1_to_mask2, output_base_filename)"
   ]
  },
  {
   "cell_type": "code",
   "execution_count": 6,
   "id": "7aadd30a",
   "metadata": {},
   "outputs": [],
   "source": [
    "#Save the overlap values for this pair of rounds\n",
    "fname = \"HCR3_to_HCR1_dff\"\n",
    "mask1_to_mask2_df.to_csv(fr\"{output_base_filename}_{fname}.csv\")\n",
    "    "
   ]
  },
  {
   "cell_type": "code",
   "execution_count": null,
   "id": "845da2de",
   "metadata": {},
   "outputs": [],
   "source": []
  }
 ],
 "metadata": {
  "kernelspec": {
   "display_name": "Python 3 (ipykernel)",
   "language": "python",
   "name": "python3"
  },
  "language_info": {
   "codemirror_mode": {
    "name": "ipython",
    "version": 3
   },
   "file_extension": ".py",
   "mimetype": "text/x-python",
   "name": "python",
   "nbconvert_exporter": "python",
   "pygments_lexer": "ipython3",
   "version": "3.9.13"
  }
 },
 "nbformat": 4,
 "nbformat_minor": 5
}
