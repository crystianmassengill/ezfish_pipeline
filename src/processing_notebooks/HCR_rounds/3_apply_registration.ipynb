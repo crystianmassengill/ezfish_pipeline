{
 "cells": [
  {
   "cell_type": "markdown",
   "id": "9979782c",
   "metadata": {},
   "source": [
    "# apply registration from on other channels!"
   ]
  },
  {
   "cell_type": "code",
   "execution_count": 19,
   "id": "0fccea53",
   "metadata": {},
   "outputs": [
    {
     "name": "stdout",
     "output_type": "stream",
     "text": [
      "The autoreload extension is already loaded. To reload it, use:\n",
      "  %reload_ext autoreload\n"
     ]
    },
    {
     "data": {
      "text/html": [
       "<style>.container { width:100% !important; }</style>"
      ],
      "text/plain": [
       "<IPython.core.display.HTML object>"
      ]
     },
     "metadata": {},
     "output_type": "display_data"
    }
   ],
   "source": [
    "\n",
    "%load_ext autoreload\n",
    "%autoreload 2\n",
    "import sys\n",
    "from tifffile import imwrite as tif_imwrite\n",
    "from tifffile import imread as tif_imread\n",
    "from IPython.display import display, HTML\n",
    "import numpy as np\n",
    "from pathlib import Path\n",
    "import zarr\n",
    "display(HTML(\"<style>.container { width:100% !important; }</style>\"))\n",
    "import sys\n",
    "# Path for bigstream unless you did pip install\n",
    "sys.path = [\"/mnt/nasquatch/data/2p/jonna/Code_Python/Notebooks_Jonna/BigStream/bigstream_github\"] + sys.path \n",
    "sys.path.append(\"../../\")\n",
    "from bigstream.align import alignment_pipeline\n",
    "from bigstream.piecewise_align import distributed_piecewise_alignment_pipeline\n",
    "from bigstream.transform import apply_transform\n",
    "from bigstream.piecewise_transform import distributed_apply_transform\n",
    "from registrations_funcs import verify_rounds\n",
    "\n",
    "from tqdm.auto import trange\n",
    "import os\n",
    "from pathlib import Path\n",
    "import re"
   ]
  },
  {
   "cell_type": "code",
   "execution_count": 41,
   "id": "5834161a",
   "metadata": {},
   "outputs": [
    {
     "name": "stdout",
     "output_type": "stream",
     "text": [
      "All files found\n",
      "Rounds available for registerion apply: 02 03 "
     ]
    },
    {
     "data": {
      "text/plain": [
       "{'02': OrderedDict([('round', '02'),\n",
       "              ('channels', ['DAPI', 'GLP1R', 'CHAT', 'TAC1']),\n",
       "              ('resolution', [1.515, 1.515, 5]),\n",
       "              ('image_path',\n",
       "               PosixPath('/mnt/bananas/data/ezfish/jonna/RG026/HCR/RG026_HCR02_To_HCR01.tif')),\n",
       "              ('registrations',\n",
       "               ['local_params_scan_nodeform/rz1_rxy25_bs3to30_mt0.2/bs50_50_12_1_15_bs5to70_mt0.2'])]),\n",
       " '03': OrderedDict([('round', '03'),\n",
       "              ('channels', ['DAPI', 'RORB', 'NPR3', 'VGAT']),\n",
       "              ('resolution', [1.515, 1.515, 5]),\n",
       "              ('image_path',\n",
       "               PosixPath('/mnt/bananas/data/ezfish/jonna/RG026/HCR/RG026_HCR03_To_HCR01.tif')),\n",
       "              ('registrations',\n",
       "               ['local_params_scan_nodeform/rz1_rxy25_bs3to30_mt0.2/bs50_50_12_1_15_bs5to70_mt0.2'])])}"
      ]
     },
     "execution_count": 41,
     "metadata": {},
     "output_type": "execute_result"
    }
   ],
   "source": [
    "import hjson\n",
    "hjson_file = fr'/home/oamsalem/code/Projects/EZfish/ezfish_pipeline/examples/RG026.hjson'\n",
    "\n",
    "\n",
    "\n",
    "manifest = hjson.load(open(hjson_file, 'r'))\n",
    "\n",
    "round_to_rounds, reference_round = verify_rounds(manifest, registered_paths=True)\n",
    "round_to_rounds"
   ]
  },
  {
   "cell_type": "markdown",
   "id": "b55d4692",
   "metadata": {},
   "source": [
    "### PARAMETERS"
   ]
  },
  {
   "cell_type": "code",
   "execution_count": 42,
   "id": "a9d9dfa8",
   "metadata": {},
   "outputs": [],
   "source": [
    "# Choose the round to register\n",
    "HCR_round_to_register = '03'# 02,03...?\n",
    "\n",
    "assert HCR_round_to_register in round_to_rounds.keys(), f\"round {HCR_round_to_register} not found in rounds to register\"\n",
    "assert 'registrations' in round_to_rounds[HCR_round_to_register], f\"round {HCR_round_to_register} was not found in params.hjson\"\n",
    "\n"
   ]
  },
  {
   "cell_type": "code",
   "execution_count": 52,
   "id": "59e6a090",
   "metadata": {},
   "outputs": [],
   "source": [
    "mov_round = round_to_rounds[HCR_round_to_register]\n",
    "# File names\n",
    "HCR_fix_image_path = reference_round['image_path'] # The fix image that all other rounds will be registerd to (include all channels!)\n",
    "HCR_mov_image_path = mov_round['image_path'] # The image that will be registered to the fix image (include all channels!)\n",
    "\n",
    "round_folder_name = f\"HCR{HCR_round_to_register}_to_HCR{reference_round['round']}\"\n",
    "\n",
    "# resolution of the images\n",
    "fix_image_spacing = np.array(reference_round['resolution']) # Y,X,Z\n",
    "mov_image_spacing = np.array(mov_round['resolution']) # Y,X,Z\n",
    "\n",
    "\n",
    "# spatial downsampling, probably no need to test. (Changed x and y from 3 to 2 for CIM round 5)\n",
    "red_mut_x = manifest['HCR_to_HCR_params']['red_mut_x']\n",
    "red_mut_y = manifest['HCR_to_HCR_params']['red_mut_y']\n",
    "red_mut_z = manifest['HCR_to_HCR_params']['red_mut_z']\n",
    "\n",
    "fix_lowres_spacing = fix_image_spacing * np.array([red_mut_y,red_mut_x,red_mut_z])\n",
    "mov_lowres_spacing = mov_image_spacing * np.array([red_mut_y,red_mut_x,red_mut_z])\n",
    "\n"
   ]
  },
  {
   "cell_type": "code",
   "execution_count": 51,
   "id": "d6b0486f",
   "metadata": {},
   "outputs": [],
   "source": [
    "# get block size from the registration file\n",
    "blocksize_match = re.findall(r'bs(\\d+)_(\\d+)_(\\d+)', Path(round_to_rounds[HCR_round_to_register]['registrations'][0]).name)\n",
    "blocksize = [int(num) for num in blocksize_match[0]]\n",
    "\n",
    "HCR_fix_round = tif_imread(HCR_fix_image_path)[:,0]\n",
    "HCR_mov_round = tif_imread(HCR_mov_image_path)\n",
    "\n"
   ]
  },
  {
   "cell_type": "markdown",
   "id": "2e5bfd66",
   "metadata": {},
   "source": [
    "### Image parameters"
   ]
  },
  {
   "cell_type": "code",
   "execution_count": 55,
   "id": "bf0486c4",
   "metadata": {},
   "outputs": [
    {
     "data": {
      "application/vnd.jupyter.widget-view+json": {
       "model_id": "c14c82400c2542a389ccdf4ea24f8c76",
       "version_major": 2,
       "version_minor": 0
      },
      "text/plain": [
       "  0%|          | 0/3 [00:00<?, ?it/s]"
      ]
     },
     "metadata": {},
     "output_type": "display_data"
    },
    {
     "name": "stdout",
     "output_type": "stream",
     "text": [
      "['deform.zarr', '_mov_lowres_affine.tiff', '_affine.mat', '_affine.npy', '_fix_lowres.tiff', '_mov_lowres.tiff', '_both.tiff']\n",
      "{'host': ''}\n"
     ]
    },
    {
     "name": "stderr",
     "output_type": "stream",
     "text": [
      "/mnt/colab/colab_shared/anaconda3/lib/python3.9/site-packages/distributed/node.py:183: UserWarning: Port 8787 is already in use.\n",
      "Perhaps you already have a cluster running?\n",
      "Hosting the HTTP server on port 35037 instead\n",
      "  warnings.warn(\n"
     ]
    },
    {
     "name": "stdout",
     "output_type": "stream",
     "text": [
      "Cluster dashboard link:  http://10.35.76.107:35037/status\n"
     ]
    },
    {
     "name": "stderr",
     "output_type": "stream",
     "text": [
      "2024-08-16 14:45:36,081 - distributed.utils_perf - WARNING - full garbage collections took 10% CPU time recently (threshold: 10%)\n",
      "2024-08-16 14:45:59,239 - distributed.utils_perf - WARNING - full garbage collections took 10% CPU time recently (threshold: 10%)\n",
      "2024-08-16 14:46:10,723 - distributed.utils_perf - WARNING - full garbage collections took 10% CPU time recently (threshold: 10%)\n",
      "2024-08-16 14:46:17,231 - distributed.worker - ERROR - Exception during execution of task ('store-map-2fe4fbba2ea7be595000880daafa3fde', 1, 37, 0).\n",
      "Traceback (most recent call last):\n",
      "  File \"/mnt/colab/colab_shared/anaconda3/lib/python3.9/site-packages/distributed/worker.py\", line 2341, in _prepare_args_for_execution\n",
      "    data[k] = self.data[k]\n",
      "  File \"/mnt/colab/colab_shared/anaconda3/lib/python3.9/site-packages/zict/buffer.py\", line 87, in __getitem__\n",
      "    raise KeyError(key)\n",
      "KeyError: \"('getitem-transform_single_block-getitem-store-map-2fe4fbba2ea7be595000880daafa3fde', 1, 37, 0)\"\n",
      "\n",
      "During handling of the above exception, another exception occurred:\n",
      "\n",
      "Traceback (most recent call last):\n",
      "  File \"/mnt/colab/colab_shared/anaconda3/lib/python3.9/site-packages/distributed/worker.py\", line 2239, in execute\n",
      "    args2, kwargs2 = self._prepare_args_for_execution(ts, args, kwargs)\n",
      "  File \"/mnt/colab/colab_shared/anaconda3/lib/python3.9/site-packages/distributed/worker.py\", line 2345, in _prepare_args_for_execution\n",
      "    data[k] = Actor(type(self.state.actors[k]), self.address, k, self)\n",
      "KeyError: \"('getitem-transform_single_block-getitem-store-map-2fe4fbba2ea7be595000880daafa3fde', 1, 37, 0)\"\n",
      "2024-08-16 14:46:17,234 - distributed.worker - ERROR - Exception during execution of task ('store-map-2fe4fbba2ea7be595000880daafa3fde', 21, 32, 1).\n",
      "Traceback (most recent call last):\n",
      "  File \"/mnt/colab/colab_shared/anaconda3/lib/python3.9/site-packages/distributed/worker.py\", line 2341, in _prepare_args_for_execution\n",
      "    data[k] = self.data[k]\n",
      "  File \"/mnt/colab/colab_shared/anaconda3/lib/python3.9/site-packages/zict/buffer.py\", line 87, in __getitem__\n",
      "    raise KeyError(key)\n",
      "KeyError: \"('getitem-transform_single_block-getitem-store-map-2fe4fbba2ea7be595000880daafa3fde', 21, 32, 1)\"\n",
      "\n",
      "During handling of the above exception, another exception occurred:\n",
      "\n",
      "Traceback (most recent call last):\n",
      "  File \"/mnt/colab/colab_shared/anaconda3/lib/python3.9/site-packages/distributed/worker.py\", line 2239, in execute\n",
      "    args2, kwargs2 = self._prepare_args_for_execution(ts, args, kwargs)\n",
      "  File \"/mnt/colab/colab_shared/anaconda3/lib/python3.9/site-packages/distributed/worker.py\", line 2345, in _prepare_args_for_execution\n",
      "    data[k] = Actor(type(self.state.actors[k]), self.address, k, self)\n",
      "KeyError: \"('getitem-transform_single_block-getitem-store-map-2fe4fbba2ea7be595000880daafa3fde', 21, 32, 1)\"\n",
      "2024-08-16 14:46:17,711 - distributed.worker - ERROR - failed during get data with tcp://10.35.76.107:40151 -> tcp://10.35.76.107:43413\n",
      "Traceback (most recent call last):\n",
      "  File \"/mnt/colab/colab_shared/anaconda3/lib/python3.9/site-packages/distributed/comm/tcp.py\", line 225, in read\n",
      "    frames_nbytes = await stream.read_bytes(fmt_size)\n",
      "tornado.iostream.StreamClosedError: Stream is closed\n",
      "\n",
      "The above exception was the direct cause of the following exception:\n",
      "\n",
      "Traceback (most recent call last):\n",
      "  File \"/mnt/colab/colab_shared/anaconda3/lib/python3.9/site-packages/distributed/worker.py\", line 1762, in get_data\n",
      "    response = await comm.read(deserializers=serializers)\n",
      "  File \"/mnt/colab/colab_shared/anaconda3/lib/python3.9/site-packages/distributed/comm/tcp.py\", line 241, in read\n",
      "    convert_stream_closed_error(self, e)\n",
      "  File \"/mnt/colab/colab_shared/anaconda3/lib/python3.9/site-packages/distributed/comm/tcp.py\", line 144, in convert_stream_closed_error\n",
      "    raise CommClosedError(f\"in {obj}: {exc}\") from exc\n",
      "distributed.comm.core.CommClosedError: in <TCP (closed)  local=tcp://10.35.76.107:40151 remote=tcp://10.35.76.107:47030>: Stream is closed\n",
      "2024-08-16 14:46:18,041 - distributed.worker - ERROR - failed during get data with tcp://10.35.76.107:45221 -> tcp://10.35.76.107:40151\n",
      "Traceback (most recent call last):\n",
      "  File \"/mnt/colab/colab_shared/anaconda3/lib/python3.9/site-packages/distributed/comm/tcp.py\", line 225, in read\n",
      "    frames_nbytes = await stream.read_bytes(fmt_size)\n",
      "tornado.iostream.StreamClosedError: Stream is closed\n",
      "\n",
      "The above exception was the direct cause of the following exception:\n",
      "\n",
      "Traceback (most recent call last):\n",
      "  File \"/mnt/colab/colab_shared/anaconda3/lib/python3.9/site-packages/distributed/worker.py\", line 1762, in get_data\n",
      "    response = await comm.read(deserializers=serializers)\n",
      "  File \"/mnt/colab/colab_shared/anaconda3/lib/python3.9/site-packages/distributed/comm/tcp.py\", line 241, in read\n",
      "    convert_stream_closed_error(self, e)\n",
      "  File \"/mnt/colab/colab_shared/anaconda3/lib/python3.9/site-packages/distributed/comm/tcp.py\", line 144, in convert_stream_closed_error\n",
      "    raise CommClosedError(f\"in {obj}: {exc}\") from exc\n",
      "distributed.comm.core.CommClosedError: in <TCP (closed)  local=tcp://10.35.76.107:45221 remote=tcp://10.35.76.107:39284>: Stream is closed\n",
      "2024-08-16 14:46:18,042 - distributed.worker - ERROR - failed during get data with tcp://10.35.76.107:33687 -> tcp://10.35.76.107:37495\n",
      "Traceback (most recent call last):\n",
      "  File \"/mnt/colab/colab_shared/anaconda3/lib/python3.9/site-packages/distributed/comm/tcp.py\", line 225, in read\n",
      "    frames_nbytes = await stream.read_bytes(fmt_size)\n",
      "tornado.iostream.StreamClosedError: Stream is closed\n",
      "\n",
      "The above exception was the direct cause of the following exception:\n",
      "\n",
      "Traceback (most recent call last):\n",
      "  File \"/mnt/colab/colab_shared/anaconda3/lib/python3.9/site-packages/distributed/worker.py\", line 1762, in get_data\n",
      "    response = await comm.read(deserializers=serializers)\n",
      "  File \"/mnt/colab/colab_shared/anaconda3/lib/python3.9/site-packages/distributed/comm/tcp.py\", line 241, in read\n",
      "    convert_stream_closed_error(self, e)\n",
      "  File \"/mnt/colab/colab_shared/anaconda3/lib/python3.9/site-packages/distributed/comm/tcp.py\", line 144, in convert_stream_closed_error\n",
      "    raise CommClosedError(f\"in {obj}: {exc}\") from exc\n",
      "distributed.comm.core.CommClosedError: in <TCP (closed)  local=tcp://10.35.76.107:33687 remote=tcp://10.35.76.107:45550>: Stream is closed\n",
      "2024-08-16 14:46:18,043 - distributed.worker - ERROR - failed during get data with tcp://10.35.76.107:45221 -> tcp://10.35.76.107:37495\n",
      "Traceback (most recent call last):\n",
      "  File \"/mnt/colab/colab_shared/anaconda3/lib/python3.9/site-packages/distributed/comm/tcp.py\", line 225, in read\n",
      "    frames_nbytes = await stream.read_bytes(fmt_size)\n",
      "tornado.iostream.StreamClosedError: Stream is closed\n",
      "\n",
      "The above exception was the direct cause of the following exception:\n",
      "\n",
      "Traceback (most recent call last):\n",
      "  File \"/mnt/colab/colab_shared/anaconda3/lib/python3.9/site-packages/distributed/worker.py\", line 1762, in get_data\n",
      "    response = await comm.read(deserializers=serializers)\n",
      "  File \"/mnt/colab/colab_shared/anaconda3/lib/python3.9/site-packages/distributed/comm/tcp.py\", line 241, in read\n",
      "    convert_stream_closed_error(self, e)\n",
      "  File \"/mnt/colab/colab_shared/anaconda3/lib/python3.9/site-packages/distributed/comm/tcp.py\", line 144, in convert_stream_closed_error\n",
      "    raise CommClosedError(f\"in {obj}: {exc}\") from exc\n",
      "distributed.comm.core.CommClosedError: in <TCP (closed)  local=tcp://10.35.76.107:45221 remote=tcp://10.35.76.107:39276>: Stream is closed\n",
      "2024-08-16 14:46:18,109 - distributed.worker - ERROR - failed during get data with tcp://10.35.76.107:38651 -> tcp://10.35.76.107:37421\n",
      "Traceback (most recent call last):\n",
      "  File \"/mnt/colab/colab_shared/anaconda3/lib/python3.9/site-packages/distributed/comm/tcp.py\", line 225, in read\n",
      "    frames_nbytes = await stream.read_bytes(fmt_size)\n",
      "tornado.iostream.StreamClosedError: Stream is closed\n",
      "\n",
      "The above exception was the direct cause of the following exception:\n",
      "\n",
      "Traceback (most recent call last):\n",
      "  File \"/mnt/colab/colab_shared/anaconda3/lib/python3.9/site-packages/distributed/worker.py\", line 1762, in get_data\n",
      "    response = await comm.read(deserializers=serializers)\n",
      "  File \"/mnt/colab/colab_shared/anaconda3/lib/python3.9/site-packages/distributed/comm/tcp.py\", line 241, in read\n",
      "    convert_stream_closed_error(self, e)\n",
      "  File \"/mnt/colab/colab_shared/anaconda3/lib/python3.9/site-packages/distributed/comm/tcp.py\", line 144, in convert_stream_closed_error\n",
      "    raise CommClosedError(f\"in {obj}: {exc}\") from exc\n",
      "distributed.comm.core.CommClosedError: in <TCP (closed)  local=tcp://10.35.76.107:38651 remote=tcp://10.35.76.107:47948>: Stream is closed\n",
      "2024-08-16 14:46:18,728 - distributed.worker - ERROR - failed during get data with tcp://10.35.76.107:38651 -> tcp://10.35.76.107:43413\n",
      "Traceback (most recent call last):\n",
      "  File \"/mnt/colab/colab_shared/anaconda3/lib/python3.9/site-packages/tornado/iostream.py\", line 867, in _read_to_buffer\n",
      "    bytes_read = self.read_from_fd(buf)\n",
      "  File \"/mnt/colab/colab_shared/anaconda3/lib/python3.9/site-packages/tornado/iostream.py\", line 1140, in read_from_fd\n",
      "    return self.socket.recv_into(buf, len(buf))\n",
      "ConnectionResetError: [Errno 104] Connection reset by peer\n",
      "\n",
      "The above exception was the direct cause of the following exception:\n",
      "\n",
      "Traceback (most recent call last):\n",
      "  File \"/mnt/colab/colab_shared/anaconda3/lib/python3.9/site-packages/distributed/worker.py\", line 1762, in get_data\n",
      "    response = await comm.read(deserializers=serializers)\n",
      "  File \"/mnt/colab/colab_shared/anaconda3/lib/python3.9/site-packages/distributed/comm/tcp.py\", line 241, in read\n",
      "    convert_stream_closed_error(self, e)\n",
      "  File \"/mnt/colab/colab_shared/anaconda3/lib/python3.9/site-packages/distributed/comm/tcp.py\", line 142, in convert_stream_closed_error\n",
      "    raise CommClosedError(f\"in {obj}: {exc.__class__.__name__}: {exc}\") from exc\n",
      "distributed.comm.core.CommClosedError: in <TCP (closed)  local=tcp://10.35.76.107:38651 remote=tcp://10.35.76.107:50214>: ConnectionResetError: [Errno 104] Connection reset by peer\n",
      "2024-08-16 14:46:18,730 - distributed.worker - ERROR - failed during get data with tcp://10.35.76.107:38651 -> tcp://10.35.76.107:37495\n",
      "Traceback (most recent call last):\n",
      "  File \"/mnt/colab/colab_shared/anaconda3/lib/python3.9/site-packages/distributed/comm/tcp.py\", line 225, in read\n",
      "    frames_nbytes = await stream.read_bytes(fmt_size)\n",
      "tornado.iostream.StreamClosedError: Stream is closed\n",
      "\n",
      "The above exception was the direct cause of the following exception:\n",
      "\n",
      "Traceback (most recent call last):\n",
      "  File \"/mnt/colab/colab_shared/anaconda3/lib/python3.9/site-packages/distributed/worker.py\", line 1762, in get_data\n",
      "    response = await comm.read(deserializers=serializers)\n",
      "  File \"/mnt/colab/colab_shared/anaconda3/lib/python3.9/site-packages/distributed/comm/tcp.py\", line 241, in read\n",
      "    convert_stream_closed_error(self, e)\n",
      "  File \"/mnt/colab/colab_shared/anaconda3/lib/python3.9/site-packages/distributed/comm/tcp.py\", line 144, in convert_stream_closed_error\n",
      "    raise CommClosedError(f\"in {obj}: {exc}\") from exc\n",
      "distributed.comm.core.CommClosedError: in <TCP (closed)  local=tcp://10.35.76.107:38651 remote=tcp://10.35.76.107:47934>: Stream is closed\n",
      "2024-08-16 14:46:20,375 - distributed.nanny - WARNING - Worker process still alive after 3.199998474121094 seconds, killing\n",
      "2024-08-16 14:46:20,378 - distributed.nanny - WARNING - Worker process still alive after 3.1999983215332035 seconds, killing\n",
      "2024-08-16 14:46:20,380 - distributed.nanny - WARNING - Worker process still alive after 3.1999987792968754 seconds, killing\n",
      "2024-08-16 14:46:20,560 - distributed.client - ERROR - \n",
      "ConnectionRefusedError: [Errno 111] Connection refused\n",
      "\n",
      "The above exception was the direct cause of the following exception:\n",
      "\n",
      "Traceback (most recent call last):\n",
      "  File \"/mnt/colab/colab_shared/anaconda3/lib/python3.9/site-packages/distributed/comm/core.py\", line 291, in connect\n",
      "    comm = await asyncio.wait_for(\n",
      "  File \"/mnt/colab/colab_shared/anaconda3/lib/python3.9/asyncio/tasks.py\", line 479, in wait_for\n",
      "    return fut.result()\n",
      "  File \"/mnt/colab/colab_shared/anaconda3/lib/python3.9/site-packages/distributed/comm/tcp.py\", line 511, in connect\n",
      "    convert_stream_closed_error(self, e)\n",
      "  File \"/mnt/colab/colab_shared/anaconda3/lib/python3.9/site-packages/distributed/comm/tcp.py\", line 142, in convert_stream_closed_error\n",
      "    raise CommClosedError(f\"in {obj}: {exc.__class__.__name__}: {exc}\") from exc\n",
      "distributed.comm.core.CommClosedError: in <distributed.comm.tcp.TCPConnector object at 0x79af6e0fbf10>: ConnectionRefusedError: [Errno 111] Connection refused\n",
      "\n",
      "During handling of the above exception, another exception occurred:\n",
      "\n",
      "Traceback (most recent call last):\n",
      "  File \"/mnt/colab/colab_shared/anaconda3/lib/python3.9/site-packages/distributed/utils.py\", line 742, in wrapper\n",
      "    return await func(*args, **kwargs)\n",
      "  File \"/mnt/colab/colab_shared/anaconda3/lib/python3.9/site-packages/distributed/client.py\", line 1285, in _reconnect\n",
      "    await self._ensure_connected(timeout=timeout)\n",
      "  File \"/mnt/colab/colab_shared/anaconda3/lib/python3.9/site-packages/distributed/client.py\", line 1315, in _ensure_connected\n",
      "    comm = await connect(\n",
      "  File \"/mnt/colab/colab_shared/anaconda3/lib/python3.9/site-packages/distributed/comm/core.py\", line 315, in connect\n",
      "    await asyncio.sleep(backoff)\n",
      "  File \"/mnt/colab/colab_shared/anaconda3/lib/python3.9/asyncio/tasks.py\", line 652, in sleep\n",
      "    return await future\n",
      "asyncio.exceptions.CancelledError\n",
      "\n",
      "Traceback (most recent call last):\n",
      "  File \"/mnt/colab/colab_shared/anaconda3/lib/python3.9/site-packages/distributed/comm/tcp.py\", line 225, in read\n",
      "    frames_nbytes = await stream.read_bytes(fmt_size)\n",
      "tornado.iostream.StreamClosedError: Stream is closed\n",
      "\n",
      "The above exception was the direct cause of the following exception:\n",
      "\n",
      "Traceback (most recent call last):\n",
      "  File \"/mnt/colab/colab_shared/anaconda3/lib/python3.9/site-packages/distributed/client.py\", line 1482, in _handle_report\n",
      "    msgs = await self.scheduler_comm.comm.read()\n",
      "  File \"/mnt/colab/colab_shared/anaconda3/lib/python3.9/site-packages/distributed/comm/tcp.py\", line 241, in read\n",
      "    convert_stream_closed_error(self, e)\n",
      "  File \"/mnt/colab/colab_shared/anaconda3/lib/python3.9/site-packages/distributed/comm/tcp.py\", line 144, in convert_stream_closed_error\n",
      "    raise CommClosedError(f\"in {obj}: {exc}\") from exc\n",
      "distributed.comm.core.CommClosedError: in <TCP (closed) Client->Scheduler local=tcp://10.35.76.107:40036 remote=tcp://10.35.76.107:36155>: Stream is closed\n",
      "\n",
      "During handling of the above exception, another exception occurred:\n",
      "\n",
      "Traceback (most recent call last):\n",
      "  File \"/mnt/colab/colab_shared/anaconda3/lib/python3.9/site-packages/distributed/utils.py\", line 742, in wrapper\n",
      "    return await func(*args, **kwargs)\n",
      "  File \"/mnt/colab/colab_shared/anaconda3/lib/python3.9/site-packages/distributed/client.py\", line 1490, in _handle_report\n",
      "    await self._reconnect()\n",
      "  File \"/mnt/colab/colab_shared/anaconda3/lib/python3.9/site-packages/distributed/utils.py\", line 742, in wrapper\n",
      "    return await func(*args, **kwargs)\n",
      "  File \"/mnt/colab/colab_shared/anaconda3/lib/python3.9/site-packages/distributed/client.py\", line 1285, in _reconnect\n",
      "    await self._ensure_connected(timeout=timeout)\n",
      "  File \"/mnt/colab/colab_shared/anaconda3/lib/python3.9/site-packages/distributed/client.py\", line 1315, in _ensure_connected\n",
      "    comm = await connect(\n",
      "  File \"/mnt/colab/colab_shared/anaconda3/lib/python3.9/site-packages/distributed/comm/core.py\", line 315, in connect\n",
      "    await asyncio.sleep(backoff)\n",
      "  File \"/mnt/colab/colab_shared/anaconda3/lib/python3.9/asyncio/tasks.py\", line 652, in sleep\n",
      "    return await future\n",
      "asyncio.exceptions.CancelledError\n"
     ]
    },
    {
     "ename": "KeyboardInterrupt",
     "evalue": "",
     "output_type": "error",
     "traceback": [
      "\u001b[0;31m---------------------------------------------------------------------------\u001b[0m",
      "\u001b[0;31mKeyboardInterrupt\u001b[0m                         Traceback (most recent call last)",
      "\u001b[0;32m/tmp/ipykernel_4022655/4248890602.py\u001b[0m in \u001b[0;36m<module>\u001b[0;34m\u001b[0m\n\u001b[1;32m     21\u001b[0m         \u001b[0mprint\u001b[0m\u001b[0;34m(\u001b[0m\u001b[0mos\u001b[0m\u001b[0;34m.\u001b[0m\u001b[0mlistdir\u001b[0m\u001b[0;34m(\u001b[0m\u001b[0mreg_path\u001b[0m\u001b[0;34m)\u001b[0m\u001b[0;34m)\u001b[0m\u001b[0;34m\u001b[0m\u001b[0;34m\u001b[0m\u001b[0m\n\u001b[1;32m     22\u001b[0m \u001b[0;34m\u001b[0m\u001b[0m\n\u001b[0;32m---> 23\u001b[0;31m         local_aligned = distributed_apply_transform(\n\u001b[0m\u001b[1;32m     24\u001b[0m             \u001b[0mfix_highres\u001b[0m\u001b[0;34m,\u001b[0m \u001b[0mmov_highres\u001b[0m\u001b[0;34m,\u001b[0m\u001b[0;34m\u001b[0m\u001b[0;34m\u001b[0m\u001b[0m\n\u001b[1;32m     25\u001b[0m             \u001b[0mfix_image_spacing\u001b[0m\u001b[0;34m,\u001b[0m \u001b[0mmov_image_spacing\u001b[0m\u001b[0;34m,\u001b[0m\u001b[0;34m\u001b[0m\u001b[0;34m\u001b[0m\u001b[0m\n",
      "\u001b[0;32m/mnt/colab/colab_shared/anaconda3/lib/python3.9/site-packages/ClusterWrap/decorator.py\u001b[0m in \u001b[0;36mcreate_or_pass_cluster\u001b[0;34m(*args, **kwargs)\u001b[0m\n\u001b[1;32m     21\u001b[0m             \u001b[0;32mwith\u001b[0m \u001b[0mcluster_constructor\u001b[0m\u001b[0;34m(\u001b[0m\u001b[0;34m**\u001b[0m\u001b[0mx\u001b[0m\u001b[0;34m)\u001b[0m \u001b[0;32mas\u001b[0m \u001b[0mcluster\u001b[0m\u001b[0;34m:\u001b[0m\u001b[0;34m\u001b[0m\u001b[0;34m\u001b[0m\u001b[0m\n\u001b[1;32m     22\u001b[0m                 \u001b[0mkwargs\u001b[0m\u001b[0;34m[\u001b[0m\u001b[0;34m'cluster'\u001b[0m\u001b[0;34m]\u001b[0m \u001b[0;34m=\u001b[0m \u001b[0mcluster\u001b[0m\u001b[0;34m\u001b[0m\u001b[0;34m\u001b[0m\u001b[0m\n\u001b[0;32m---> 23\u001b[0;31m                 \u001b[0;32mreturn\u001b[0m \u001b[0mfunc\u001b[0m\u001b[0;34m(\u001b[0m\u001b[0;34m*\u001b[0m\u001b[0margs\u001b[0m\u001b[0;34m,\u001b[0m \u001b[0;34m**\u001b[0m\u001b[0mkwargs\u001b[0m\u001b[0;34m)\u001b[0m\u001b[0;34m\u001b[0m\u001b[0;34m\u001b[0m\u001b[0m\n\u001b[0m\u001b[1;32m     24\u001b[0m \u001b[0;34m\u001b[0m\u001b[0m\n\u001b[1;32m     25\u001b[0m         \u001b[0;31m# otherwise, there is already a cluster so just run the function\u001b[0m\u001b[0;34m\u001b[0m\u001b[0;34m\u001b[0m\u001b[0m\n",
      "\u001b[0;32m/mnt/nasquatch/data/2p/jonna/Code_Python/Notebooks_Jonna/BigStream/bigstream_github/bigstream/piecewise_transform.py\u001b[0m in \u001b[0;36mdistributed_apply_transform\u001b[0;34m(fix_zarr, mov_zarr, fix_spacing, mov_spacing, transform_list, blocksize, write_path, overlap, dataset_path, temporary_directory, cluster, cluster_kwargs, **kwargs)\u001b[0m\n\u001b[1;32m    212\u001b[0m     \u001b[0;31m# return\u001b[0m\u001b[0;34m\u001b[0m\u001b[0;34m\u001b[0m\u001b[0m\n\u001b[1;32m    213\u001b[0m     \u001b[0;32mif\u001b[0m \u001b[0mwrite_path\u001b[0m\u001b[0;34m:\u001b[0m\u001b[0;34m\u001b[0m\u001b[0;34m\u001b[0m\u001b[0m\n\u001b[0;32m--> 214\u001b[0;31m         \u001b[0mda\u001b[0m\u001b[0;34m.\u001b[0m\u001b[0mto_zarr\u001b[0m\u001b[0;34m(\u001b[0m\u001b[0maligned\u001b[0m\u001b[0;34m,\u001b[0m \u001b[0mwrite_path\u001b[0m\u001b[0;34m,\u001b[0m \u001b[0mcomponent\u001b[0m\u001b[0;34m=\u001b[0m\u001b[0mdataset_path\u001b[0m\u001b[0;34m)\u001b[0m\u001b[0;34m\u001b[0m\u001b[0;34m\u001b[0m\u001b[0m\n\u001b[0m\u001b[1;32m    215\u001b[0m         \u001b[0;32mreturn\u001b[0m \u001b[0mzarr\u001b[0m\u001b[0;34m.\u001b[0m\u001b[0mopen\u001b[0m\u001b[0;34m(\u001b[0m\u001b[0mwrite_path\u001b[0m\u001b[0;34m,\u001b[0m \u001b[0;34m'r+'\u001b[0m\u001b[0;34m)\u001b[0m\u001b[0;34m\u001b[0m\u001b[0;34m\u001b[0m\u001b[0m\n\u001b[1;32m    216\u001b[0m     \u001b[0;32melse\u001b[0m\u001b[0;34m:\u001b[0m\u001b[0;34m\u001b[0m\u001b[0;34m\u001b[0m\u001b[0m\n",
      "\u001b[0;32m/mnt/colab/colab_shared/anaconda3/lib/python3.9/site-packages/dask/array/core.py\u001b[0m in \u001b[0;36mto_zarr\u001b[0;34m(arr, url, component, storage_options, overwrite, region, compute, return_stored, **kwargs)\u001b[0m\n\u001b[1;32m   3692\u001b[0m         \u001b[0;34m**\u001b[0m\u001b[0mkwargs\u001b[0m\u001b[0;34m,\u001b[0m\u001b[0;34m\u001b[0m\u001b[0;34m\u001b[0m\u001b[0m\n\u001b[1;32m   3693\u001b[0m     )\n\u001b[0;32m-> 3694\u001b[0;31m     \u001b[0;32mreturn\u001b[0m \u001b[0marr\u001b[0m\u001b[0;34m.\u001b[0m\u001b[0mstore\u001b[0m\u001b[0;34m(\u001b[0m\u001b[0mz\u001b[0m\u001b[0;34m,\u001b[0m \u001b[0mlock\u001b[0m\u001b[0;34m=\u001b[0m\u001b[0;32mFalse\u001b[0m\u001b[0;34m,\u001b[0m \u001b[0mcompute\u001b[0m\u001b[0;34m=\u001b[0m\u001b[0mcompute\u001b[0m\u001b[0;34m,\u001b[0m \u001b[0mreturn_stored\u001b[0m\u001b[0;34m=\u001b[0m\u001b[0mreturn_stored\u001b[0m\u001b[0;34m)\u001b[0m\u001b[0;34m\u001b[0m\u001b[0;34m\u001b[0m\u001b[0m\n\u001b[0m\u001b[1;32m   3695\u001b[0m \u001b[0;34m\u001b[0m\u001b[0m\n\u001b[1;32m   3696\u001b[0m \u001b[0;34m\u001b[0m\u001b[0m\n",
      "\u001b[0;32m/mnt/colab/colab_shared/anaconda3/lib/python3.9/site-packages/dask/array/core.py\u001b[0m in \u001b[0;36mstore\u001b[0;34m(self, target, **kwargs)\u001b[0m\n\u001b[1;32m   1766\u001b[0m     \u001b[0;34m@\u001b[0m\u001b[0mwraps\u001b[0m\u001b[0;34m(\u001b[0m\u001b[0mstore\u001b[0m\u001b[0;34m)\u001b[0m\u001b[0;34m\u001b[0m\u001b[0;34m\u001b[0m\u001b[0m\n\u001b[1;32m   1767\u001b[0m     \u001b[0;32mdef\u001b[0m \u001b[0mstore\u001b[0m\u001b[0;34m(\u001b[0m\u001b[0mself\u001b[0m\u001b[0;34m,\u001b[0m \u001b[0mtarget\u001b[0m\u001b[0;34m,\u001b[0m \u001b[0;34m**\u001b[0m\u001b[0mkwargs\u001b[0m\u001b[0;34m)\u001b[0m\u001b[0;34m:\u001b[0m\u001b[0;34m\u001b[0m\u001b[0;34m\u001b[0m\u001b[0m\n\u001b[0;32m-> 1768\u001b[0;31m         \u001b[0mr\u001b[0m \u001b[0;34m=\u001b[0m \u001b[0mstore\u001b[0m\u001b[0;34m(\u001b[0m\u001b[0;34m[\u001b[0m\u001b[0mself\u001b[0m\u001b[0;34m]\u001b[0m\u001b[0;34m,\u001b[0m \u001b[0;34m[\u001b[0m\u001b[0mtarget\u001b[0m\u001b[0;34m]\u001b[0m\u001b[0;34m,\u001b[0m \u001b[0;34m**\u001b[0m\u001b[0mkwargs\u001b[0m\u001b[0;34m)\u001b[0m\u001b[0;34m\u001b[0m\u001b[0;34m\u001b[0m\u001b[0m\n\u001b[0m\u001b[1;32m   1769\u001b[0m \u001b[0;34m\u001b[0m\u001b[0m\n\u001b[1;32m   1770\u001b[0m         \u001b[0;32mif\u001b[0m \u001b[0mkwargs\u001b[0m\u001b[0;34m.\u001b[0m\u001b[0mget\u001b[0m\u001b[0;34m(\u001b[0m\u001b[0;34m\"return_stored\"\u001b[0m\u001b[0;34m,\u001b[0m \u001b[0;32mFalse\u001b[0m\u001b[0;34m)\u001b[0m\u001b[0;34m:\u001b[0m\u001b[0;34m\u001b[0m\u001b[0;34m\u001b[0m\u001b[0m\n",
      "\u001b[0;32m/mnt/colab/colab_shared/anaconda3/lib/python3.9/site-packages/dask/array/core.py\u001b[0m in \u001b[0;36mstore\u001b[0;34m(***failed resolving arguments***)\u001b[0m\n\u001b[1;32m   1234\u001b[0m     \u001b[0;32melif\u001b[0m \u001b[0mcompute\u001b[0m\u001b[0;34m:\u001b[0m\u001b[0;34m\u001b[0m\u001b[0;34m\u001b[0m\u001b[0m\n\u001b[1;32m   1235\u001b[0m         \u001b[0mstore_dsk\u001b[0m \u001b[0;34m=\u001b[0m \u001b[0mHighLevelGraph\u001b[0m\u001b[0;34m(\u001b[0m\u001b[0mlayers\u001b[0m\u001b[0;34m,\u001b[0m \u001b[0mdependencies\u001b[0m\u001b[0;34m)\u001b[0m\u001b[0;34m\u001b[0m\u001b[0;34m\u001b[0m\u001b[0m\n\u001b[0;32m-> 1236\u001b[0;31m         \u001b[0mcompute_as_if_collection\u001b[0m\u001b[0;34m(\u001b[0m\u001b[0mArray\u001b[0m\u001b[0;34m,\u001b[0m \u001b[0mstore_dsk\u001b[0m\u001b[0;34m,\u001b[0m \u001b[0mmap_keys\u001b[0m\u001b[0;34m,\u001b[0m \u001b[0;34m**\u001b[0m\u001b[0mkwargs\u001b[0m\u001b[0;34m)\u001b[0m\u001b[0;34m\u001b[0m\u001b[0;34m\u001b[0m\u001b[0m\n\u001b[0m\u001b[1;32m   1237\u001b[0m         \u001b[0;32mreturn\u001b[0m \u001b[0;32mNone\u001b[0m\u001b[0;34m\u001b[0m\u001b[0;34m\u001b[0m\u001b[0m\n\u001b[1;32m   1238\u001b[0m \u001b[0;34m\u001b[0m\u001b[0m\n",
      "\u001b[0;32m/mnt/colab/colab_shared/anaconda3/lib/python3.9/site-packages/dask/base.py\u001b[0m in \u001b[0;36mcompute_as_if_collection\u001b[0;34m(cls, dsk, keys, scheduler, get, **kwargs)\u001b[0m\n\u001b[1;32m    340\u001b[0m     \u001b[0mschedule\u001b[0m \u001b[0;34m=\u001b[0m \u001b[0mget_scheduler\u001b[0m\u001b[0;34m(\u001b[0m\u001b[0mscheduler\u001b[0m\u001b[0;34m=\u001b[0m\u001b[0mscheduler\u001b[0m\u001b[0;34m,\u001b[0m \u001b[0mcls\u001b[0m\u001b[0;34m=\u001b[0m\u001b[0mcls\u001b[0m\u001b[0;34m,\u001b[0m \u001b[0mget\u001b[0m\u001b[0;34m=\u001b[0m\u001b[0mget\u001b[0m\u001b[0;34m)\u001b[0m\u001b[0;34m\u001b[0m\u001b[0;34m\u001b[0m\u001b[0m\n\u001b[1;32m    341\u001b[0m     \u001b[0mdsk2\u001b[0m \u001b[0;34m=\u001b[0m \u001b[0moptimization_function\u001b[0m\u001b[0;34m(\u001b[0m\u001b[0mcls\u001b[0m\u001b[0;34m)\u001b[0m\u001b[0;34m(\u001b[0m\u001b[0mdsk\u001b[0m\u001b[0;34m,\u001b[0m \u001b[0mkeys\u001b[0m\u001b[0;34m,\u001b[0m \u001b[0;34m**\u001b[0m\u001b[0mkwargs\u001b[0m\u001b[0;34m)\u001b[0m\u001b[0;34m\u001b[0m\u001b[0;34m\u001b[0m\u001b[0m\n\u001b[0;32m--> 342\u001b[0;31m     \u001b[0;32mreturn\u001b[0m \u001b[0mschedule\u001b[0m\u001b[0;34m(\u001b[0m\u001b[0mdsk2\u001b[0m\u001b[0;34m,\u001b[0m \u001b[0mkeys\u001b[0m\u001b[0;34m,\u001b[0m \u001b[0;34m**\u001b[0m\u001b[0mkwargs\u001b[0m\u001b[0;34m)\u001b[0m\u001b[0;34m\u001b[0m\u001b[0;34m\u001b[0m\u001b[0m\n\u001b[0m\u001b[1;32m    343\u001b[0m \u001b[0;34m\u001b[0m\u001b[0m\n\u001b[1;32m    344\u001b[0m \u001b[0;34m\u001b[0m\u001b[0m\n",
      "\u001b[0;32m/mnt/colab/colab_shared/anaconda3/lib/python3.9/site-packages/distributed/client.py\u001b[0m in \u001b[0;36mget\u001b[0;34m(self, dsk, keys, workers, allow_other_workers, resources, sync, asynchronous, direct, retries, priority, fifo_timeout, actors, **kwargs)\u001b[0m\n\u001b[1;32m   3094\u001b[0m                     \u001b[0mshould_rejoin\u001b[0m \u001b[0;34m=\u001b[0m \u001b[0;32mFalse\u001b[0m\u001b[0;34m\u001b[0m\u001b[0;34m\u001b[0m\u001b[0m\n\u001b[1;32m   3095\u001b[0m             \u001b[0;32mtry\u001b[0m\u001b[0;34m:\u001b[0m\u001b[0;34m\u001b[0m\u001b[0;34m\u001b[0m\u001b[0m\n\u001b[0;32m-> 3096\u001b[0;31m                 \u001b[0mresults\u001b[0m \u001b[0;34m=\u001b[0m \u001b[0mself\u001b[0m\u001b[0;34m.\u001b[0m\u001b[0mgather\u001b[0m\u001b[0;34m(\u001b[0m\u001b[0mpacked\u001b[0m\u001b[0;34m,\u001b[0m \u001b[0masynchronous\u001b[0m\u001b[0;34m=\u001b[0m\u001b[0masynchronous\u001b[0m\u001b[0;34m,\u001b[0m \u001b[0mdirect\u001b[0m\u001b[0;34m=\u001b[0m\u001b[0mdirect\u001b[0m\u001b[0;34m)\u001b[0m\u001b[0;34m\u001b[0m\u001b[0;34m\u001b[0m\u001b[0m\n\u001b[0m\u001b[1;32m   3097\u001b[0m             \u001b[0;32mfinally\u001b[0m\u001b[0;34m:\u001b[0m\u001b[0;34m\u001b[0m\u001b[0;34m\u001b[0m\u001b[0m\n\u001b[1;32m   3098\u001b[0m                 \u001b[0;32mfor\u001b[0m \u001b[0mf\u001b[0m \u001b[0;32min\u001b[0m \u001b[0mfutures\u001b[0m\u001b[0;34m.\u001b[0m\u001b[0mvalues\u001b[0m\u001b[0;34m(\u001b[0m\u001b[0;34m)\u001b[0m\u001b[0;34m:\u001b[0m\u001b[0;34m\u001b[0m\u001b[0;34m\u001b[0m\u001b[0m\n",
      "\u001b[0;32m/mnt/colab/colab_shared/anaconda3/lib/python3.9/site-packages/distributed/client.py\u001b[0m in \u001b[0;36mgather\u001b[0;34m(self, futures, errors, direct, asynchronous)\u001b[0m\n\u001b[1;32m   2263\u001b[0m             \u001b[0;32melse\u001b[0m\u001b[0;34m:\u001b[0m\u001b[0;34m\u001b[0m\u001b[0;34m\u001b[0m\u001b[0m\n\u001b[1;32m   2264\u001b[0m                 \u001b[0mlocal_worker\u001b[0m \u001b[0;34m=\u001b[0m \u001b[0;32mNone\u001b[0m\u001b[0;34m\u001b[0m\u001b[0;34m\u001b[0m\u001b[0m\n\u001b[0;32m-> 2265\u001b[0;31m             return self.sync(\n\u001b[0m\u001b[1;32m   2266\u001b[0m                 \u001b[0mself\u001b[0m\u001b[0;34m.\u001b[0m\u001b[0m_gather\u001b[0m\u001b[0;34m,\u001b[0m\u001b[0;34m\u001b[0m\u001b[0;34m\u001b[0m\u001b[0m\n\u001b[1;32m   2267\u001b[0m                 \u001b[0mfutures\u001b[0m\u001b[0;34m,\u001b[0m\u001b[0;34m\u001b[0m\u001b[0;34m\u001b[0m\u001b[0m\n",
      "\u001b[0;32m/mnt/colab/colab_shared/anaconda3/lib/python3.9/site-packages/distributed/utils.py\u001b[0m in \u001b[0;36msync\u001b[0;34m(self, func, asynchronous, callback_timeout, *args, **kwargs)\u001b[0m\n\u001b[1;32m    337\u001b[0m             \u001b[0;32mreturn\u001b[0m \u001b[0mfuture\u001b[0m\u001b[0;34m\u001b[0m\u001b[0;34m\u001b[0m\u001b[0m\n\u001b[1;32m    338\u001b[0m         \u001b[0;32melse\u001b[0m\u001b[0;34m:\u001b[0m\u001b[0;34m\u001b[0m\u001b[0;34m\u001b[0m\u001b[0m\n\u001b[0;32m--> 339\u001b[0;31m             return sync(\n\u001b[0m\u001b[1;32m    340\u001b[0m                 \u001b[0mself\u001b[0m\u001b[0;34m.\u001b[0m\u001b[0mloop\u001b[0m\u001b[0;34m,\u001b[0m \u001b[0mfunc\u001b[0m\u001b[0;34m,\u001b[0m \u001b[0;34m*\u001b[0m\u001b[0margs\u001b[0m\u001b[0;34m,\u001b[0m \u001b[0mcallback_timeout\u001b[0m\u001b[0;34m=\u001b[0m\u001b[0mcallback_timeout\u001b[0m\u001b[0;34m,\u001b[0m \u001b[0;34m**\u001b[0m\u001b[0mkwargs\u001b[0m\u001b[0;34m\u001b[0m\u001b[0;34m\u001b[0m\u001b[0m\n\u001b[1;32m    341\u001b[0m             )\n",
      "\u001b[0;32m/mnt/colab/colab_shared/anaconda3/lib/python3.9/site-packages/distributed/utils.py\u001b[0m in \u001b[0;36msync\u001b[0;34m(loop, func, callback_timeout, *args, **kwargs)\u001b[0m\n\u001b[1;32m    400\u001b[0m     \u001b[0;32melse\u001b[0m\u001b[0;34m:\u001b[0m\u001b[0;34m\u001b[0m\u001b[0;34m\u001b[0m\u001b[0m\n\u001b[1;32m    401\u001b[0m         \u001b[0;32mwhile\u001b[0m \u001b[0;32mnot\u001b[0m \u001b[0me\u001b[0m\u001b[0;34m.\u001b[0m\u001b[0mis_set\u001b[0m\u001b[0;34m(\u001b[0m\u001b[0;34m)\u001b[0m\u001b[0;34m:\u001b[0m\u001b[0;34m\u001b[0m\u001b[0;34m\u001b[0m\u001b[0m\n\u001b[0;32m--> 402\u001b[0;31m             \u001b[0mwait\u001b[0m\u001b[0;34m(\u001b[0m\u001b[0;36m10\u001b[0m\u001b[0;34m)\u001b[0m\u001b[0;34m\u001b[0m\u001b[0;34m\u001b[0m\u001b[0m\n\u001b[0m\u001b[1;32m    403\u001b[0m \u001b[0;34m\u001b[0m\u001b[0m\n\u001b[1;32m    404\u001b[0m     \u001b[0;32mif\u001b[0m \u001b[0merror\u001b[0m\u001b[0;34m:\u001b[0m\u001b[0;34m\u001b[0m\u001b[0;34m\u001b[0m\u001b[0m\n",
      "\u001b[0;32m/mnt/colab/colab_shared/anaconda3/lib/python3.9/site-packages/distributed/utils.py\u001b[0m in \u001b[0;36mwait\u001b[0;34m(timeout)\u001b[0m\n\u001b[1;32m    389\u001b[0m     \u001b[0;32mdef\u001b[0m \u001b[0mwait\u001b[0m\u001b[0;34m(\u001b[0m\u001b[0mtimeout\u001b[0m\u001b[0;34m)\u001b[0m\u001b[0;34m:\u001b[0m\u001b[0;34m\u001b[0m\u001b[0;34m\u001b[0m\u001b[0m\n\u001b[1;32m    390\u001b[0m         \u001b[0;32mtry\u001b[0m\u001b[0;34m:\u001b[0m\u001b[0;34m\u001b[0m\u001b[0;34m\u001b[0m\u001b[0m\n\u001b[0;32m--> 391\u001b[0;31m             \u001b[0;32mreturn\u001b[0m \u001b[0me\u001b[0m\u001b[0;34m.\u001b[0m\u001b[0mwait\u001b[0m\u001b[0;34m(\u001b[0m\u001b[0mtimeout\u001b[0m\u001b[0;34m)\u001b[0m\u001b[0;34m\u001b[0m\u001b[0;34m\u001b[0m\u001b[0m\n\u001b[0m\u001b[1;32m    392\u001b[0m         \u001b[0;32mexcept\u001b[0m \u001b[0mKeyboardInterrupt\u001b[0m\u001b[0;34m:\u001b[0m\u001b[0;34m\u001b[0m\u001b[0;34m\u001b[0m\u001b[0m\n\u001b[1;32m    393\u001b[0m             \u001b[0mloop\u001b[0m\u001b[0;34m.\u001b[0m\u001b[0madd_callback\u001b[0m\u001b[0;34m(\u001b[0m\u001b[0mcancel\u001b[0m\u001b[0;34m)\u001b[0m\u001b[0;34m\u001b[0m\u001b[0;34m\u001b[0m\u001b[0m\n",
      "\u001b[0;32m/mnt/colab/colab_shared/anaconda3/lib/python3.9/threading.py\u001b[0m in \u001b[0;36mwait\u001b[0;34m(self, timeout)\u001b[0m\n\u001b[1;32m    579\u001b[0m             \u001b[0msignaled\u001b[0m \u001b[0;34m=\u001b[0m \u001b[0mself\u001b[0m\u001b[0;34m.\u001b[0m\u001b[0m_flag\u001b[0m\u001b[0;34m\u001b[0m\u001b[0;34m\u001b[0m\u001b[0m\n\u001b[1;32m    580\u001b[0m             \u001b[0;32mif\u001b[0m \u001b[0;32mnot\u001b[0m \u001b[0msignaled\u001b[0m\u001b[0;34m:\u001b[0m\u001b[0;34m\u001b[0m\u001b[0;34m\u001b[0m\u001b[0m\n\u001b[0;32m--> 581\u001b[0;31m                 \u001b[0msignaled\u001b[0m \u001b[0;34m=\u001b[0m \u001b[0mself\u001b[0m\u001b[0;34m.\u001b[0m\u001b[0m_cond\u001b[0m\u001b[0;34m.\u001b[0m\u001b[0mwait\u001b[0m\u001b[0;34m(\u001b[0m\u001b[0mtimeout\u001b[0m\u001b[0;34m)\u001b[0m\u001b[0;34m\u001b[0m\u001b[0;34m\u001b[0m\u001b[0m\n\u001b[0m\u001b[1;32m    582\u001b[0m             \u001b[0;32mreturn\u001b[0m \u001b[0msignaled\u001b[0m\u001b[0;34m\u001b[0m\u001b[0;34m\u001b[0m\u001b[0m\n\u001b[1;32m    583\u001b[0m \u001b[0;34m\u001b[0m\u001b[0m\n",
      "\u001b[0;32m/mnt/colab/colab_shared/anaconda3/lib/python3.9/threading.py\u001b[0m in \u001b[0;36mwait\u001b[0;34m(self, timeout)\u001b[0m\n\u001b[1;32m    314\u001b[0m             \u001b[0;32melse\u001b[0m\u001b[0;34m:\u001b[0m\u001b[0;34m\u001b[0m\u001b[0;34m\u001b[0m\u001b[0m\n\u001b[1;32m    315\u001b[0m                 \u001b[0;32mif\u001b[0m \u001b[0mtimeout\u001b[0m \u001b[0;34m>\u001b[0m \u001b[0;36m0\u001b[0m\u001b[0;34m:\u001b[0m\u001b[0;34m\u001b[0m\u001b[0;34m\u001b[0m\u001b[0m\n\u001b[0;32m--> 316\u001b[0;31m                     \u001b[0mgotit\u001b[0m \u001b[0;34m=\u001b[0m \u001b[0mwaiter\u001b[0m\u001b[0;34m.\u001b[0m\u001b[0macquire\u001b[0m\u001b[0;34m(\u001b[0m\u001b[0;32mTrue\u001b[0m\u001b[0;34m,\u001b[0m \u001b[0mtimeout\u001b[0m\u001b[0;34m)\u001b[0m\u001b[0;34m\u001b[0m\u001b[0;34m\u001b[0m\u001b[0m\n\u001b[0m\u001b[1;32m    317\u001b[0m                 \u001b[0;32melse\u001b[0m\u001b[0;34m:\u001b[0m\u001b[0;34m\u001b[0m\u001b[0;34m\u001b[0m\u001b[0m\n\u001b[1;32m    318\u001b[0m                     \u001b[0mgotit\u001b[0m \u001b[0;34m=\u001b[0m \u001b[0mwaiter\u001b[0m\u001b[0;34m.\u001b[0m\u001b[0macquire\u001b[0m\u001b[0;34m(\u001b[0m\u001b[0;32mFalse\u001b[0m\u001b[0;34m)\u001b[0m\u001b[0;34m\u001b[0m\u001b[0;34m\u001b[0m\u001b[0m\n",
      "\u001b[0;31mKeyboardInterrupt\u001b[0m: "
     ]
    }
   ],
   "source": [
    "\n",
    "\n",
    "reg_path =  Path(manifest['base_path']) / manifest['mouse_name'] / 'OUTPUT' / 'HCR' / 'registrations'/ round_folder_name / round_to_rounds[HCR_round_to_register]['registrations'][0]\n",
    "full_stack_path =  Path(manifest['base_path']) / manifest['mouse_name'] / 'OUTPUT' / 'HCR' \n",
    "affine = np.loadtxt(fr\"{reg_path}/_affine.mat\")\n",
    "deform = zarr.load(fr\"{reg_path}/deform.zarr\")\n",
    "\n",
    "data_paths = []\n",
    "#Loop through channels starting with 1, which ignores the first channel which has already been registered\n",
    "for channel in trange(1,HCR_mov_round.shape[1]):\n",
    "    \n",
    "    if 1:#try:\n",
    "        fix_highres = HCR_fix_round.transpose(2,1,0) # from Z,X,Y to Y,X,Z\n",
    "        \n",
    "        HCR_mov_round_C = HCR_mov_round[:,channel]\n",
    "        # Move Image\n",
    "        mov_highres = HCR_mov_round_C.transpose(2,1,0)\n",
    "\n",
    "\n",
    "\n",
    "\n",
    "        # apply the transforms\n",
    "        print(os.listdir(reg_path))\n",
    "\n",
    "        local_aligned = distributed_apply_transform(\n",
    "            fix_highres, mov_highres,\n",
    "            fix_image_spacing, mov_image_spacing,\n",
    "            transform_list=[affine, deform],\n",
    "            blocksize=blocksize,\n",
    "            write_path=fr\"{reg_path}/out_c{channel}.zarr\")\n",
    "        print(fr'saved output {reg_path}/out_c{channel}.zarr')\n",
    "\n",
    "        data = zarr.load(fr\"{reg_path}/out_c{channel}.zarr\")\n",
    "        data_paths.append(fr\"{reg_path}/out_c{channel}.zarr\")\n",
    "        tif_imwrite(fr\"{reg_path}/out_c{channel}.tiff\"\n",
    "                    ,data.transpose(2,1,0)\n",
    "                    )\n",
    "full_stack = [] \n",
    "for path in data_paths:\n",
    "    full_stack.append(zarr.load(path))\n",
    "full_stack = np.stack(full_stack)\n",
    "tif_imwrite(full_stack_path / f\"{round_folder_name}.tiff\"\n",
    "            ,full_stack.transpose(3,2,1,0)\n",
    "            )\n",
    "\n",
    "#         \"A:\\ezfish_test_delete\\RG23_SLICE002\\RG23_SLICE2_HCR1.tif\""
   ]
  },
  {
   "cell_type": "code",
   "execution_count": 33,
   "id": "53edbf6e",
   "metadata": {},
   "outputs": [
    {
     "data": {
      "text/plain": [
       "True"
      ]
     },
     "execution_count": 33,
     "metadata": {},
     "output_type": "execute_result"
    }
   ],
   "source": [
    "'registrations' in round_to_rounds['03']"
   ]
  },
  {
   "cell_type": "markdown",
   "id": "53f4dc6c",
   "metadata": {},
   "source": [
    "### PARAMETERS"
   ]
  },
  {
   "cell_type": "code",
   "execution_count": null,
   "id": "859edb6e",
   "metadata": {},
   "outputs": [],
   "source": [
    "# Choose the round to register\n",
    "HCR_round_to_register = '03'# 02,03...?\n",
    "\n",
    "assert HCR_round_to_register in round_to_rounds.keys(), f\"round {HCR_round_to_register} not found in rounds to register\"\n",
    "\n"
   ]
  }
 ],
 "metadata": {
  "kernelspec": {
   "display_name": "Python 3 (ipykernel)",
   "language": "python",
   "name": "python3"
  },
  "language_info": {
   "codemirror_mode": {
    "name": "ipython",
    "version": 3
   },
   "file_extension": ".py",
   "mimetype": "text/x-python",
   "name": "python",
   "nbconvert_exporter": "python",
   "pygments_lexer": "ipython3",
   "version": "3.9.15"
  },
  "toc": {
   "base_numbering": 1,
   "nav_menu": {},
   "number_sections": true,
   "sideBar": true,
   "skip_h1_title": false,
   "title_cell": "Table of Contents",
   "title_sidebar": "Contents",
   "toc_cell": false,
   "toc_position": {},
   "toc_section_display": true,
   "toc_window_display": false
  }
 },
 "nbformat": 4,
 "nbformat_minor": 5
}
