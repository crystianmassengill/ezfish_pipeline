{
 "cells": [
  {
   "cell_type": "markdown",
   "id": "9979782c",
   "metadata": {},
   "source": [
    "# scan different paramters for the first high res registartion\n",
    "This process takes a lot of time and should be done on a few parameters.\n"
   ]
  },
  {
   "cell_type": "code",
   "execution_count": 13,
   "id": "0fccea53",
   "metadata": {},
   "outputs": [
    {
     "name": "stdout",
     "output_type": "stream",
     "text": [
      "The autoreload extension is already loaded. To reload it, use:\n",
      "  %reload_ext autoreload\n",
      "All files found\n",
      "Rounds available for register:\n",
      "02 ['DAPI', 'FOXP2', 'CCK', 'SST']\n",
      "03 ['DAPI', 'CALCA', 'TAC1']\n",
      "04 ['DAPI', 'GRP', 'SYT10', 'CHAT']\n"
     ]
    }
   ],
   "source": [
    "%load_ext autoreload\n",
    "%autoreload 2\n",
    "from reg_imports import verify_rounds, hjson, Path, np, tif_imread, tif_imwrite, tqdm, register_lowres, easifish_registration_pipeline\n",
    "\n",
    "\n",
    "# Load the manifest file\n",
    "hjson_file = '/home/oamsalem/code/Projects/EZfish/ezfish_pipeline/examples/CIM132.hjson'\n",
    "manifest = hjson.load(open(hjson_file, 'r'))\n",
    "\n",
    "\n",
    "output_folder = Path(manifest['base_path']) / manifest['mouse_name'] / 'OUTPUT' / 'HCR' / 'registrations' \n",
    "round_to_rounds, reference_round, _ = verify_rounds(manifest)"
   ]
  },
  {
   "cell_type": "markdown",
   "id": "2688d22a",
   "metadata": {},
   "source": [
    "### PARAMETERS"
   ]
  },
  {
   "cell_type": "code",
   "execution_count": 20,
   "id": "649e7b3c",
   "metadata": {},
   "outputs": [],
   "source": [
    "# Choose the round to register\n",
    "HCR_round_to_register = '02'# 02,03...?\n",
    "\n",
    "assert HCR_round_to_register in round_to_rounds.keys(), f\"round {HCR_round_to_register} not found in rounds to register\"\n",
    "\n"
   ]
  },
  {
   "cell_type": "markdown",
   "id": "2e5bfd66",
   "metadata": {},
   "source": [
    "### Image parameters "
   ]
  },
  {
   "cell_type": "code",
   "execution_count": 21,
   "id": "bf0486c4",
   "metadata": {},
   "outputs": [],
   "source": [
    "mov_round = round_to_rounds[HCR_round_to_register]\n",
    "# File names\n",
    "HCR_fix_image_path = reference_round['image_path'] # The fix image that all other rounds will be registerd to (include all channels!)\n",
    "HCR_mov_image_path = mov_round['image_path'] # The image that will be registered to the fix image (include all channels!)\n",
    "\n",
    "round_folder_name = f\"HCR{HCR_round_to_register}_to_HCR{reference_round['round']}\"\n",
    "\n",
    "# resolution of the images\n",
    "fix_image_spacing = np.array(reference_round['resolution']) # Y,X,Z\n",
    "mov_image_spacing = np.array(mov_round['resolution']) # Y,X,Z\n",
    "\n",
    "# spatial downsampling, probably no need to test. (Changed x and y from 3 to 2 for CIM round 5)\n",
    "red_mut_x = manifest['HCR_to_HCR_params']['red_mut_x']\n",
    "red_mut_y = manifest['HCR_to_HCR_params']['red_mut_y']\n",
    "red_mut_z = manifest['HCR_to_HCR_params']['red_mut_z']\n",
    "\n"
   ]
  },
  {
   "cell_type": "markdown",
   "id": "a1bd8d46",
   "metadata": {},
   "source": [
    "#### Load the images"
   ]
  },
  {
   "cell_type": "code",
   "execution_count": 25,
   "id": "d7344ab9",
   "metadata": {},
   "outputs": [
    {
     "name": "stdout",
     "output_type": "stream",
     "text": [
      "The dimensions of the high-resolution fixed image are: (1969, 1930, 78)\n",
      "The dimensions of the high-resolution moving image are: (1944, 1939, 38)\n",
      "The dimensions of the low-resolution moving image are: (648, 647, 19)\n"
     ]
    }
   ],
   "source": [
    "# Take first channel, I always assume that the first channel is what we want to register\n",
    "fix_highres = tif_imread(HCR_fix_image_path)[:,0].transpose(2,1,0) # take first channlel and transform from Z,X,Y to Y,X,Z\n",
    "mov_highres = tif_imread(HCR_mov_image_path)[:,0].transpose(2,1,0) # take first channlel and transform from Z,X,Y to Y,X,Z\n",
    "\n",
    "\n",
    "fix_lowres = fix_highres[::red_mut_y,::red_mut_x,::red_mut_z]\n",
    "fix_lowres_spacing = fix_image_spacing * np.array([red_mut_y,red_mut_x,red_mut_z])\n",
    "\n",
    "\n",
    "mov_lowres = mov_highres[::red_mut_y,::red_mut_x,::red_mut_z]\n",
    "mov_lowres_spacing = mov_image_spacing * np.array([red_mut_y,red_mut_x,red_mut_z])\n",
    "\n",
    "# Print the dimensions of the high-resolution and low-resolution images\n",
    "print(f\"The dimensions of the high-resolution fixed image are: {fix_highres.shape}\")\n",
    "print(f\"The dimensions of the high-resolution moving image are: {mov_highres.shape}\")\n",
    "print(f\"The dimensions of the low-resolution moving image are: {mov_lowres.shape}\")"
   ]
  },
  {
   "cell_type": "markdown",
   "id": "03b07179",
   "metadata": {},
   "source": [
    "### bigstream parameters (Pick what seems to have been good from 1_scan_lowres_parameters, 1 set)"
   ]
  },
  {
   "cell_type": "code",
   "execution_count": 23,
   "id": "dbe2f98e",
   "metadata": {},
   "outputs": [],
   "source": [
    "### Global parameters ###\n",
    "## These should be scanned in the 1_scan_lowres_parameters notebook, should use only 1 set here##\n",
    "\n",
    "# radius for local ransac for each spot (in pixles for LOW res image) - how many pixels to look around a spot for match\n",
    "g_radii_z = [1]\n",
    "g_radii_xy = [25]\n",
    "\n",
    "# when searching for blobs for ransac, what is the radius for the search alogorithem (in pixles for low res image)\n",
    "g_bsize_s_b = [[3,30]]\n",
    "\n",
    "# what is the minumum correlation for a spot to be considered a match\n",
    "g_m_tresholds = [0.2] \n",
    "\n",
    "### Local parameters ###\n",
    "\n",
    "# block size for local affine and deformable registration # [[x,y,z]]\n",
    "blocksize_to_scan = [[50,50,12],[100, 100, 25]]\n",
    "\n",
    "# Radius for local RANSAC for each spot (in pixels for high res image) - how many pixels to look around a spot for match\n",
    "radii_z = [1, 5, 10]\n",
    "radii_xy = [15,25, 50]\n",
    "bsize_s_b = [[5, 70]]\n",
    "m_tresholds = [0.2]\n",
    "\n",
    "# Example configurations\n",
    "# [z = 3, xy = 15, 3,20 bs, th = 0.2] # RG002\n",
    "# [z = 1, xy = 25, 3,20 bs, th = 0.2] # CIM132\n"
   ]
  },
  {
   "cell_type": "code",
   "execution_count": 24,
   "id": "6b1920ef",
   "metadata": {},
   "outputs": [
    {
     "name": "stdout",
     "output_type": "stream",
     "text": [
      "/mnt/bananas/data/ezfish/jonna/CIM132/OUTPUT/HCR/registrations/HCR02_to_HCR01/local_params_scan\n"
     ]
    },
    {
     "data": {
      "application/vnd.jupyter.widget-view+json": {
       "model_id": "d499eb5a05d7412fa7a305b1b823b4ad",
       "version_major": 2,
       "version_minor": 0
      },
      "text/plain": [
       "  0%|          | 0/1 [00:00<?, ?it/s]"
      ]
     },
     "metadata": {},
     "output_type": "display_data"
    },
    {
     "name": "stdout",
     "output_type": "stream",
     "text": [
      "/mnt/bananas/data/ezfish/jonna/CIM132/OUTPUT/HCR/registrations/HCR02_to_HCR01/local_params_scan_nodeform/rz1_rxy25_bs3to30_mt0.2/bs150_150_15_4_4_bs60to70_mt0.5\n",
      "Fri Aug 23 12:51:53 2024 Spot detection ((3, 3, 3), (30, 30, 30)) completed in 4.707279443740845s\n",
      "Fri Aug 23 12:51:55 2024 Spot detection ((3, 3, 3), (30, 30, 30)) completed in 2.042797565460205s\n",
      "LEVEL:  0  ITERATION:  0  METRIC:  -0.6108276343778795\n",
      "LEVEL:  0  ITERATION:  1  METRIC:  -0.6027140693312073\n",
      "LEVEL:  0  ITERATION:  2  METRIC:  -0.6035836469978157\n",
      "LEVEL:  0  ITERATION:  3  METRIC:  -0.6044049287975183\n",
      "LEVEL:  0  ITERATION:  4  METRIC:  -0.6052501890153729\n",
      "LEVEL:  0  ITERATION:  5  METRIC:  -0.6060317624649992\n",
      "LEVEL:  0  ITERATION:  6  METRIC:  -0.6069053817850223\n",
      "LEVEL:  0  ITERATION:  7  METRIC:  -0.6077978352856612\n",
      "LEVEL:  0  ITERATION:  8  METRIC:  -0.6085601737788283\n",
      "LEVEL:  0  ITERATION:  9  METRIC:  -0.6093787911226363\n",
      "LEVEL:  0  ITERATION:  10  METRIC:  -0.6102969209384791\n",
      "LEVEL:  0  ITERATION:  11  METRIC:  -0.610958514214598\n",
      "LEVEL:  0  ITERATION:  12  METRIC:  -0.6117114601210577\n",
      "LEVEL:  0  ITERATION:  13  METRIC:  -0.6124402812529898\n",
      "LEVEL:  0  ITERATION:  14  METRIC:  -0.6132325427068832\n",
      "LEVEL:  0  ITERATION:  15  METRIC:  -0.6141368881372897\n",
      "LEVEL:  0  ITERATION:  16  METRIC:  -0.6150492426205728\n",
      "LEVEL:  0  ITERATION:  17  METRIC:  -0.6157850295625709\n",
      "LEVEL:  0  ITERATION:  18  METRIC:  -0.6164122753705044\n",
      "LEVEL:  0  ITERATION:  19  METRIC:  -0.6172190421540881\n",
      "LEVEL:  0  ITERATION:  20  METRIC:  -0.6178859487539609\n",
      "LEVEL:  0  ITERATION:  21  METRIC:  -0.6186092531353632\n",
      "LEVEL:  0  ITERATION:  22  METRIC:  -0.6193217077258903\n",
      "LEVEL:  0  ITERATION:  23  METRIC:  -0.6200375027436865\n",
      "LEVEL:  0  ITERATION:  24  METRIC:  -0.6207177685242499\n",
      "LEVEL:  0  ITERATION:  25  METRIC:  -0.6215643103409301\n",
      "LEVEL:  0  ITERATION:  26  METRIC:  -0.6222686497612605\n",
      "LEVEL:  0  ITERATION:  27  METRIC:  -0.6230303135109542\n",
      "LEVEL:  0  ITERATION:  28  METRIC:  -0.6238394922590073\n",
      "LEVEL:  0  ITERATION:  29  METRIC:  -0.6245877925198396\n",
      "LEVEL:  0  ITERATION:  30  METRIC:  -0.6252469112990702\n",
      "LEVEL:  0  ITERATION:  31  METRIC:  -0.625976048688495\n",
      "LEVEL:  0  ITERATION:  32  METRIC:  -0.6265719618567553\n",
      "LEVEL:  0  ITERATION:  33  METRIC:  -0.6273701109285403\n",
      "LEVEL:  0  ITERATION:  34  METRIC:  -0.6282026836252003\n",
      "LEVEL:  0  ITERATION:  35  METRIC:  -0.6286876680553184\n",
      "LEVEL:  0  ITERATION:  36  METRIC:  -0.6294439832614662\n",
      "LEVEL:  0  ITERATION:  37  METRIC:  -0.630246702843402\n",
      "LEVEL:  0  ITERATION:  38  METRIC:  -0.6306986912435305\n",
      "LEVEL:  0  ITERATION:  39  METRIC:  -0.6313554936679281\n",
      "LEVEL:  0  ITERATION:  40  METRIC:  -0.632018813724363\n",
      "LEVEL:  0  ITERATION:  41  METRIC:  -0.6325074438625252\n",
      "LEVEL:  0  ITERATION:  42  METRIC:  -0.6332003203020478\n",
      "LEVEL:  0  ITERATION:  43  METRIC:  -0.6336629897373429\n",
      "LEVEL:  0  ITERATION:  44  METRIC:  -0.6343382306772146\n",
      "LEVEL:  0  ITERATION:  45  METRIC:  -0.6350211921278401\n",
      "LEVEL:  0  ITERATION:  46  METRIC:  -0.635588554256671\n",
      "LEVEL:  0  ITERATION:  47  METRIC:  -0.6362420190782311\n",
      "LEVEL:  0  ITERATION:  48  METRIC:  -0.6368856590850255\n",
      "LEVEL:  0  ITERATION:  49  METRIC:  -0.6374136697647124\n",
      "LEVEL:  0  ITERATION:  50  METRIC:  -0.6380095106520096\n",
      "LEVEL:  0  ITERATION:  51  METRIC:  -0.6385295814732089\n",
      "LEVEL:  0  ITERATION:  52  METRIC:  -0.6390245773292754\n",
      "LEVEL:  0  ITERATION:  53  METRIC:  -0.639619563923564\n",
      "LEVEL:  0  ITERATION:  54  METRIC:  -0.6401460502053942\n",
      "LEVEL:  0  ITERATION:  55  METRIC:  -0.6406547333180846\n",
      "LEVEL:  0  ITERATION:  56  METRIC:  -0.6414147389707315\n",
      "LEVEL:  0  ITERATION:  57  METRIC:  -0.6419212598282429\n",
      "LEVEL:  0  ITERATION:  58  METRIC:  -0.6424289890399505\n",
      "LEVEL:  0  ITERATION:  59  METRIC:  -0.643100468606316\n",
      "LEVEL:  0  ITERATION:  60  METRIC:  -0.6436293147703919\n",
      "LEVEL:  0  ITERATION:  61  METRIC:  -0.644111466924402\n",
      "LEVEL:  0  ITERATION:  62  METRIC:  -0.6446620703383886\n",
      "LEVEL:  0  ITERATION:  63  METRIC:  -0.6450748918837463\n",
      "LEVEL:  0  ITERATION:  64  METRIC:  -0.6456506758677627\n",
      "LEVEL:  0  ITERATION:  65  METRIC:  -0.6462211688509197\n",
      "LEVEL:  0  ITERATION:  66  METRIC:  -0.6465442259114912\n",
      "LEVEL:  0  ITERATION:  67  METRIC:  -0.6470188336002302\n",
      "LEVEL:  0  ITERATION:  68  METRIC:  -0.6475537551943022\n",
      "LEVEL:  0  ITERATION:  69  METRIC:  -0.6480563984909489\n",
      "LEVEL:  0  ITERATION:  70  METRIC:  -0.6485459267839457\n",
      "LEVEL:  0  ITERATION:  71  METRIC:  -0.6490400459638954\n",
      "LEVEL:  0  ITERATION:  72  METRIC:  -0.6494859256013948\n",
      "LEVEL:  0  ITERATION:  73  METRIC:  -0.6500638378095083\n",
      "LEVEL:  0  ITERATION:  74  METRIC:  -0.6505298296580673\n",
      "LEVEL:  0  ITERATION:  75  METRIC:  -0.6509013009088946\n",
      "LEVEL:  0  ITERATION:  76  METRIC:  -0.6513423380560146\n",
      "LEVEL:  0  ITERATION:  77  METRIC:  -0.6517214472049974\n",
      "LEVEL:  0  ITERATION:  78  METRIC:  -0.6522563737240343\n",
      "LEVEL:  0  ITERATION:  79  METRIC:  -0.6528061830573327\n",
      "LEVEL:  0  ITERATION:  80  METRIC:  -0.6532718108687355\n",
      "LEVEL:  0  ITERATION:  81  METRIC:  -0.6537702398460915\n",
      "LEVEL:  0  ITERATION:  82  METRIC:  -0.6541056419191715\n",
      "LEVEL:  0  ITERATION:  83  METRIC:  -0.6545342250898665\n",
      "LEVEL:  0  ITERATION:  84  METRIC:  -0.6549209938691922\n",
      "LEVEL:  0  ITERATION:  85  METRIC:  -0.6554745409174015\n",
      "LEVEL:  0  ITERATION:  86  METRIC:  -0.6559326460120284\n",
      "LEVEL:  0  ITERATION:  87  METRIC:  -0.6565562761630923\n",
      "LEVEL:  0  ITERATION:  88  METRIC:  -0.6569555489391982\n",
      "LEVEL:  0  ITERATION:  89  METRIC:  -0.657223835439913\n",
      "LEVEL:  0  ITERATION:  90  METRIC:  -0.6576388412026452\n",
      "LEVEL:  0  ITERATION:  91  METRIC:  -0.6581690161264494\n",
      "LEVEL:  0  ITERATION:  92  METRIC:  -0.6585523267248672\n",
      "LEVEL:  0  ITERATION:  93  METRIC:  -0.6588863136106013\n",
      "LEVEL:  0  ITERATION:  94  METRIC:  -0.6592286380667391\n",
      "LEVEL:  0  ITERATION:  95  METRIC:  -0.6596051261582754\n",
      "LEVEL:  0  ITERATION:  96  METRIC:  -0.6599487696382155\n",
      "LEVEL:  0  ITERATION:  97  METRIC:  -0.660362090993581\n",
      "LEVEL:  0  ITERATION:  98  METRIC:  -0.6607551259000332\n",
      "LEVEL:  0  ITERATION:  99  METRIC:  -0.6611078843025836\n",
      "LEVEL:  0  ITERATION:  100  METRIC:  -0.6614646975539434\n",
      "LEVEL:  0  ITERATION:  101  METRIC:  -0.6617616742984834\n",
      "LEVEL:  0  ITERATION:  102  METRIC:  -0.6621032193181934\n",
      "LEVEL:  0  ITERATION:  103  METRIC:  -0.6627881878438351\n",
      "LEVEL:  0  ITERATION:  104  METRIC:  -0.6631254977144017\n",
      "LEVEL:  0  ITERATION:  105  METRIC:  -0.6633819248241504\n",
      "LEVEL:  0  ITERATION:  106  METRIC:  -0.6635692014046769\n",
      "LEVEL:  0  ITERATION:  107  METRIC:  -0.6640704435131952\n",
      "LEVEL:  0  ITERATION:  108  METRIC:  -0.6644237511297304\n",
      "LEVEL:  0  ITERATION:  109  METRIC:  -0.6648202019186057\n",
      "LEVEL:  0  ITERATION:  110  METRIC:  -0.6651107693659812\n",
      "LEVEL:  0  ITERATION:  111  METRIC:  -0.6654310559385411\n",
      "LEVEL:  0  ITERATION:  112  METRIC:  -0.6658315248676792\n",
      "LEVEL:  0  ITERATION:  113  METRIC:  -0.6662283948325963\n",
      "LEVEL:  0  ITERATION:  114  METRIC:  -0.6665954633077987\n",
      "LEVEL:  0  ITERATION:  115  METRIC:  -0.6669574555255092\n",
      "LEVEL:  0  ITERATION:  116  METRIC:  -0.6673000035255278\n",
      "LEVEL:  0  ITERATION:  117  METRIC:  -0.6675569895710896\n",
      "LEVEL:  0  ITERATION:  118  METRIC:  -0.6679229721661686\n",
      "LEVEL:  0  ITERATION:  119  METRIC:  -0.6683658784494918\n",
      "LEVEL:  0  ITERATION:  120  METRIC:  -0.6687091285290021\n",
      "LEVEL:  0  ITERATION:  121  METRIC:  -0.6690705896662711\n",
      "LEVEL:  0  ITERATION:  122  METRIC:  -0.6694890236039481\n",
      "LEVEL:  0  ITERATION:  123  METRIC:  -0.6697880293360009\n",
      "LEVEL:  0  ITERATION:  124  METRIC:  -0.670364170633224\n",
      "LEVEL:  0  ITERATION:  125  METRIC:  -0.6707357904275201\n",
      "LEVEL:  0  ITERATION:  126  METRIC:  -0.6711675669548167\n",
      "LEVEL:  0  ITERATION:  127  METRIC:  -0.6713869910482367\n",
      "LEVEL:  0  ITERATION:  128  METRIC:  -0.6717685520752832\n",
      "LEVEL:  0  ITERATION:  129  METRIC:  -0.6721126475971705\n",
      "LEVEL:  0  ITERATION:  130  METRIC:  -0.6726152551360056\n",
      "LEVEL:  0  ITERATION:  131  METRIC:  -0.6729701953062924\n",
      "LEVEL:  0  ITERATION:  132  METRIC:  -0.6732288790478766\n",
      "LEVEL:  0  ITERATION:  133  METRIC:  -0.6735532326538364\n",
      "LEVEL:  0  ITERATION:  134  METRIC:  -0.6739624072379697\n",
      "LEVEL:  0  ITERATION:  135  METRIC:  -0.674315425522341\n",
      "LEVEL:  0  ITERATION:  136  METRIC:  -0.6745978986929047\n",
      "LEVEL:  0  ITERATION:  137  METRIC:  -0.675165545091922\n",
      "LEVEL:  0  ITERATION:  138  METRIC:  -0.6758846636660758\n",
      "LEVEL:  0  ITERATION:  139  METRIC:  -0.6761049463613746\n",
      "LEVEL:  0  ITERATION:  140  METRIC:  -0.6765460930547326\n",
      "LEVEL:  0  ITERATION:  141  METRIC:  -0.6769381223122828\n",
      "LEVEL:  0  ITERATION:  142  METRIC:  -0.6773010762468697\n",
      "LEVEL:  0  ITERATION:  143  METRIC:  -0.677653971597682\n",
      "LEVEL:  0  ITERATION:  144  METRIC:  -0.6781852441394215\n",
      "LEVEL:  0  ITERATION:  145  METRIC:  -0.6786569066110701\n",
      "LEVEL:  0  ITERATION:  146  METRIC:  -0.6790666977522372\n",
      "LEVEL:  0  ITERATION:  147  METRIC:  -0.6794181735421966\n",
      "LEVEL:  0  ITERATION:  148  METRIC:  -0.6797640426899351\n",
      "LEVEL:  0  ITERATION:  149  METRIC:  -0.6801733614602801\n",
      "LEVEL:  0  ITERATION:  150  METRIC:  -0.6806783288707863\n",
      "LEVEL:  0  ITERATION:  151  METRIC:  -0.6810476347720824\n",
      "LEVEL:  0  ITERATION:  152  METRIC:  -0.6813971335638879\n",
      "LEVEL:  0  ITERATION:  153  METRIC:  -0.6818034566651275\n",
      "LEVEL:  0  ITERATION:  154  METRIC:  -0.6821684346618858\n",
      "LEVEL:  0  ITERATION:  155  METRIC:  -0.6825153669308368\n",
      "LEVEL:  0  ITERATION:  156  METRIC:  -0.6831135064669019\n",
      "LEVEL:  0  ITERATION:  157  METRIC:  -0.68340682334738\n",
      "LEVEL:  0  ITERATION:  158  METRIC:  -0.683745431828395\n",
      "LEVEL:  0  ITERATION:  159  METRIC:  -0.6842915192741472\n",
      "LEVEL:  0  ITERATION:  160  METRIC:  -0.6848325643048885\n",
      "LEVEL:  0  ITERATION:  161  METRIC:  -0.6854060007818898\n",
      "LEVEL:  0  ITERATION:  162  METRIC:  -0.6856630081360782\n",
      "LEVEL:  0  ITERATION:  163  METRIC:  -0.686116124163192\n",
      "LEVEL:  0  ITERATION:  164  METRIC:  -0.6865771843517995\n",
      "LEVEL:  0  ITERATION:  165  METRIC:  -0.6870469732735158\n",
      "LEVEL:  0  ITERATION:  166  METRIC:  -0.6873414334993829\n",
      "LEVEL:  0  ITERATION:  167  METRIC:  -0.6876665213314849\n",
      "LEVEL:  0  ITERATION:  168  METRIC:  -0.6882473131786506\n",
      "LEVEL:  0  ITERATION:  169  METRIC:  -0.6886745474953663\n",
      "LEVEL:  0  ITERATION:  170  METRIC:  -0.68940189952887\n",
      "LEVEL:  0  ITERATION:  171  METRIC:  -0.6898563409397699\n",
      "LEVEL:  0  ITERATION:  172  METRIC:  -0.6901245676943546\n",
      "LEVEL:  0  ITERATION:  173  METRIC:  -0.6906238745450825\n",
      "LEVEL:  0  ITERATION:  174  METRIC:  -0.6910535888648734\n",
      "LEVEL:  0  ITERATION:  175  METRIC:  -0.6914550339899386\n",
      "LEVEL:  0  ITERATION:  176  METRIC:  -0.6919989820109749\n",
      "LEVEL:  0  ITERATION:  177  METRIC:  -0.6923813951316251\n",
      "LEVEL:  0  ITERATION:  178  METRIC:  -0.6927901135358998\n",
      "LEVEL:  0  ITERATION:  179  METRIC:  -0.6932683688454322\n",
      "LEVEL:  0  ITERATION:  180  METRIC:  -0.6938115364576551\n",
      "LEVEL:  0  ITERATION:  181  METRIC:  -0.6941682585100778\n",
      "LEVEL:  0  ITERATION:  182  METRIC:  -0.6946563333764946\n",
      "LEVEL:  0  ITERATION:  183  METRIC:  -0.6950180449727301\n",
      "LEVEL:  0  ITERATION:  184  METRIC:  -0.6955273660128869\n",
      "LEVEL:  0  ITERATION:  185  METRIC:  -0.6961592782569724\n",
      "LEVEL:  0  ITERATION:  186  METRIC:  -0.6965579275201526\n",
      "LEVEL:  0  ITERATION:  187  METRIC:  -0.6970227535349125\n",
      "LEVEL:  0  ITERATION:  188  METRIC:  -0.6975034067764978\n",
      "LEVEL:  0  ITERATION:  189  METRIC:  -0.6980084271178109\n",
      "LEVEL:  0  ITERATION:  190  METRIC:  -0.6984550203868711\n",
      "LEVEL:  0  ITERATION:  191  METRIC:  -0.698998753470862\n",
      "LEVEL:  0  ITERATION:  192  METRIC:  -0.6994240371474728\n",
      "LEVEL:  0  ITERATION:  193  METRIC:  -0.6998856628979429\n",
      "LEVEL:  0  ITERATION:  194  METRIC:  -0.7004085186541249\n",
      "LEVEL:  0  ITERATION:  195  METRIC:  -0.7008133238631999\n",
      "LEVEL:  0  ITERATION:  196  METRIC:  -0.7013545594821513\n",
      "LEVEL:  0  ITERATION:  197  METRIC:  -0.7018080923442044\n",
      "LEVEL:  0  ITERATION:  198  METRIC:  -0.7023453672062137\n",
      "LEVEL:  0  ITERATION:  199  METRIC:  -0.7029081055110586\n",
      "LEVEL:  0  ITERATION:  200  METRIC:  -0.7032454392378754\n",
      "LEVEL:  0  ITERATION:  201  METRIC:  -0.7036824434582246\n",
      "LEVEL:  0  ITERATION:  202  METRIC:  -0.7041818152640102\n",
      "LEVEL:  0  ITERATION:  203  METRIC:  -0.7045241541142586\n",
      "LEVEL:  0  ITERATION:  204  METRIC:  -0.7050886368427882\n",
      "LEVEL:  0  ITERATION:  205  METRIC:  -0.7057703201553454\n",
      "LEVEL:  0  ITERATION:  206  METRIC:  -0.7061044422756528\n",
      "LEVEL:  0  ITERATION:  207  METRIC:  -0.7065958561786706\n",
      "LEVEL:  0  ITERATION:  208  METRIC:  -0.7070916841603893\n",
      "LEVEL:  0  ITERATION:  209  METRIC:  -0.7076508757410773\n",
      "LEVEL:  0  ITERATION:  210  METRIC:  -0.707986795616154\n",
      "LEVEL:  0  ITERATION:  211  METRIC:  -0.7085114564400661\n",
      "LEVEL:  0  ITERATION:  212  METRIC:  -0.7091007948605389\n",
      "LEVEL:  0  ITERATION:  213  METRIC:  -0.709537501040215\n",
      "LEVEL:  0  ITERATION:  214  METRIC:  -0.7099314461665862\n",
      "LEVEL:  0  ITERATION:  215  METRIC:  -0.7104225123878221\n",
      "LEVEL:  0  ITERATION:  216  METRIC:  -0.7109461114535389\n",
      "LEVEL:  0  ITERATION:  217  METRIC:  -0.7114694893401553\n",
      "LEVEL:  0  ITERATION:  218  METRIC:  -0.7122018663871761\n",
      "LEVEL:  0  ITERATION:  219  METRIC:  -0.7127746251344375\n",
      "LEVEL:  0  ITERATION:  220  METRIC:  -0.7133861422448587\n",
      "LEVEL:  0  ITERATION:  221  METRIC:  -0.7139726235457632\n",
      "LEVEL:  0  ITERATION:  222  METRIC:  -0.7146547781216617\n",
      "LEVEL:  0  ITERATION:  223  METRIC:  -0.7152097409478684\n",
      "LEVEL:  0  ITERATION:  224  METRIC:  -0.7158407097107377\n",
      "LEVEL:  0  ITERATION:  225  METRIC:  -0.7164547372892938\n",
      "LEVEL:  0  ITERATION:  226  METRIC:  -0.7171244105853452\n",
      "LEVEL:  0  ITERATION:  227  METRIC:  -0.7175443902370372\n",
      "LEVEL:  0  ITERATION:  228  METRIC:  -0.7182691703481062\n",
      "LEVEL:  0  ITERATION:  229  METRIC:  -0.7186790317556757\n",
      "LEVEL:  0  ITERATION:  230  METRIC:  -0.7191809125885069\n",
      "LEVEL:  0  ITERATION:  231  METRIC:  -0.7197996497540212\n",
      "LEVEL:  0  ITERATION:  232  METRIC:  -0.7203982919285427\n",
      "LEVEL:  0  ITERATION:  233  METRIC:  -0.7209672244689002\n",
      "LEVEL:  0  ITERATION:  234  METRIC:  -0.7215875047860504\n",
      "LEVEL:  0  ITERATION:  235  METRIC:  -0.7220890048134678\n",
      "LEVEL:  0  ITERATION:  236  METRIC:  -0.7227508587892603\n",
      "LEVEL:  0  ITERATION:  237  METRIC:  -0.723114747235715\n",
      "LEVEL:  0  ITERATION:  238  METRIC:  -0.7235657622331126\n",
      "LEVEL:  0  ITERATION:  239  METRIC:  -0.7240468261745865\n",
      "LEVEL:  0  ITERATION:  240  METRIC:  -0.7245999777056233\n",
      "LEVEL:  0  ITERATION:  241  METRIC:  -0.7251627621451147\n",
      "LEVEL:  0  ITERATION:  242  METRIC:  -0.7256588173175399\n",
      "LEVEL:  0  ITERATION:  243  METRIC:  -0.7262254384726644\n",
      "LEVEL:  0  ITERATION:  244  METRIC:  -0.7265979384076598\n",
      "LEVEL:  0  ITERATION:  245  METRIC:  -0.7271165473663789\n",
      "LEVEL:  0  ITERATION:  246  METRIC:  -0.7275937687702883\n",
      "LEVEL:  0  ITERATION:  247  METRIC:  -0.7282077115561042\n",
      "LEVEL:  0  ITERATION:  248  METRIC:  -0.728702772282778\n",
      "LEVEL:  0  ITERATION:  249  METRIC:  -0.7292256296885234\n",
      "LEVEL:  0  ITERATION:  250  METRIC:  -0.7298297937561375\n",
      "LEVEL:  0  ITERATION:  251  METRIC:  -0.7303314343688198\n",
      "LEVEL:  0  ITERATION:  252  METRIC:  -0.7309253346960558\n",
      "LEVEL:  0  ITERATION:  253  METRIC:  -0.7314757282230431\n",
      "LEVEL:  0  ITERATION:  254  METRIC:  -0.7320229111124618\n",
      "LEVEL:  0  ITERATION:  255  METRIC:  -0.7324376375104347\n",
      "LEVEL:  0  ITERATION:  256  METRIC:  -0.7329347614357797\n",
      "LEVEL:  0  ITERATION:  257  METRIC:  -0.7336520707973956\n",
      "LEVEL:  0  ITERATION:  258  METRIC:  -0.7341175660873527\n",
      "LEVEL:  0  ITERATION:  259  METRIC:  -0.734815769761752\n",
      "LEVEL:  0  ITERATION:  260  METRIC:  -0.7352752701895658\n",
      "LEVEL:  0  ITERATION:  261  METRIC:  -0.7358955725824461\n",
      "LEVEL:  0  ITERATION:  262  METRIC:  -0.7365006278199573\n",
      "LEVEL:  0  ITERATION:  263  METRIC:  -0.7367000820262647\n",
      "LEVEL:  0  ITERATION:  264  METRIC:  -0.7373433039647268\n",
      "LEVEL:  0  ITERATION:  265  METRIC:  -0.737870156266571\n",
      "LEVEL:  0  ITERATION:  266  METRIC:  -0.7382088484485824\n",
      "LEVEL:  0  ITERATION:  267  METRIC:  -0.7388056162857376\n",
      "LEVEL:  0  ITERATION:  268  METRIC:  -0.739460754967791\n",
      "LEVEL:  0  ITERATION:  269  METRIC:  -0.7399337287203672\n",
      "LEVEL:  0  ITERATION:  270  METRIC:  -0.7405027944956141\n",
      "LEVEL:  0  ITERATION:  271  METRIC:  -0.7409225400088081\n",
      "LEVEL:  0  ITERATION:  272  METRIC:  -0.7413814171924022\n",
      "LEVEL:  0  ITERATION:  273  METRIC:  -0.741902714321609\n",
      "LEVEL:  0  ITERATION:  274  METRIC:  -0.7422847115351309\n",
      "LEVEL:  0  ITERATION:  275  METRIC:  -0.7427869872628012\n",
      "LEVEL:  0  ITERATION:  276  METRIC:  -0.7432510223012548\n",
      "LEVEL:  0  ITERATION:  277  METRIC:  -0.7436289407562919\n",
      "LEVEL:  0  ITERATION:  278  METRIC:  -0.7441788638470694\n",
      "LEVEL:  0  ITERATION:  279  METRIC:  -0.7446410551807741\n",
      "LEVEL:  0  ITERATION:  280  METRIC:  -0.7451195218073186\n",
      "LEVEL:  0  ITERATION:  281  METRIC:  -0.7455850006591072\n",
      "LEVEL:  0  ITERATION:  282  METRIC:  -0.7459585395108418\n",
      "LEVEL:  0  ITERATION:  283  METRIC:  -0.7464363708834234\n",
      "LEVEL:  0  ITERATION:  284  METRIC:  -0.7468611239350627\n",
      "LEVEL:  0  ITERATION:  285  METRIC:  -0.7472752346378523\n",
      "LEVEL:  0  ITERATION:  286  METRIC:  -0.747847162975757\n",
      "LEVEL:  0  ITERATION:  287  METRIC:  -0.7482117767213788\n",
      "LEVEL:  0  ITERATION:  288  METRIC:  -0.7485619108254977\n",
      "LEVEL:  0  ITERATION:  289  METRIC:  -0.748793656850542\n",
      "LEVEL:  0  ITERATION:  290  METRIC:  -0.7492742693391965\n",
      "LEVEL:  0  ITERATION:  291  METRIC:  -0.7496063791621452\n",
      "LEVEL:  0  ITERATION:  292  METRIC:  -0.7500756388224472\n",
      "LEVEL:  0  ITERATION:  293  METRIC:  -0.750466463453913\n",
      "LEVEL:  0  ITERATION:  294  METRIC:  -0.7507931914207329\n",
      "LEVEL:  0  ITERATION:  295  METRIC:  -0.7508393586729386\n",
      "LEVEL:  0  ITERATION:  296  METRIC:  -0.751238879131078\n",
      "LEVEL:  0  ITERATION:  297  METRIC:  -0.7516412340014756\n",
      "LEVEL:  0  ITERATION:  298  METRIC:  -0.7520433156714866\n",
      "LEVEL:  0  ITERATION:  299  METRIC:  -0.7523100488555344\n",
      "LEVEL:  0  ITERATION:  300  METRIC:  -0.7526733525495191\n",
      "LEVEL:  0  ITERATION:  301  METRIC:  -0.7531258403193157\n",
      "LEVEL:  0  ITERATION:  302  METRIC:  -0.7535468960991967\n",
      "LEVEL:  0  ITERATION:  303  METRIC:  -0.7538722159250082\n",
      "LEVEL:  0  ITERATION:  304  METRIC:  -0.754199761664117\n",
      "LEVEL:  0  ITERATION:  305  METRIC:  -0.7543155934060632\n",
      "LEVEL:  0  ITERATION:  306  METRIC:  -0.7547357416593039\n",
      "LEVEL:  0  ITERATION:  307  METRIC:  -0.7552094463993947\n",
      "LEVEL:  0  ITERATION:  308  METRIC:  -0.7556133581272606\n",
      "LEVEL:  0  ITERATION:  309  METRIC:  -0.7559798786193472\n",
      "LEVEL:  0  ITERATION:  310  METRIC:  -0.7563180549104805\n",
      "LEVEL:  0  ITERATION:  311  METRIC:  -0.7566635641540641\n",
      "LEVEL:  0  ITERATION:  312  METRIC:  -0.7571561151697819\n",
      "LEVEL:  0  ITERATION:  313  METRIC:  -0.7575841035977814\n",
      "LEVEL:  0  ITERATION:  314  METRIC:  -0.7579911599752518\n",
      "LEVEL:  0  ITERATION:  315  METRIC:  -0.7585226231601607\n",
      "LEVEL:  0  ITERATION:  316  METRIC:  -0.7588030504060792\n",
      "LEVEL:  0  ITERATION:  317  METRIC:  -0.7592738920542788\n",
      "LEVEL:  0  ITERATION:  318  METRIC:  -0.7597998305706916\n",
      "LEVEL:  0  ITERATION:  319  METRIC:  -0.760068502080042\n",
      "LEVEL:  0  ITERATION:  320  METRIC:  -0.760494340644688\n",
      "LEVEL:  0  ITERATION:  321  METRIC:  -0.7609573092041805\n",
      "LEVEL:  0  ITERATION:  322  METRIC:  -0.7613716235773362\n",
      "LEVEL:  0  ITERATION:  323  METRIC:  -0.7616945303057431\n",
      "LEVEL:  0  ITERATION:  324  METRIC:  -0.762016372265827\n",
      "LEVEL:  0  ITERATION:  325  METRIC:  -0.7624854658174134\n",
      "LEVEL:  0  ITERATION:  326  METRIC:  -0.7628969367539961\n",
      "LEVEL:  0  ITERATION:  327  METRIC:  -0.763313593526547\n",
      "LEVEL:  0  ITERATION:  328  METRIC:  -0.7638140190323187\n",
      "LEVEL:  0  ITERATION:  329  METRIC:  -0.7639599763269195\n",
      "LEVEL:  0  ITERATION:  330  METRIC:  -0.7644429977908042\n",
      "LEVEL:  0  ITERATION:  331  METRIC:  -0.7646965327931063\n",
      "LEVEL:  0  ITERATION:  332  METRIC:  -0.7651339497679772\n",
      "LEVEL:  0  ITERATION:  333  METRIC:  -0.7656078941860549\n",
      "LEVEL:  0  ITERATION:  334  METRIC:  -0.7660403328632523\n",
      "LEVEL:  0  ITERATION:  335  METRIC:  -0.7662663619604045\n",
      "LEVEL:  0  ITERATION:  336  METRIC:  -0.7666923726815322\n",
      "LEVEL:  0  ITERATION:  337  METRIC:  -0.7670349682637785\n",
      "LEVEL:  0  ITERATION:  338  METRIC:  -0.767499730471365\n",
      "LEVEL:  0  ITERATION:  339  METRIC:  -0.7678897615449288\n",
      "LEVEL:  0  ITERATION:  340  METRIC:  -0.7682508490550344\n",
      "LEVEL:  0  ITERATION:  341  METRIC:  -0.7686353513139246\n",
      "LEVEL:  0  ITERATION:  342  METRIC:  -0.7688613116386345\n",
      "LEVEL:  0  ITERATION:  343  METRIC:  -0.7692485907436425\n",
      "LEVEL:  0  ITERATION:  344  METRIC:  -0.7697038361085842\n",
      "LEVEL:  0  ITERATION:  345  METRIC:  -0.769960829661956\n",
      "LEVEL:  0  ITERATION:  346  METRIC:  -0.7703297682198269\n",
      "LEVEL:  0  ITERATION:  347  METRIC:  -0.7707940952761786\n",
      "LEVEL:  0  ITERATION:  348  METRIC:  -0.7711653869051968\n",
      "LEVEL:  0  ITERATION:  349  METRIC:  -0.7716673629873672\n",
      "LEVEL:  0  ITERATION:  350  METRIC:  -0.7720526306618876\n",
      "LEVEL:  0  ITERATION:  351  METRIC:  -0.7724573548708962\n",
      "LEVEL:  0  ITERATION:  352  METRIC:  -0.7730512212342863\n",
      "LEVEL:  0  ITERATION:  353  METRIC:  -0.7735273515035932\n",
      "LEVEL:  0  ITERATION:  354  METRIC:  -0.7740568334240711\n",
      "LEVEL:  0  ITERATION:  355  METRIC:  -0.774574685543713\n",
      "LEVEL:  0  ITERATION:  356  METRIC:  -0.7747688119815902\n",
      "LEVEL:  0  ITERATION:  357  METRIC:  -0.7752882300104246\n",
      "LEVEL:  0  ITERATION:  358  METRIC:  -0.7755828728592762\n",
      "LEVEL:  0  ITERATION:  359  METRIC:  -0.7761869804324574\n",
      "LEVEL:  0  ITERATION:  360  METRIC:  -0.7767065512214328\n",
      "LEVEL:  0  ITERATION:  361  METRIC:  -0.7772600063932857\n",
      "LEVEL:  0  ITERATION:  362  METRIC:  -0.7776980456014287\n",
      "LEVEL:  0  ITERATION:  363  METRIC:  -0.7783016242174748\n",
      "LEVEL:  0  ITERATION:  364  METRIC:  -0.7790665902227805\n",
      "LEVEL:  0  ITERATION:  365  METRIC:  -0.7796653389765497\n",
      "LEVEL:  0  ITERATION:  366  METRIC:  -0.7803488916265189\n",
      "LEVEL:  0  ITERATION:  367  METRIC:  -0.7810229054266856\n",
      "LEVEL:  0  ITERATION:  368  METRIC:  -0.7818812504692564\n",
      "LEVEL:  0  ITERATION:  369  METRIC:  -0.7824509806395489\n",
      "LEVEL:  0  ITERATION:  370  METRIC:  -0.7831076783226082\n",
      "LEVEL:  0  ITERATION:  371  METRIC:  -0.7836464344336197\n",
      "LEVEL:  0  ITERATION:  372  METRIC:  -0.7840274275990436\n",
      "LEVEL:  0  ITERATION:  373  METRIC:  -0.7846139904194815\n",
      "LEVEL:  0  ITERATION:  374  METRIC:  -0.7852590027152679\n",
      "LEVEL:  0  ITERATION:  375  METRIC:  -0.7858171811561271\n",
      "LEVEL:  0  ITERATION:  376  METRIC:  -0.7866206194536629\n",
      "LEVEL:  0  ITERATION:  377  METRIC:  -0.7873565966278379\n",
      "LEVEL:  0  ITERATION:  378  METRIC:  -0.7879940607003771\n",
      "LEVEL:  0  ITERATION:  379  METRIC:  -0.7886566650338397\n",
      "LEVEL:  0  ITERATION:  380  METRIC:  -0.7894877055852028\n",
      "LEVEL:  0  ITERATION:  381  METRIC:  -0.7905014249090982\n",
      "LEVEL:  0  ITERATION:  382  METRIC:  -0.791179601022445\n",
      "LEVEL:  0  ITERATION:  383  METRIC:  -0.7920923538856194\n",
      "LEVEL:  0  ITERATION:  384  METRIC:  -0.7926143896723575\n",
      "LEVEL:  0  ITERATION:  385  METRIC:  -0.793096015881555\n",
      "LEVEL:  0  ITERATION:  386  METRIC:  -0.7936489225923158\n",
      "LEVEL:  0  ITERATION:  387  METRIC:  -0.7942051411056135\n",
      "LEVEL:  0  ITERATION:  388  METRIC:  -0.794636075829391\n",
      "LEVEL:  0  ITERATION:  389  METRIC:  -0.7950186898127116\n",
      "LEVEL:  0  ITERATION:  390  METRIC:  -0.7956077017672977\n",
      "LEVEL:  0  ITERATION:  391  METRIC:  -0.7961001394771158\n",
      "LEVEL:  0  ITERATION:  392  METRIC:  -0.7964577586688809\n",
      "LEVEL:  0  ITERATION:  393  METRIC:  -0.7967811977915802\n",
      "LEVEL:  0  ITERATION:  394  METRIC:  -0.797170371013192\n",
      "LEVEL:  0  ITERATION:  395  METRIC:  -0.7975952988000076\n",
      "LEVEL:  0  ITERATION:  396  METRIC:  -0.7978374837331834\n",
      "LEVEL:  0  ITERATION:  397  METRIC:  -0.798208181177981\n",
      "LEVEL:  0  ITERATION:  398  METRIC:  -0.7986378827932346\n",
      "LEVEL:  0  ITERATION:  399  METRIC:  -0.7990548077658663\n",
      "Fri Aug 23 12:52:01 2024 Registration succeeded\n",
      "constructing cluster\n",
      "{'n_workers': 15, 'threads_per_worker': 2, 'host': ''}\n",
      "Cluster dashboard link:  http://10.35.76.107:8787/status\n",
      "running alignment\n",
      "set temp dir - temporary_directory=<TemporaryDirectory '/mnt/ssd_cache/oamsalem/.t6jqnfi_'> Starting\n",
      "Fri Aug 23 12:52:13 2024 Spot detection ((60, 60, 60), (70, 70, 70)) completed in 2.412419080734253s\n",
      "returning default\n"
     ]
    },
    {
     "name": "stderr",
     "output_type": "stream",
     "text": [
      "/mnt/nasquatch/data/2p/jonna/Code_Python/Notebooks_Jonna/BigStream/bigstream_github/bigstream/piecewise_align.py:373: RuntimeWarning: invalid value encountered in divide\n",
      "  weights = weights / (1 - missing_weights)\n"
     ]
    },
    {
     "name": "stdout",
     "output_type": "stream",
     "text": [
      "Fri Aug 23 12:52:14 2024 Spot detection ((60, 60, 60), (70, 70, 70)) completed in 3.838465929031372s\n",
      "returning default\n",
      "Fri Aug 23 12:52:14 2024 Spot detection ((60, 60, 60), (70, 70, 70)) completed in 3.875049591064453s\n",
      "returning default\n"
     ]
    },
    {
     "name": "stderr",
     "output_type": "stream",
     "text": [
      "/mnt/nasquatch/data/2p/jonna/Code_Python/Notebooks_Jonna/BigStream/bigstream_github/bigstream/piecewise_align.py:373: RuntimeWarning: invalid value encountered in divide\n",
      "  weights = weights / (1 - missing_weights)\n",
      "/mnt/nasquatch/data/2p/jonna/Code_Python/Notebooks_Jonna/BigStream/bigstream_github/bigstream/piecewise_align.py:373: RuntimeWarning: invalid value encountered in divide\n",
      "  weights = weights / (1 - missing_weights)\n"
     ]
    },
    {
     "name": "stdout",
     "output_type": "stream",
     "text": [
      "Fri Aug 23 12:52:14 2024 Spot detection ((60, 60, 60), (70, 70, 70)) completed in 4.18526291847229s\n",
      "returning default\n"
     ]
    },
    {
     "name": "stderr",
     "output_type": "stream",
     "text": [
      "/mnt/nasquatch/data/2p/jonna/Code_Python/Notebooks_Jonna/BigStream/bigstream_github/bigstream/piecewise_align.py:373: RuntimeWarning: invalid value encountered in divide\n",
      "  weights = weights / (1 - missing_weights)\n"
     ]
    },
    {
     "name": "stdout",
     "output_type": "stream",
     "text": [
      "Fri Aug 23 12:52:16 2024 Spot detection ((60, 60, 60), (70, 70, 70)) completed in 6.1839516162872314s\n",
      "returning default\n"
     ]
    },
    {
     "name": "stderr",
     "output_type": "stream",
     "text": [
      "/mnt/nasquatch/data/2p/jonna/Code_Python/Notebooks_Jonna/BigStream/bigstream_github/bigstream/piecewise_align.py:373: RuntimeWarning: invalid value encountered in divide\n",
      "  weights = weights / (1 - missing_weights)\n"
     ]
    },
    {
     "name": "stdout",
     "output_type": "stream",
     "text": [
      "Fri Aug 23 12:52:16 2024 Spot detection ((60, 60, 60), (70, 70, 70)) completed in 6.530433177947998s\n",
      "returning default\n"
     ]
    },
    {
     "name": "stderr",
     "output_type": "stream",
     "text": [
      "/mnt/nasquatch/data/2p/jonna/Code_Python/Notebooks_Jonna/BigStream/bigstream_github/bigstream/piecewise_align.py:373: RuntimeWarning: invalid value encountered in divide\n",
      "  weights = weights / (1 - missing_weights)\n"
     ]
    },
    {
     "name": "stdout",
     "output_type": "stream",
     "text": [
      "Fri Aug 23 12:52:17 2024 Spot detection ((60, 60, 60), (70, 70, 70)) completed in 6.707488059997559s\n",
      "returning default\n"
     ]
    },
    {
     "name": "stderr",
     "output_type": "stream",
     "text": [
      "/mnt/nasquatch/data/2p/jonna/Code_Python/Notebooks_Jonna/BigStream/bigstream_github/bigstream/piecewise_align.py:373: RuntimeWarning: invalid value encountered in divide\n",
      "  weights = weights / (1 - missing_weights)\n"
     ]
    },
    {
     "name": "stdout",
     "output_type": "stream",
     "text": [
      "Fri Aug 23 12:52:21 2024 Spot detection ((60, 60, 60), (70, 70, 70)) completed in 10.709780931472778s\n",
      "returning default\n"
     ]
    },
    {
     "name": "stderr",
     "output_type": "stream",
     "text": [
      "/mnt/nasquatch/data/2p/jonna/Code_Python/Notebooks_Jonna/BigStream/bigstream_github/bigstream/piecewise_align.py:373: RuntimeWarning: invalid value encountered in divide\n",
      "  weights = weights / (1 - missing_weights)\n",
      "2024-08-23 12:52:25,000 - distributed.worker - ERROR - Failed to communicate with scheduler during heartbeat.\n",
      "Traceback (most recent call last):\n",
      "  File \"/mnt/colab/colab_shared/anaconda3/lib/python3.9/site-packages/distributed/comm/tcp.py\", line 225, in read\n",
      "    frames_nbytes = await stream.read_bytes(fmt_size)\n",
      "tornado.iostream.StreamClosedError: Stream is closed\n",
      "\n",
      "The above exception was the direct cause of the following exception:\n",
      "\n",
      "Traceback (most recent call last):\n",
      "  File \"/mnt/colab/colab_shared/anaconda3/lib/python3.9/site-packages/distributed/worker.py\", line 1215, in heartbeat\n",
      "    response = await retry_operation(\n",
      "  File \"/mnt/colab/colab_shared/anaconda3/lib/python3.9/site-packages/distributed/utils_comm.py\", line 383, in retry_operation\n",
      "    return await retry(\n",
      "  File \"/mnt/colab/colab_shared/anaconda3/lib/python3.9/site-packages/distributed/utils_comm.py\", line 368, in retry\n",
      "    return await coro()\n",
      "  File \"/mnt/colab/colab_shared/anaconda3/lib/python3.9/site-packages/distributed/core.py\", line 1155, in send_recv_from_rpc\n",
      "    return await send_recv(comm=comm, op=key, **kwargs)\n",
      "  File \"/mnt/colab/colab_shared/anaconda3/lib/python3.9/site-packages/distributed/core.py\", line 920, in send_recv\n",
      "    response = await comm.read(deserializers=deserializers)\n",
      "  File \"/mnt/colab/colab_shared/anaconda3/lib/python3.9/site-packages/distributed/comm/tcp.py\", line 241, in read\n",
      "    convert_stream_closed_error(self, e)\n",
      "  File \"/mnt/colab/colab_shared/anaconda3/lib/python3.9/site-packages/distributed/comm/tcp.py\", line 144, in convert_stream_closed_error\n",
      "    raise CommClosedError(f\"in {obj}: {exc}\") from exc\n",
      "distributed.comm.core.CommClosedError: in <TCP (closed) ConnectionPool.heartbeat_worker local=tcp://10.35.76.107:33304 remote=tcp://10.35.76.107:44101>: Stream is closed\n",
      "2024-08-23 12:52:25,681 - distributed.client - ERROR - \n",
      "ConnectionRefusedError: [Errno 111] Connection refused\n",
      "\n",
      "The above exception was the direct cause of the following exception:\n",
      "\n",
      "Traceback (most recent call last):\n",
      "  File \"/mnt/colab/colab_shared/anaconda3/lib/python3.9/site-packages/distributed/comm/core.py\", line 291, in connect\n",
      "    comm = await asyncio.wait_for(\n",
      "  File \"/mnt/colab/colab_shared/anaconda3/lib/python3.9/asyncio/tasks.py\", line 479, in wait_for\n",
      "    return fut.result()\n",
      "  File \"/mnt/colab/colab_shared/anaconda3/lib/python3.9/site-packages/distributed/comm/tcp.py\", line 511, in connect\n",
      "    convert_stream_closed_error(self, e)\n",
      "  File \"/mnt/colab/colab_shared/anaconda3/lib/python3.9/site-packages/distributed/comm/tcp.py\", line 142, in convert_stream_closed_error\n",
      "    raise CommClosedError(f\"in {obj}: {exc.__class__.__name__}: {exc}\") from exc\n",
      "distributed.comm.core.CommClosedError: in <distributed.comm.tcp.TCPConnector object at 0x7bee55a1d9d0>: ConnectionRefusedError: [Errno 111] Connection refused\n",
      "\n",
      "During handling of the above exception, another exception occurred:\n",
      "\n",
      "Traceback (most recent call last):\n",
      "  File \"/mnt/colab/colab_shared/anaconda3/lib/python3.9/site-packages/distributed/utils.py\", line 742, in wrapper\n",
      "    return await func(*args, **kwargs)\n",
      "  File \"/mnt/colab/colab_shared/anaconda3/lib/python3.9/site-packages/distributed/client.py\", line 1285, in _reconnect\n",
      "    await self._ensure_connected(timeout=timeout)\n",
      "  File \"/mnt/colab/colab_shared/anaconda3/lib/python3.9/site-packages/distributed/client.py\", line 1315, in _ensure_connected\n",
      "    comm = await connect(\n",
      "  File \"/mnt/colab/colab_shared/anaconda3/lib/python3.9/site-packages/distributed/comm/core.py\", line 315, in connect\n",
      "    await asyncio.sleep(backoff)\n",
      "  File \"/mnt/colab/colab_shared/anaconda3/lib/python3.9/asyncio/tasks.py\", line 652, in sleep\n",
      "    return await future\n",
      "asyncio.exceptions.CancelledError\n",
      "\n",
      "Traceback (most recent call last):\n",
      "  File \"/mnt/colab/colab_shared/anaconda3/lib/python3.9/site-packages/distributed/comm/tcp.py\", line 225, in read\n",
      "    frames_nbytes = await stream.read_bytes(fmt_size)\n",
      "tornado.iostream.StreamClosedError: Stream is closed\n",
      "\n",
      "The above exception was the direct cause of the following exception:\n",
      "\n",
      "Traceback (most recent call last):\n",
      "  File \"/mnt/colab/colab_shared/anaconda3/lib/python3.9/site-packages/distributed/client.py\", line 1482, in _handle_report\n",
      "    msgs = await self.scheduler_comm.comm.read()\n",
      "  File \"/mnt/colab/colab_shared/anaconda3/lib/python3.9/site-packages/distributed/comm/tcp.py\", line 241, in read\n",
      "    convert_stream_closed_error(self, e)\n",
      "  File \"/mnt/colab/colab_shared/anaconda3/lib/python3.9/site-packages/distributed/comm/tcp.py\", line 144, in convert_stream_closed_error\n",
      "    raise CommClosedError(f\"in {obj}: {exc}\") from exc\n",
      "distributed.comm.core.CommClosedError: in <TCP (closed) Client->Scheduler local=tcp://10.35.76.107:33232 remote=tcp://10.35.76.107:44101>: Stream is closed\n",
      "\n",
      "During handling of the above exception, another exception occurred:\n",
      "\n",
      "Traceback (most recent call last):\n",
      "  File \"/mnt/colab/colab_shared/anaconda3/lib/python3.9/site-packages/distributed/utils.py\", line 742, in wrapper\n",
      "    return await func(*args, **kwargs)\n",
      "  File \"/mnt/colab/colab_shared/anaconda3/lib/python3.9/site-packages/distributed/client.py\", line 1490, in _handle_report\n",
      "    await self._reconnect()\n",
      "  File \"/mnt/colab/colab_shared/anaconda3/lib/python3.9/site-packages/distributed/utils.py\", line 742, in wrapper\n",
      "    return await func(*args, **kwargs)\n",
      "  File \"/mnt/colab/colab_shared/anaconda3/lib/python3.9/site-packages/distributed/client.py\", line 1285, in _reconnect\n",
      "    await self._ensure_connected(timeout=timeout)\n",
      "  File \"/mnt/colab/colab_shared/anaconda3/lib/python3.9/site-packages/distributed/client.py\", line 1315, in _ensure_connected\n",
      "    comm = await connect(\n",
      "  File \"/mnt/colab/colab_shared/anaconda3/lib/python3.9/site-packages/distributed/comm/core.py\", line 315, in connect\n",
      "    await asyncio.sleep(backoff)\n",
      "  File \"/mnt/colab/colab_shared/anaconda3/lib/python3.9/asyncio/tasks.py\", line 652, in sleep\n",
      "    return await future\n",
      "asyncio.exceptions.CancelledError\n"
     ]
    },
    {
     "name": "stdout",
     "output_type": "stream",
     "text": [
      "finished! - /mnt/bananas/data/ezfish/jonna/CIM132/OUTPUT/HCR/registrations/HCR02_to_HCR01/local_params_scan_nodeform/rz1_rxy25_bs3to30_mt0.2/bs150_150_15_4_4_bs60to70_mt0.5\n"
     ]
    }
   ],
   "source": [
    "c = {'n_workers': 15, 'threads_per_worker':2} # Colab00 has 20 cores, 2 threads per core, leave a little wiggle room, added c to args. Camillo has 40 cores.\n",
    "\n",
    "success_n = 0\n",
    "write_dir = output_folder / round_folder_name / 'local_params_scan'\n",
    "write_dir.mkdir(exist_ok=True,parents=True)\n",
    "write_directory = str(write_dir)\n",
    "print(write_directory)\n",
    "\n",
    "#Change this when ready to proceed with full reg! and change params up top before doing so\n",
    "no_deform = True\n",
    "\n",
    "if no_deform:\n",
    "    write_dir = write_dir.parent / f'{write_dir.name}_nodeform'\n",
    "\n",
    "njobs = len(g_radii_z)*len(g_radii_xy)*len(g_bsize_s_b)*len(g_m_tresholds)*len(blocksize_to_scan)*len(radii_z)*len(radii_xy)*len(bsize_s_b)*len(m_tresholds)\n",
    "pbar = tqdm(total=njobs)\n",
    "for g_radius_z in g_radii_z:\n",
    "  for g_radius_xy in g_radii_xy:\n",
    "    for g_bsize_s, g_bsize_b in g_bsize_s_b:\n",
    "      for g_m_treshold in g_m_tresholds:\n",
    "        for blocksize in blocksize_to_scan:\n",
    "          for radius_z in radii_z:\n",
    "            for radius_xy in radii_xy:\n",
    "              for bsize_s, bsize_b in bsize_s_b:\n",
    "                for m_treshold in m_tresholds:\n",
    "                        \n",
    "                  # wrong folder nameing need to replace the name\n",
    "                  local_folder = fr\"rz{g_radius_z}_rxy{g_radius_xy}_bs{g_bsize_s}to{g_bsize_b}_mt{g_m_treshold}\"\n",
    "                  global_folder = fr\"bs{blocksize[0]}_{blocksize[1]}_{blocksize[2]}_{radius_z}_{radius_xy}_bs{bsize_s}to{bsize_b}_mt{m_treshold}\"\n",
    "\n",
    "                  write_directory = write_dir / local_folder / global_folder\n",
    "                  write_directory.mkdir(exist_ok=True,parents=True)\n",
    "                  write_directory = str(write_directory); print(write_directory)\n",
    "\n",
    "                  global_ransac_kwargs = {'cc_radius':(g_radius_xy,g_radius_xy,g_radius_z),\n",
    "                                          'blob_sizes':[g_bsize_s, g_bsize_b],\n",
    "                                          'match_threshold':g_m_treshold,\n",
    "                                          'safeguard_exceptions':False}\n",
    "\n",
    "                  local_ransac_kwargs = {'cc_radius':(radius_xy,radius_xy,radius_z),\n",
    "                                               'blob_sizes':[bsize_s, bsize_b], \n",
    "                                               'match_threshold': [m_treshold],\n",
    "                                               'safeguard_exceptions':False}\n",
    "                    \n",
    "                \n",
    "                  \n",
    "                  affine, deform, aligned = easifish_registration_pipeline(\n",
    "                          fix_lowres, fix_highres, mov_lowres, mov_highres,\n",
    "                          fix_lowres_spacing, fix_image_spacing,\n",
    "                          mov_lowres_spacing, mov_image_spacing,\n",
    "                          blocksize=blocksize,\n",
    "                          global_ransac_kwargs=global_ransac_kwargs,\n",
    "                          local_ransac_kwargs=local_ransac_kwargs,\n",
    "                          write_directory=write_directory,\n",
    "                          no_deform=no_deform,\n",
    "                          overwrite_lowres=False,\n",
    "                          c = c)\n",
    "                  print(f'finished! - {write_directory}')\n",
    "                  pbar.update(1)"
   ]
  },
  {
   "cell_type": "code",
   "execution_count": null,
   "id": "a985b70f",
   "metadata": {},
   "outputs": [
    {
     "data": {
      "text/plain": [
       "'oamsalem'"
      ]
     },
     "execution_count": 20,
     "metadata": {},
     "output_type": "execute_result"
    }
   ],
   "source": [
    "import os\n",
    "os.getlogin()"
   ]
  },
  {
   "cell_type": "code",
   "execution_count": null,
   "id": "06e1b573-ab3d-4f57-8ef8-68750596c13b",
   "metadata": {},
   "outputs": [],
   "source": [
    "import os\n",
    "import zarr\n",
    "from tifffile import imwrite as tiff_imwrite\n",
    "\n",
    "write_directory = fr\"\\mnt\\bananas\\data\\ezfish\\jonna\\CIM132\\HCR\\240408_CIM132\\output_HCR4_to_HCR1_github\\local_params_scan\\rz1_rxy25_bs3to30_mt0.2\\bs100_100_25_1_25_bs5to70_mt0.2\"\n",
    "zarr_dir =  fr\"\\mnt\\bananas\\data\\ezfish\\jonna\\CIM132\\HCR\\240408_CIM132\\output_HCR4_to_HCR1_github\\local_params_scan\\rz1_rxy25_bs3to30_mt0.2\\bs100_100_25_1_25_bs5to70_mt0.2\\deformed.zarr\"\n",
    "\n",
    "# Check if the Zarr directory exists\n",
    "if os.path.isdir(zarr_dir):\n",
    "    print(\"Zarr directory exists\")\n",
    "\n",
    "    try:\n",
    "        # Attempt to load the Zarr data\n",
    "        data = zarr.open_array(zarr_dir, mode='r')\n",
    "        print(f\"Data loaded with shape: {data.shape}\")\n",
    "        \n",
    "        if data is not None:\n",
    "            # Save to TIFF file\n",
    "            tiff_path = os.path.join(write_directory, \"deformed.tiff\")\n",
    "            tiff_imwrite(tiff_path, data.transpose(2, 1, 0))\n",
    "            print(f\"TIFF file written successfully at {tiff_path}\")\n",
    "        else:\n",
    "            print(\"Failed to load data. It is None.\")\n",
    "    except Exception as e:\n",
    "        print(f\"An error occurred while processing the Zarr data: {e}\")\n",
    "else:\n",
    "    print(\"Zarr directory does not exist.\")\n",
    "\n",
    "\n",
    "\n"
   ]
  },
  {
   "cell_type": "code",
   "execution_count": null,
   "id": "8df6cab7",
   "metadata": {},
   "outputs": [],
   "source": [
    "## Make combined TIFFs in new folder to check local parameter search"
   ]
  },
  {
   "cell_type": "code",
   "execution_count": 4,
   "id": "80be5afd",
   "metadata": {},
   "outputs": [
    {
     "name": "stdout",
     "output_type": "stream",
     "text": [
      "Found 18 folders with 'deformed.zarr'\n",
      "Folders to process: ['\\\\\\\\bananas\\\\data\\\\ezfish\\\\jonna\\\\CIM132\\\\HCR\\\\240408_CIM132\\\\output_HCR4_to_HCR1_github\\\\local_params_scan_nodeform\\\\rz1_rxy25_bs3to30_mt0.2\\\\bs50_50_12_10_15_bs5to70_mt0.2', '\\\\\\\\bananas\\\\data\\\\ezfish\\\\jonna\\\\CIM132\\\\HCR\\\\240408_CIM132\\\\output_HCR4_to_HCR1_github\\\\local_params_scan_nodeform\\\\rz1_rxy25_bs3to30_mt0.2\\\\bs50_50_12_1_15_bs5to70_mt0.2', '\\\\\\\\bananas\\\\data\\\\ezfish\\\\jonna\\\\CIM132\\\\HCR\\\\240408_CIM132\\\\output_HCR4_to_HCR1_github\\\\local_params_scan_nodeform\\\\rz1_rxy25_bs3to30_mt0.2\\\\bs100_100_25_1_50_bs5to70_mt0.2', '\\\\\\\\bananas\\\\data\\\\ezfish\\\\jonna\\\\CIM132\\\\HCR\\\\240408_CIM132\\\\output_HCR4_to_HCR1_github\\\\local_params_scan_nodeform\\\\rz1_rxy25_bs3to30_mt0.2\\\\bs100_100_25_10_15_bs5to70_mt0.2', '\\\\\\\\bananas\\\\data\\\\ezfish\\\\jonna\\\\CIM132\\\\HCR\\\\240408_CIM132\\\\output_HCR4_to_HCR1_github\\\\local_params_scan_nodeform\\\\rz1_rxy25_bs3to30_mt0.2\\\\bs100_100_25_1_25_bs5to70_mt0.2', '\\\\\\\\bananas\\\\data\\\\ezfish\\\\jonna\\\\CIM132\\\\HCR\\\\240408_CIM132\\\\output_HCR4_to_HCR1_github\\\\local_params_scan_nodeform\\\\rz1_rxy25_bs3to30_mt0.2\\\\bs100_100_25_5_25_bs5to70_mt0.2', '\\\\\\\\bananas\\\\data\\\\ezfish\\\\jonna\\\\CIM132\\\\HCR\\\\240408_CIM132\\\\output_HCR4_to_HCR1_github\\\\local_params_scan_nodeform\\\\rz1_rxy25_bs3to30_mt0.2\\\\bs100_100_25_5_50_bs5to70_mt0.2', '\\\\\\\\bananas\\\\data\\\\ezfish\\\\jonna\\\\CIM132\\\\HCR\\\\240408_CIM132\\\\output_HCR4_to_HCR1_github\\\\local_params_scan_nodeform\\\\rz1_rxy25_bs3to30_mt0.2\\\\bs50_50_12_5_15_bs5to70_mt0.2', '\\\\\\\\bananas\\\\data\\\\ezfish\\\\jonna\\\\CIM132\\\\HCR\\\\240408_CIM132\\\\output_HCR4_to_HCR1_github\\\\local_params_scan_nodeform\\\\rz1_rxy25_bs3to30_mt0.2\\\\bs100_100_25_10_25_bs5to70_mt0.2', '\\\\\\\\bananas\\\\data\\\\ezfish\\\\jonna\\\\CIM132\\\\HCR\\\\240408_CIM132\\\\output_HCR4_to_HCR1_github\\\\local_params_scan_nodeform\\\\rz1_rxy25_bs3to30_mt0.2\\\\bs100_100_25_1_15_bs5to70_mt0.2', '\\\\\\\\bananas\\\\data\\\\ezfish\\\\jonna\\\\CIM132\\\\HCR\\\\240408_CIM132\\\\output_HCR4_to_HCR1_github\\\\local_params_scan_nodeform\\\\rz1_rxy25_bs3to30_mt0.2\\\\bs100_100_25_10_50_bs5to70_mt0.2', '\\\\\\\\bananas\\\\data\\\\ezfish\\\\jonna\\\\CIM132\\\\HCR\\\\240408_CIM132\\\\output_HCR4_to_HCR1_github\\\\local_params_scan_nodeform\\\\rz1_rxy25_bs3to30_mt0.2\\\\bs50_50_12_1_25_bs5to70_mt0.2', '\\\\\\\\bananas\\\\data\\\\ezfish\\\\jonna\\\\CIM132\\\\HCR\\\\240408_CIM132\\\\output_HCR4_to_HCR1_github\\\\local_params_scan_nodeform\\\\rz1_rxy25_bs3to30_mt0.2\\\\bs50_50_12_1_50_bs5to70_mt0.2', '\\\\\\\\bananas\\\\data\\\\ezfish\\\\jonna\\\\CIM132\\\\HCR\\\\240408_CIM132\\\\output_HCR4_to_HCR1_github\\\\local_params_scan_nodeform\\\\rz1_rxy25_bs3to30_mt0.2\\\\bs50_50_12_10_50_bs5to70_mt0.2', '\\\\\\\\bananas\\\\data\\\\ezfish\\\\jonna\\\\CIM132\\\\HCR\\\\240408_CIM132\\\\output_HCR4_to_HCR1_github\\\\local_params_scan_nodeform\\\\rz1_rxy25_bs3to30_mt0.2\\\\bs50_50_12_10_25_bs5to70_mt0.2', '\\\\\\\\bananas\\\\data\\\\ezfish\\\\jonna\\\\CIM132\\\\HCR\\\\240408_CIM132\\\\output_HCR4_to_HCR1_github\\\\local_params_scan_nodeform\\\\rz1_rxy25_bs3to30_mt0.2\\\\bs50_50_12_5_50_bs5to70_mt0.2', '\\\\\\\\bananas\\\\data\\\\ezfish\\\\jonna\\\\CIM132\\\\HCR\\\\240408_CIM132\\\\output_HCR4_to_HCR1_github\\\\local_params_scan_nodeform\\\\rz1_rxy25_bs3to30_mt0.2\\\\bs50_50_12_5_25_bs5to70_mt0.2', '\\\\\\\\bananas\\\\data\\\\ezfish\\\\jonna\\\\CIM132\\\\HCR\\\\240408_CIM132\\\\output_HCR4_to_HCR1_github\\\\local_params_scan_nodeform\\\\rz1_rxy25_bs3to30_mt0.2\\\\bs100_100_25_5_15_bs5to70_mt0.2']\n"
     ]
    },
    {
     "name": "stderr",
     "output_type": "stream",
     "text": [
      "Processing folders:   0%|                                                                       | 0/18 [00:00<?, ?it/s]"
     ]
    },
    {
     "name": "stdout",
     "output_type": "stream",
     "text": [
      "Processing folder 1 out of 18\n",
      "Zarr data shape: (1969, 1930, 39), DAPI data shape: (1969, 1930, 39)\n",
      "Combined data shape before reshaping: (1969, 1930, 39, 2)\n"
     ]
    },
    {
     "name": "stderr",
     "output_type": "stream",
     "text": [
      "Processing folders:   6%|███▍                                                          | 1/18 [03:15<55:29, 195.86s/it]"
     ]
    },
    {
     "name": "stdout",
     "output_type": "stream",
     "text": [
      "Converted \\\\bananas\\data\\ezfish\\jonna\\CIM132\\HCR\\240408_CIM132\\output_HCR4_to_HCR1_github\\local_params_scan_nodeform\\rz1_rxy25_bs3to30_mt0.2\\bs50_50_12_10_15_bs5to70_mt0.2\\deformed.zarr to \\\\bananas\\data\\ezfish\\jonna\\CIM132\\HCR\\240408_CIM132\\output_HCR4_to_HCR1_github\\local_params_scan_nodeform\\rz1_rxy25_bs3to30_mt0.2\\tiff_outputs_gpt\\m0.215_bs50_50_12_10_15_bs5to70_mt0.2_both.tiff\n",
      "Processing folder 2 out of 18\n",
      "Zarr data shape: (1969, 1930, 39), DAPI data shape: (1969, 1930, 39)\n",
      "Combined data shape before reshaping: (1969, 1930, 39, 2)\n"
     ]
    },
    {
     "name": "stderr",
     "output_type": "stream",
     "text": [
      "Processing folders:  11%|██████▉                                                       | 2/18 [06:50<55:07, 206.73s/it]"
     ]
    },
    {
     "name": "stdout",
     "output_type": "stream",
     "text": [
      "Converted \\\\bananas\\data\\ezfish\\jonna\\CIM132\\HCR\\240408_CIM132\\output_HCR4_to_HCR1_github\\local_params_scan_nodeform\\rz1_rxy25_bs3to30_mt0.2\\bs50_50_12_1_15_bs5to70_mt0.2\\deformed.zarr to \\\\bananas\\data\\ezfish\\jonna\\CIM132\\HCR\\240408_CIM132\\output_HCR4_to_HCR1_github\\local_params_scan_nodeform\\rz1_rxy25_bs3to30_mt0.2\\tiff_outputs_gpt\\m0.215_bs50_50_12_1_15_bs5to70_mt0.2_both.tiff\n",
      "Processing folder 3 out of 18\n",
      "Zarr data shape: (1969, 1930, 39), DAPI data shape: (1969, 1930, 39)\n",
      "Combined data shape before reshaping: (1969, 1930, 39, 2)\n"
     ]
    },
    {
     "name": "stderr",
     "output_type": "stream",
     "text": [
      "Processing folders:  17%|██████████▎                                                   | 3/18 [07:56<35:38, 142.54s/it]"
     ]
    },
    {
     "name": "stdout",
     "output_type": "stream",
     "text": [
      "Converted \\\\bananas\\data\\ezfish\\jonna\\CIM132\\HCR\\240408_CIM132\\output_HCR4_to_HCR1_github\\local_params_scan_nodeform\\rz1_rxy25_bs3to30_mt0.2\\bs100_100_25_1_50_bs5to70_mt0.2\\deformed.zarr to \\\\bananas\\data\\ezfish\\jonna\\CIM132\\HCR\\240408_CIM132\\output_HCR4_to_HCR1_github\\local_params_scan_nodeform\\rz1_rxy25_bs3to30_mt0.2\\tiff_outputs_gpt\\m0.226_bs100_100_25_1_50_bs5to70_mt0.2_both.tiff\n",
      "Processing folder 4 out of 18\n",
      "Zarr data shape: (1969, 1930, 39), DAPI data shape: (1969, 1930, 39)\n",
      "Combined data shape before reshaping: (1969, 1930, 39, 2)\n"
     ]
    },
    {
     "name": "stderr",
     "output_type": "stream",
     "text": [
      "Processing folders:  22%|█████████████▊                                                | 4/18 [08:52<25:17, 108.36s/it]"
     ]
    },
    {
     "name": "stdout",
     "output_type": "stream",
     "text": [
      "Converted \\\\bananas\\data\\ezfish\\jonna\\CIM132\\HCR\\240408_CIM132\\output_HCR4_to_HCR1_github\\local_params_scan_nodeform\\rz1_rxy25_bs3to30_mt0.2\\bs100_100_25_10_15_bs5to70_mt0.2\\deformed.zarr to \\\\bananas\\data\\ezfish\\jonna\\CIM132\\HCR\\240408_CIM132\\output_HCR4_to_HCR1_github\\local_params_scan_nodeform\\rz1_rxy25_bs3to30_mt0.2\\tiff_outputs_gpt\\m0.264_bs100_100_25_10_15_bs5to70_mt0.2_both.tiff\n",
      "Processing folder 5 out of 18\n",
      "Zarr data shape: (1969, 1930, 39), DAPI data shape: (1969, 1930, 39)\n",
      "Combined data shape before reshaping: (1969, 1930, 39, 2)\n"
     ]
    },
    {
     "name": "stderr",
     "output_type": "stream",
     "text": [
      "Processing folders:  28%|█████████████████▌                                             | 5/18 [09:58<20:09, 93.05s/it]"
     ]
    },
    {
     "name": "stdout",
     "output_type": "stream",
     "text": [
      "Converted \\\\bananas\\data\\ezfish\\jonna\\CIM132\\HCR\\240408_CIM132\\output_HCR4_to_HCR1_github\\local_params_scan_nodeform\\rz1_rxy25_bs3to30_mt0.2\\bs100_100_25_1_25_bs5to70_mt0.2\\deformed.zarr to \\\\bananas\\data\\ezfish\\jonna\\CIM132\\HCR\\240408_CIM132\\output_HCR4_to_HCR1_github\\local_params_scan_nodeform\\rz1_rxy25_bs3to30_mt0.2\\tiff_outputs_gpt\\m0.295_bs100_100_25_1_25_bs5to70_mt0.2_both.tiff\n",
      "Processing folder 6 out of 18\n",
      "Zarr data shape: (1969, 1930, 39), DAPI data shape: (1969, 1930, 39)\n",
      "Combined data shape before reshaping: (1969, 1930, 39, 2)\n"
     ]
    },
    {
     "name": "stderr",
     "output_type": "stream",
     "text": [
      "Processing folders:  33%|█████████████████████                                          | 6/18 [10:59<16:25, 82.12s/it]"
     ]
    },
    {
     "name": "stdout",
     "output_type": "stream",
     "text": [
      "Converted \\\\bananas\\data\\ezfish\\jonna\\CIM132\\HCR\\240408_CIM132\\output_HCR4_to_HCR1_github\\local_params_scan_nodeform\\rz1_rxy25_bs3to30_mt0.2\\bs100_100_25_5_25_bs5to70_mt0.2\\deformed.zarr to \\\\bananas\\data\\ezfish\\jonna\\CIM132\\HCR\\240408_CIM132\\output_HCR4_to_HCR1_github\\local_params_scan_nodeform\\rz1_rxy25_bs3to30_mt0.2\\tiff_outputs_gpt\\m0.294_bs100_100_25_5_25_bs5to70_mt0.2_both.tiff\n",
      "Processing folder 7 out of 18\n",
      "Zarr data shape: (1969, 1930, 39), DAPI data shape: (1969, 1930, 39)\n",
      "Combined data shape before reshaping: (1969, 1930, 39, 2)\n"
     ]
    },
    {
     "name": "stderr",
     "output_type": "stream",
     "text": [
      "Processing folders:  39%|████████████████████████▌                                      | 7/18 [11:55<13:28, 73.54s/it]"
     ]
    },
    {
     "name": "stdout",
     "output_type": "stream",
     "text": [
      "Converted \\\\bananas\\data\\ezfish\\jonna\\CIM132\\HCR\\240408_CIM132\\output_HCR4_to_HCR1_github\\local_params_scan_nodeform\\rz1_rxy25_bs3to30_mt0.2\\bs100_100_25_5_50_bs5to70_mt0.2\\deformed.zarr to \\\\bananas\\data\\ezfish\\jonna\\CIM132\\HCR\\240408_CIM132\\output_HCR4_to_HCR1_github\\local_params_scan_nodeform\\rz1_rxy25_bs3to30_mt0.2\\tiff_outputs_gpt\\m0.22_bs100_100_25_5_50_bs5to70_mt0.2_both.tiff\n",
      "Processing folder 8 out of 18\n",
      "Zarr data shape: (1969, 1930, 39), DAPI data shape: (1969, 1930, 39)\n",
      "Combined data shape before reshaping: (1969, 1930, 39, 2)\n"
     ]
    },
    {
     "name": "stderr",
     "output_type": "stream",
     "text": [
      "Processing folders:  44%|███████████████████████████▌                                  | 8/18 [15:14<18:54, 113.49s/it]"
     ]
    },
    {
     "name": "stdout",
     "output_type": "stream",
     "text": [
      "Converted \\\\bananas\\data\\ezfish\\jonna\\CIM132\\HCR\\240408_CIM132\\output_HCR4_to_HCR1_github\\local_params_scan_nodeform\\rz1_rxy25_bs3to30_mt0.2\\bs50_50_12_5_15_bs5to70_mt0.2\\deformed.zarr to \\\\bananas\\data\\ezfish\\jonna\\CIM132\\HCR\\240408_CIM132\\output_HCR4_to_HCR1_github\\local_params_scan_nodeform\\rz1_rxy25_bs3to30_mt0.2\\tiff_outputs_gpt\\m0.215_bs50_50_12_5_15_bs5to70_mt0.2_both.tiff\n",
      "Processing folder 9 out of 18\n",
      "Zarr data shape: (1969, 1930, 39), DAPI data shape: (1969, 1930, 39)\n",
      "Combined data shape before reshaping: (1969, 1930, 39, 2)\n"
     ]
    },
    {
     "name": "stderr",
     "output_type": "stream",
     "text": [
      "Processing folders:  50%|███████████████████████████████▌                               | 9/18 [16:09<14:17, 95.27s/it]"
     ]
    },
    {
     "name": "stdout",
     "output_type": "stream",
     "text": [
      "Converted \\\\bananas\\data\\ezfish\\jonna\\CIM132\\HCR\\240408_CIM132\\output_HCR4_to_HCR1_github\\local_params_scan_nodeform\\rz1_rxy25_bs3to30_mt0.2\\bs100_100_25_10_25_bs5to70_mt0.2\\deformed.zarr to \\\\bananas\\data\\ezfish\\jonna\\CIM132\\HCR\\240408_CIM132\\output_HCR4_to_HCR1_github\\local_params_scan_nodeform\\rz1_rxy25_bs3to30_mt0.2\\tiff_outputs_gpt\\m0.255_bs100_100_25_10_25_bs5to70_mt0.2_both.tiff\n",
      "Processing folder 10 out of 18\n",
      "Zarr data shape: (1969, 1930, 39), DAPI data shape: (1969, 1930, 39)\n",
      "Combined data shape before reshaping: (1969, 1930, 39, 2)\n"
     ]
    },
    {
     "name": "stderr",
     "output_type": "stream",
     "text": [
      "Processing folders:  56%|██████████████████████████████████▍                           | 10/18 [17:15<11:31, 86.38s/it]"
     ]
    },
    {
     "name": "stdout",
     "output_type": "stream",
     "text": [
      "Converted \\\\bananas\\data\\ezfish\\jonna\\CIM132\\HCR\\240408_CIM132\\output_HCR4_to_HCR1_github\\local_params_scan_nodeform\\rz1_rxy25_bs3to30_mt0.2\\bs100_100_25_1_15_bs5to70_mt0.2\\deformed.zarr to \\\\bananas\\data\\ezfish\\jonna\\CIM132\\HCR\\240408_CIM132\\output_HCR4_to_HCR1_github\\local_params_scan_nodeform\\rz1_rxy25_bs3to30_mt0.2\\tiff_outputs_gpt\\m0.299_bs100_100_25_1_15_bs5to70_mt0.2_both.tiff\n",
      "Processing folder 11 out of 18\n",
      "Zarr data shape: (1969, 1930, 39), DAPI data shape: (1969, 1930, 39)\n",
      "Combined data shape before reshaping: (1969, 1930, 39, 2)\n"
     ]
    },
    {
     "name": "stderr",
     "output_type": "stream",
     "text": [
      "Processing folders:  61%|█████████████████████████████████████▉                        | 11/18 [18:10<08:57, 76.81s/it]"
     ]
    },
    {
     "name": "stdout",
     "output_type": "stream",
     "text": [
      "Converted \\\\bananas\\data\\ezfish\\jonna\\CIM132\\HCR\\240408_CIM132\\output_HCR4_to_HCR1_github\\local_params_scan_nodeform\\rz1_rxy25_bs3to30_mt0.2\\bs100_100_25_10_50_bs5to70_mt0.2\\deformed.zarr to \\\\bananas\\data\\ezfish\\jonna\\CIM132\\HCR\\240408_CIM132\\output_HCR4_to_HCR1_github\\local_params_scan_nodeform\\rz1_rxy25_bs3to30_mt0.2\\tiff_outputs_gpt\\m0.216_bs100_100_25_10_50_bs5to70_mt0.2_both.tiff\n",
      "Processing folder 12 out of 18\n",
      "Zarr data shape: (1969, 1930, 39), DAPI data shape: (1969, 1930, 39)\n",
      "Combined data shape before reshaping: (1969, 1930, 39, 2)\n"
     ]
    },
    {
     "name": "stderr",
     "output_type": "stream",
     "text": [
      "Processing folders:  67%|████████████████████████████████████████▋                    | 12/18 [21:39<11:41, 116.88s/it]"
     ]
    },
    {
     "name": "stdout",
     "output_type": "stream",
     "text": [
      "Converted \\\\bananas\\data\\ezfish\\jonna\\CIM132\\HCR\\240408_CIM132\\output_HCR4_to_HCR1_github\\local_params_scan_nodeform\\rz1_rxy25_bs3to30_mt0.2\\bs50_50_12_1_25_bs5to70_mt0.2\\deformed.zarr to \\\\bananas\\data\\ezfish\\jonna\\CIM132\\HCR\\240408_CIM132\\output_HCR4_to_HCR1_github\\local_params_scan_nodeform\\rz1_rxy25_bs3to30_mt0.2\\tiff_outputs_gpt\\m0.215_bs50_50_12_1_25_bs5to70_mt0.2_both.tiff\n",
      "Processing folder 13 out of 18\n",
      "Zarr data shape: (1969, 1930, 39), DAPI data shape: (1969, 1930, 39)\n",
      "Combined data shape before reshaping: (1969, 1930, 39, 2)\n"
     ]
    },
    {
     "name": "stderr",
     "output_type": "stream",
     "text": [
      "Processing folders:  72%|████████████████████████████████████████████                 | 13/18 [25:02<11:54, 142.88s/it]"
     ]
    },
    {
     "name": "stdout",
     "output_type": "stream",
     "text": [
      "Converted \\\\bananas\\data\\ezfish\\jonna\\CIM132\\HCR\\240408_CIM132\\output_HCR4_to_HCR1_github\\local_params_scan_nodeform\\rz1_rxy25_bs3to30_mt0.2\\bs50_50_12_1_50_bs5to70_mt0.2\\deformed.zarr to \\\\bananas\\data\\ezfish\\jonna\\CIM132\\HCR\\240408_CIM132\\output_HCR4_to_HCR1_github\\local_params_scan_nodeform\\rz1_rxy25_bs3to30_mt0.2\\tiff_outputs_gpt\\m0.215_bs50_50_12_1_50_bs5to70_mt0.2_both.tiff\n",
      "Processing folder 14 out of 18\n",
      "Zarr data shape: (1969, 1930, 39), DAPI data shape: (1969, 1930, 39)\n",
      "Combined data shape before reshaping: (1969, 1930, 39, 2)\n"
     ]
    },
    {
     "name": "stderr",
     "output_type": "stream",
     "text": [
      "Processing folders:  78%|███████████████████████████████████████████████▍             | 14/18 [28:32<10:52, 163.25s/it]"
     ]
    },
    {
     "name": "stdout",
     "output_type": "stream",
     "text": [
      "Converted \\\\bananas\\data\\ezfish\\jonna\\CIM132\\HCR\\240408_CIM132\\output_HCR4_to_HCR1_github\\local_params_scan_nodeform\\rz1_rxy25_bs3to30_mt0.2\\bs50_50_12_10_50_bs5to70_mt0.2\\deformed.zarr to \\\\bananas\\data\\ezfish\\jonna\\CIM132\\HCR\\240408_CIM132\\output_HCR4_to_HCR1_github\\local_params_scan_nodeform\\rz1_rxy25_bs3to30_mt0.2\\tiff_outputs_gpt\\m0.215_bs50_50_12_10_50_bs5to70_mt0.2_both.tiff\n",
      "Processing folder 15 out of 18\n",
      "Zarr data shape: (1969, 1930, 39), DAPI data shape: (1969, 1930, 39)\n",
      "Combined data shape before reshaping: (1969, 1930, 39, 2)\n"
     ]
    },
    {
     "name": "stderr",
     "output_type": "stream",
     "text": [
      "Processing folders:  83%|██████████████████████████████████████████████████▊          | 15/18 [32:11<09:00, 180.20s/it]"
     ]
    },
    {
     "name": "stdout",
     "output_type": "stream",
     "text": [
      "Converted \\\\bananas\\data\\ezfish\\jonna\\CIM132\\HCR\\240408_CIM132\\output_HCR4_to_HCR1_github\\local_params_scan_nodeform\\rz1_rxy25_bs3to30_mt0.2\\bs50_50_12_10_25_bs5to70_mt0.2\\deformed.zarr to \\\\bananas\\data\\ezfish\\jonna\\CIM132\\HCR\\240408_CIM132\\output_HCR4_to_HCR1_github\\local_params_scan_nodeform\\rz1_rxy25_bs3to30_mt0.2\\tiff_outputs_gpt\\m0.215_bs50_50_12_10_25_bs5to70_mt0.2_both.tiff\n",
      "Processing folder 16 out of 18\n",
      "Zarr data shape: (1969, 1930, 39), DAPI data shape: (1969, 1930, 39)\n",
      "Combined data shape before reshaping: (1969, 1930, 39, 2)\n"
     ]
    },
    {
     "name": "stderr",
     "output_type": "stream",
     "text": [
      "Processing folders:  89%|██████████████████████████████████████████████████████▏      | 16/18 [35:52<06:24, 192.30s/it]"
     ]
    },
    {
     "name": "stdout",
     "output_type": "stream",
     "text": [
      "Converted \\\\bananas\\data\\ezfish\\jonna\\CIM132\\HCR\\240408_CIM132\\output_HCR4_to_HCR1_github\\local_params_scan_nodeform\\rz1_rxy25_bs3to30_mt0.2\\bs50_50_12_5_50_bs5to70_mt0.2\\deformed.zarr to \\\\bananas\\data\\ezfish\\jonna\\CIM132\\HCR\\240408_CIM132\\output_HCR4_to_HCR1_github\\local_params_scan_nodeform\\rz1_rxy25_bs3to30_mt0.2\\tiff_outputs_gpt\\m0.215_bs50_50_12_5_50_bs5to70_mt0.2_both.tiff\n",
      "Processing folder 17 out of 18\n",
      "Zarr data shape: (1969, 1930, 39), DAPI data shape: (1969, 1930, 39)\n",
      "Combined data shape before reshaping: (1969, 1930, 39, 2)\n"
     ]
    },
    {
     "name": "stderr",
     "output_type": "stream",
     "text": [
      "Processing folders:  94%|█████████████████████████████████████████████████████████▌   | 17/18 [39:24<03:18, 198.16s/it]"
     ]
    },
    {
     "name": "stdout",
     "output_type": "stream",
     "text": [
      "Converted \\\\bananas\\data\\ezfish\\jonna\\CIM132\\HCR\\240408_CIM132\\output_HCR4_to_HCR1_github\\local_params_scan_nodeform\\rz1_rxy25_bs3to30_mt0.2\\bs50_50_12_5_25_bs5to70_mt0.2\\deformed.zarr to \\\\bananas\\data\\ezfish\\jonna\\CIM132\\HCR\\240408_CIM132\\output_HCR4_to_HCR1_github\\local_params_scan_nodeform\\rz1_rxy25_bs3to30_mt0.2\\tiff_outputs_gpt\\m0.215_bs50_50_12_5_25_bs5to70_mt0.2_both.tiff\n",
      "Processing folder 18 out of 18\n",
      "Zarr data shape: (1969, 1930, 39), DAPI data shape: (1969, 1930, 39)\n",
      "Combined data shape before reshaping: (1969, 1930, 39, 2)\n"
     ]
    },
    {
     "name": "stderr",
     "output_type": "stream",
     "text": [
      "Processing folders: 100%|█████████████████████████████████████████████████████████████| 18/18 [40:29<00:00, 134.96s/it]"
     ]
    },
    {
     "name": "stdout",
     "output_type": "stream",
     "text": [
      "Converted \\\\bananas\\data\\ezfish\\jonna\\CIM132\\HCR\\240408_CIM132\\output_HCR4_to_HCR1_github\\local_params_scan_nodeform\\rz1_rxy25_bs3to30_mt0.2\\bs100_100_25_5_15_bs5to70_mt0.2\\deformed.zarr to \\\\bananas\\data\\ezfish\\jonna\\CIM132\\HCR\\240408_CIM132\\output_HCR4_to_HCR1_github\\local_params_scan_nodeform\\rz1_rxy25_bs3to30_mt0.2\\tiff_outputs_gpt\\m0.298_bs100_100_25_5_15_bs5to70_mt0.2_both.tiff\n"
     ]
    },
    {
     "name": "stderr",
     "output_type": "stream",
     "text": [
      "\n"
     ]
    }
   ],
   "source": [
    "## If scanning local parameters (WITHOUT DEFORM), go through a master folder and turn all deformed.zarr into TIFFs and combine with original DAPI for ease of comparison.\n",
    "#In future, save only non-degenerate affines would make this way easier.\n",
    "\n",
    "import os\n",
    "import zarr\n",
    "import tifffile\n",
    "import numpy as np\n",
    "from tqdm import tqdm\n",
    "import SimpleITK as sitk\n",
    "\n",
    "def get_registration_score(fixed, mov):\n",
    "    fixed_image = sitk.GetImageFromArray(fixed.astype(np.float32))\n",
    "    registered_image = sitk.GetImageFromArray(mov.astype(np.float32))\n",
    "    # Initialize the registration method\n",
    "    irm = sitk.ImageRegistrationMethod()\n",
    "\n",
    "    # Set the metric to ANTS Neighborhood Correlation\n",
    "    irm.SetMetricAsMattesMutualInformation()  # 4 is the radius of the neighborhood\n",
    "\n",
    "    # Set the fixed and moving images for the metric evaluation\n",
    "    out = irm.MetricEvaluate(fixed_image,registered_image)\n",
    "    return out\n",
    "\n",
    "def find_folders_with_zarr(master_folder):\n",
    "    zarr_folders = []\n",
    "    for root, dirs, files in os.walk(master_folder):\n",
    "        if 'deformed.zarr' in dirs:\n",
    "            zarr_folders.append(root)\n",
    "    return zarr_folders\n",
    "\n",
    "def process_zarr_to_tiff(master_folder, dapi_file, subsample_z =2 ):\n",
    "    zarr_folders = find_folders_with_zarr(master_folder)\n",
    "    subfolder_count = len(zarr_folders)\n",
    "\n",
    "    if subfolder_count == 0:\n",
    "        print(\"No folders with 'deformed.zarr' found.\")\n",
    "        return\n",
    "\n",
    "    print(f\"Found {subfolder_count} folders with 'deformed.zarr'\")\n",
    "    print(\"Folders to process:\", zarr_folders)\n",
    "\n",
    "    output_dir = os.path.join(master_folder, 'tiff_outputs_gpt')\n",
    "    if not os.path.exists(output_dir):\n",
    "        os.makedirs(output_dir)\n",
    "\n",
    "    dapi_data = tifffile.imread(dapi_file)\n",
    "    dapi_data = dapi_data.transpose(2, 1, 0)\n",
    "    dapi_data_org = dapi_data.copy()\n",
    "    dapi_data = dapi_data[:, :, ::subsample_z]\n",
    "\n",
    "    pbar = tqdm(total=subfolder_count, desc=\"Processing folders\")\n",
    "\n",
    "    for index, zarr_folder in enumerate(zarr_folders):\n",
    "        print(f\"Processing folder {index + 1} out of {subfolder_count}\")\n",
    "        zarr_path = os.path.join(zarr_folder, 'deformed.zarr')\n",
    "        subfolder_name = os.path.basename(zarr_folder)\n",
    "\n",
    "        try:\n",
    "            data = zarr.load(zarr_path)\n",
    "#             from IPython import embed; embed()\n",
    "            reg_score= get_registration_score(data, dapi_data_org)\n",
    "            reg_score_text = str(np.round(reg_score,3)).replace('-','m')\n",
    "        \n",
    "            data = data[:, :, ::subsample_z]\n",
    "\n",
    "            print(f\"Zarr data shape: {data.shape}, DAPI data shape: {dapi_data.shape}\")\n",
    "\n",
    "            if data.shape != dapi_data.shape:\n",
    "                print(f\"Skipping {zarr_path} due to shape mismatch with DAPI data\")\n",
    "                pbar.update(1)\n",
    "                continue\n",
    "\n",
    "            combined_data = np.stack((dapi_data, data), axis=-1)\n",
    "            print(f\"Combined data shape before reshaping: {combined_data.shape}\")\n",
    "\n",
    "            tiff_path = os.path.join(output_dir, f\"{reg_score_text}_{subfolder_name}_both.tiff\")\n",
    "            combined_data = combined_data.transpose(2, 3, 0, 1)\n",
    "            tifffile.imwrite(tiff_path, combined_data, photometric='minisblack', imagej=True)\n",
    "\n",
    "            print(f\"Converted {zarr_path} to {tiff_path}\")\n",
    "\n",
    "        except Exception as e:\n",
    "            print(f\"Error processing {zarr_path}: {e}\")\n",
    "\n",
    "        pbar.update(1)\n",
    "    \n",
    "        # Add a check to break out of the loop if it stalls.\n",
    "\n",
    "    pbar.close()\n",
    "\n",
    "master_folder = fr\"\\\\bananas\\data\\ezfish\\jonna\\CIM132\\HCR\\240408_CIM132\\output_HCR4_to_HCR1_github\\local_params_scan_nodeform\\rz1_rxy25_bs3to30_mt0.2\"\n",
    "dapi_file =fr\"\\\\bananas\\data\\ezfish\\jonna\\CIM132\\HCR\\240408_CIM132\\CIM132_SLICE001_HCR1_C1_DAPI.tif\"\n",
    "\n",
    "process_zarr_to_tiff(master_folder, dapi_file)\n"
   ]
  },
  {
   "cell_type": "code",
   "execution_count": null,
   "id": "4955f129",
   "metadata": {},
   "outputs": [],
   "source": []
  }
 ],
 "metadata": {
  "kernelspec": {
   "display_name": "Python 3 (ipykernel)",
   "language": "python",
   "name": "python3"
  },
  "language_info": {
   "codemirror_mode": {
    "name": "ipython",
    "version": 3
   },
   "file_extension": ".py",
   "mimetype": "text/x-python",
   "name": "python",
   "nbconvert_exporter": "python",
   "pygments_lexer": "ipython3",
   "version": "3.9.15"
  },
  "toc": {
   "base_numbering": 1,
   "nav_menu": {},
   "number_sections": true,
   "sideBar": true,
   "skip_h1_title": false,
   "title_cell": "Table of Contents",
   "title_sidebar": "Contents",
   "toc_cell": false,
   "toc_position": {},
   "toc_section_display": true,
   "toc_window_display": false
  }
 },
 "nbformat": 4,
 "nbformat_minor": 5
}
