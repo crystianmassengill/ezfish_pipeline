{
 "cells": [
  {
   "cell_type": "markdown",
   "id": "9979782c",
   "metadata": {},
   "source": [
    "# scan different paramters for the first high res registartion\n",
    "This process takes a lot of time and should be done on a few parameters.\n"
   ]
  },
  {
   "cell_type": "code",
   "execution_count": 25,
   "id": "0fccea53",
   "metadata": {},
   "outputs": [
    {
     "name": "stdout",
     "output_type": "stream",
     "text": [
      "The autoreload extension is already loaded. To reload it, use:\n",
      "  %reload_ext autoreload\n",
      "All files found\n"
     ]
    }
   ],
   "source": [
    "%load_ext autoreload\n",
    "%autoreload 2\n",
    "from reg_imports import verify_rounds, hjson, Path, np, tif_imread, tif_imwrite, tqdm, register_lowres, custom_easifish_registration_pipeline\n",
    "\n",
    "\n",
    "# Load the manifest file\n",
    "hjson_file = '/home/oamsalem/code/Projects/EZfish/ezfish_pipeline/examples/BIG100.hjson'\n",
    "full_manifest = hjson.load(open(hjson_file, 'r'))\n",
    "manifest = full_manifest['data']\n",
    "\n",
    "output_folder = Path(manifest['base_path']) / manifest['mouse_name'] / 'OUTPUT' / 'HCR' / 'registrations' \n",
    "round_to_rounds, reference_round, _ = verify_rounds(full_manifest)"
   ]
  },
  {
   "cell_type": "markdown",
   "id": "2688d22a",
   "metadata": {},
   "source": [
    "### PARAMETERS"
   ]
  },
  {
   "cell_type": "code",
   "execution_count": 20,
   "id": "649e7b3c",
   "metadata": {},
   "outputs": [],
   "source": [
    "# Choose the round to register\n",
    "HCR_round_to_register = '02'# 02,03...?\n",
    "\n",
    "assert HCR_round_to_register in round_to_rounds.keys(), f\"round {HCR_round_to_register} not found in rounds to register\"\n",
    "\n"
   ]
  },
  {
   "cell_type": "markdown",
   "id": "2e5bfd66",
   "metadata": {},
   "source": [
    "### Image parameters "
   ]
  },
  {
   "cell_type": "code",
   "execution_count": 21,
   "id": "bf0486c4",
   "metadata": {},
   "outputs": [],
   "source": [
    "mov_round = round_to_rounds[HCR_round_to_register]\n",
    "# File names\n",
    "HCR_fix_image_path = reference_round['image_path'] # The fix image that all other rounds will be registerd to (include all channels!)\n",
    "HCR_mov_image_path = mov_round['image_path'] # The image that will be registered to the fix image (include all channels!)\n",
    "\n",
    "round_folder_name = f\"HCR{HCR_round_to_register}_to_HCR{reference_round['round']}\"\n",
    "\n",
    "# resolution of the images\n",
    "fix_image_spacing = np.array(reference_round['resolution']) # Y,X,Z\n",
    "mov_image_spacing = np.array(mov_round['resolution']) # Y,X,Z\n",
    "\n",
    "# spatial downsampling, probably no need to test. (Changed x and y from 3 to 2 for CIM round 5)\n",
    "red_mut_x = manifest['HCR_to_HCR_params']['red_mut_x']\n",
    "red_mut_y = manifest['HCR_to_HCR_params']['red_mut_y']\n",
    "red_mut_z = manifest['HCR_to_HCR_params']['red_mut_z']\n",
    "\n"
   ]
  },
  {
   "cell_type": "markdown",
   "id": "a1bd8d46",
   "metadata": {},
   "source": [
    "#### Load the images"
   ]
  },
  {
   "cell_type": "code",
   "execution_count": 22,
   "id": "d7344ab9",
   "metadata": {},
   "outputs": [
    {
     "name": "stderr",
     "output_type": "stream",
     "text": [
      "TiffPage 0: TypeError: read_bytes() missing 3 required positional arguments: 'dtype', 'count', and 'offsetsize'\n"
     ]
    },
    {
     "name": "stdout",
     "output_type": "stream",
     "text": [
      "The dimensions of the high-resolution fixed image are: (1942, 1937, 70)\n",
      "The dimensions of the high-resolution moving image are: (1943, 1943, 62)\n",
      "The dimensions of the low-resolution moving image are: (648, 648, 31)\n"
     ]
    }
   ],
   "source": [
    "# Take first channel, I always assume that the first channel is what we want to register\n",
    "fix_highres = tif_imread(HCR_fix_image_path)[:,0].transpose(2,1,0) # take first channlel and transform from Z,X,Y to Y,X,Z\n",
    "mov_highres = tif_imread(HCR_mov_image_path)[:,0].transpose(2,1,0) # take first channlel and transform from Z,X,Y to Y,X,Z\n",
    "\n",
    "\n",
    "fix_lowres = fix_highres[::red_mut_y,::red_mut_x,::red_mut_z]\n",
    "fix_lowres_spacing = fix_image_spacing * np.array([red_mut_y,red_mut_x,red_mut_z])\n",
    "\n",
    "\n",
    "mov_lowres = mov_highres[::red_mut_y,::red_mut_x,::red_mut_z]\n",
    "mov_lowres_spacing = mov_image_spacing * np.array([red_mut_y,red_mut_x,red_mut_z])\n",
    "\n",
    "# Print the dimensions of the high-resolution and low-resolution images\n",
    "print(f\"The dimensions of the high-resolution fixed image are: {fix_highres.shape}\")\n",
    "print(f\"The dimensions of the high-resolution moving image are: {mov_highres.shape}\")\n",
    "print(f\"The dimensions of the low-resolution moving image are: {mov_lowres.shape}\")"
   ]
  },
  {
   "cell_type": "markdown",
   "id": "03b07179",
   "metadata": {},
   "source": [
    "### bigstream parameters (Pick what seems to have been good from 1_scan_lowres_parameters, 1 set)"
   ]
  },
  {
   "cell_type": "code",
   "execution_count": 23,
   "id": "dbe2f98e",
   "metadata": {},
   "outputs": [],
   "source": [
    "### Global parameters ###\n",
    "## These should be scanned in the 1_scan_lowres_parameters notebook, should use only 1 set here##\n",
    "\n",
    "# radius for local ransac for each spot (in pixles for LOW res image) - how many pixels to look around a spot for match\n",
    "g_radii_z = [1]\n",
    "g_radii_xy = [25]\n",
    "\n",
    "# when searching for blobs for ransac, what is the radius for the search alogorithem (in pixles for low res image)\n",
    "g_bsize_s_b = [[3,30]]\n",
    "\n",
    "# what is the minumum correlation for a spot to be considered a match\n",
    "g_m_tresholds = [0.2] \n",
    "\n",
    "### Local parameters ###\n",
    "\n",
    "# block size for local affine and deformable registration # [[x,y,z]]\n",
    "blocksize_to_scan = [[50,50,12],[100, 100, 25]]\n",
    "\n",
    "# Radius for local RANSAC for each spot (in pixels for high res image) - how many pixels to look around a spot for match\n",
    "radii_z = [1, 5, 10]\n",
    "radii_xy = [15,25, 50]\n",
    "bsize_s_b = [[5, 70]]\n",
    "m_tresholds = [0.2]\n",
    "\n",
    "# Example configurations\n",
    "# [z = 3, xy = 15, 3,20 bs, th = 0.2] # RG002\n",
    "# [z = 1, xy = 25, 3,20 bs, th = 0.2] # CIM132\n"
   ]
  },
  {
   "cell_type": "code",
   "execution_count": null,
   "id": "6b1920ef",
   "metadata": {},
   "outputs": [
    {
     "name": "stdout",
     "output_type": "stream",
     "text": [
      "/mnt/nasquatch/data/2p/jonna/EASI_FISH/pipeline/BIG100/OUTPUT/HCR/registrations/HCR02_to_HCR01/local_params_scan\n"
     ]
    },
    {
     "data": {
      "application/vnd.jupyter.widget-view+json": {
       "model_id": "f1bd4b57927a4a0589f0446729b405ec",
       "version_major": 2,
       "version_minor": 0
      },
      "text/plain": [
       "  0%|          | 0/18 [00:00<?, ?it/s]"
      ]
     },
     "metadata": {},
     "output_type": "display_data"
    },
    {
     "name": "stdout",
     "output_type": "stream",
     "text": [
      "/mnt/nasquatch/data/2p/jonna/EASI_FISH/pipeline/BIG100/OUTPUT/HCR/registrations/HCR02_to_HCR01/local_params_scan_nodeform/rz1_rxy25_bs3to30_mt0.2/bs50_50_12_1_15_bs5to70_mt0.2\n",
      "{'host': ''}\n"
     ]
    },
    {
     "name": "stderr",
     "output_type": "stream",
     "text": [
      "/mnt/colab/colab_shared/anaconda3/lib/python3.9/site-packages/distributed/node.py:183: UserWarning: Port 8787 is already in use.\n",
      "Perhaps you already have a cluster running?\n",
      "Hosting the HTTP server on port 38319 instead\n",
      "  warnings.warn(\n"
     ]
    },
    {
     "name": "stdout",
     "output_type": "stream",
     "text": [
      "Cluster dashboard link:  http://10.35.76.107:38319/status\n"
     ]
    },
    {
     "name": "stderr",
     "output_type": "stream",
     "text": [
      "/mnt/nasquatch/data/2p/jonna/Code_Python/Notebooks_Jonna/BigStream/bigstream_v2_andermann/bigstream/piecewise_align.py:378: RuntimeWarning: invalid value encountered in divide\n",
      "  weights = weights / (1 - missing_weights)\n",
      "/mnt/nasquatch/data/2p/jonna/Code_Python/Notebooks_Jonna/BigStream/bigstream_v2_andermann/bigstream/piecewise_align.py:378: RuntimeWarning: invalid value encountered in divide\n",
      "  weights = weights / (1 - missing_weights)\n",
      "/mnt/nasquatch/data/2p/jonna/Code_Python/Notebooks_Jonna/BigStream/bigstream_v2_andermann/bigstream/piecewise_align.py:378: RuntimeWarning: invalid value encountered in divide\n",
      "  weights = weights / (1 - missing_weights)\n",
      "/mnt/nasquatch/data/2p/jonna/Code_Python/Notebooks_Jonna/BigStream/bigstream_v2_andermann/bigstream/piecewise_align.py:378: RuntimeWarning: invalid value encountered in divide\n",
      "  weights = weights / (1 - missing_weights)\n",
      "/mnt/nasquatch/data/2p/jonna/Code_Python/Notebooks_Jonna/BigStream/bigstream_v2_andermann/bigstream/piecewise_align.py:378: RuntimeWarning: invalid value encountered in divide\n",
      "  weights = weights / (1 - missing_weights)\n",
      "/mnt/nasquatch/data/2p/jonna/Code_Python/Notebooks_Jonna/BigStream/bigstream_v2_andermann/bigstream/piecewise_align.py:378: RuntimeWarning: invalid value encountered in divide\n",
      "  weights = weights / (1 - missing_weights)\n",
      "/mnt/nasquatch/data/2p/jonna/Code_Python/Notebooks_Jonna/BigStream/bigstream_v2_andermann/bigstream/piecewise_align.py:378: RuntimeWarning: invalid value encountered in divide\n",
      "  weights = weights / (1 - missing_weights)\n",
      "/mnt/nasquatch/data/2p/jonna/Code_Python/Notebooks_Jonna/BigStream/bigstream_v2_andermann/bigstream/piecewise_align.py:378: RuntimeWarning: invalid value encountered in divide\n",
      "  weights = weights / (1 - missing_weights)\n",
      "/mnt/nasquatch/data/2p/jonna/Code_Python/Notebooks_Jonna/BigStream/bigstream_v2_andermann/bigstream/piecewise_align.py:378: RuntimeWarning: invalid value encountered in divide\n",
      "  weights = weights / (1 - missing_weights)\n",
      "/mnt/nasquatch/data/2p/jonna/Code_Python/Notebooks_Jonna/BigStream/bigstream_v2_andermann/bigstream/piecewise_align.py:378: RuntimeWarning: invalid value encountered in divide\n",
      "  weights = weights / (1 - missing_weights)\n",
      "/mnt/nasquatch/data/2p/jonna/Code_Python/Notebooks_Jonna/BigStream/bigstream_v2_andermann/bigstream/piecewise_align.py:378: RuntimeWarning: invalid value encountered in divide\n",
      "  weights = weights / (1 - missing_weights)\n",
      "/mnt/nasquatch/data/2p/jonna/Code_Python/Notebooks_Jonna/BigStream/bigstream_v2_andermann/bigstream/piecewise_align.py:378: RuntimeWarning: invalid value encountered in divide\n",
      "  weights = weights / (1 - missing_weights)\n",
      "/mnt/nasquatch/data/2p/jonna/Code_Python/Notebooks_Jonna/BigStream/bigstream_v2_andermann/bigstream/piecewise_align.py:378: RuntimeWarning: invalid value encountered in divide\n",
      "  weights = weights / (1 - missing_weights)\n",
      "/mnt/nasquatch/data/2p/jonna/Code_Python/Notebooks_Jonna/BigStream/bigstream_v2_andermann/bigstream/piecewise_align.py:378: RuntimeWarning: invalid value encountered in divide\n",
      "  weights = weights / (1 - missing_weights)\n",
      "/mnt/nasquatch/data/2p/jonna/Code_Python/Notebooks_Jonna/BigStream/bigstream_v2_andermann/bigstream/piecewise_align.py:378: RuntimeWarning: invalid value encountered in divide\n",
      "  weights = weights / (1 - missing_weights)\n",
      "/mnt/nasquatch/data/2p/jonna/Code_Python/Notebooks_Jonna/BigStream/bigstream_v2_andermann/bigstream/piecewise_align.py:378: RuntimeWarning: invalid value encountered in divide\n",
      "  weights = weights / (1 - missing_weights)\n",
      "/mnt/nasquatch/data/2p/jonna/Code_Python/Notebooks_Jonna/BigStream/bigstream_v2_andermann/bigstream/piecewise_align.py:378: RuntimeWarning: invalid value encountered in divide\n",
      "  weights = weights / (1 - missing_weights)\n",
      "/mnt/nasquatch/data/2p/jonna/Code_Python/Notebooks_Jonna/BigStream/bigstream_v2_andermann/bigstream/piecewise_align.py:378: RuntimeWarning: invalid value encountered in divide\n",
      "  weights = weights / (1 - missing_weights)\n",
      "/mnt/nasquatch/data/2p/jonna/Code_Python/Notebooks_Jonna/BigStream/bigstream_v2_andermann/bigstream/piecewise_align.py:378: RuntimeWarning: invalid value encountered in divide\n",
      "  weights = weights / (1 - missing_weights)\n",
      "/mnt/nasquatch/data/2p/jonna/Code_Python/Notebooks_Jonna/BigStream/bigstream_v2_andermann/bigstream/piecewise_align.py:378: RuntimeWarning: invalid value encountered in divide\n",
      "  weights = weights / (1 - missing_weights)\n",
      "/mnt/nasquatch/data/2p/jonna/Code_Python/Notebooks_Jonna/BigStream/bigstream_v2_andermann/bigstream/piecewise_align.py:378: RuntimeWarning: invalid value encountered in divide\n",
      "  weights = weights / (1 - missing_weights)\n",
      "/mnt/nasquatch/data/2p/jonna/Code_Python/Notebooks_Jonna/BigStream/bigstream_v2_andermann/bigstream/piecewise_align.py:378: RuntimeWarning: invalid value encountered in divide\n",
      "  weights = weights / (1 - missing_weights)\n",
      "/mnt/nasquatch/data/2p/jonna/Code_Python/Notebooks_Jonna/BigStream/bigstream_v2_andermann/bigstream/piecewise_align.py:378: RuntimeWarning: invalid value encountered in divide\n",
      "  weights = weights / (1 - missing_weights)\n",
      "/mnt/nasquatch/data/2p/jonna/Code_Python/Notebooks_Jonna/BigStream/bigstream_v2_andermann/bigstream/piecewise_align.py:378: RuntimeWarning: invalid value encountered in divide\n",
      "  weights = weights / (1 - missing_weights)\n",
      "/mnt/nasquatch/data/2p/jonna/Code_Python/Notebooks_Jonna/BigStream/bigstream_v2_andermann/bigstream/piecewise_align.py:378: RuntimeWarning: invalid value encountered in divide\n",
      "  weights = weights / (1 - missing_weights)\n",
      "/mnt/nasquatch/data/2p/jonna/Code_Python/Notebooks_Jonna/BigStream/bigstream_v2_andermann/bigstream/piecewise_align.py:378: RuntimeWarning: invalid value encountered in divide\n",
      "  weights = weights / (1 - missing_weights)\n",
      "/mnt/nasquatch/data/2p/jonna/Code_Python/Notebooks_Jonna/BigStream/bigstream_v2_andermann/bigstream/piecewise_align.py:378: RuntimeWarning: invalid value encountered in divide\n",
      "  weights = weights / (1 - missing_weights)\n",
      "/mnt/nasquatch/data/2p/jonna/Code_Python/Notebooks_Jonna/BigStream/bigstream_v2_andermann/bigstream/piecewise_align.py:378: RuntimeWarning: invalid value encountered in divide\n",
      "  weights = weights / (1 - missing_weights)\n",
      "/mnt/nasquatch/data/2p/jonna/Code_Python/Notebooks_Jonna/BigStream/bigstream_v2_andermann/bigstream/piecewise_align.py:378: RuntimeWarning: invalid value encountered in divide\n",
      "  weights = weights / (1 - missing_weights)\n",
      "/mnt/nasquatch/data/2p/jonna/Code_Python/Notebooks_Jonna/BigStream/bigstream_v2_andermann/bigstream/piecewise_align.py:378: RuntimeWarning: invalid value encountered in divide\n",
      "  weights = weights / (1 - missing_weights)\n",
      "/mnt/nasquatch/data/2p/jonna/Code_Python/Notebooks_Jonna/BigStream/bigstream_v2_andermann/bigstream/piecewise_align.py:378: RuntimeWarning: invalid value encountered in divide\n",
      "  weights = weights / (1 - missing_weights)\n",
      "/mnt/nasquatch/data/2p/jonna/Code_Python/Notebooks_Jonna/BigStream/bigstream_v2_andermann/bigstream/piecewise_align.py:378: RuntimeWarning: invalid value encountered in divide\n",
      "  weights = weights / (1 - missing_weights)\n",
      "/mnt/nasquatch/data/2p/jonna/Code_Python/Notebooks_Jonna/BigStream/bigstream_v2_andermann/bigstream/piecewise_align.py:378: RuntimeWarning: invalid value encountered in divide\n",
      "  weights = weights / (1 - missing_weights)\n",
      "/mnt/nasquatch/data/2p/jonna/Code_Python/Notebooks_Jonna/BigStream/bigstream_v2_andermann/bigstream/piecewise_align.py:378: RuntimeWarning: invalid value encountered in divide\n",
      "  weights = weights / (1 - missing_weights)\n",
      "/mnt/nasquatch/data/2p/jonna/Code_Python/Notebooks_Jonna/BigStream/bigstream_v2_andermann/bigstream/piecewise_align.py:378: RuntimeWarning: invalid value encountered in divide\n",
      "  weights = weights / (1 - missing_weights)\n",
      "/mnt/nasquatch/data/2p/jonna/Code_Python/Notebooks_Jonna/BigStream/bigstream_v2_andermann/bigstream/piecewise_align.py:378: RuntimeWarning: invalid value encountered in divide\n",
      "  weights = weights / (1 - missing_weights)\n",
      "/mnt/nasquatch/data/2p/jonna/Code_Python/Notebooks_Jonna/BigStream/bigstream_v2_andermann/bigstream/piecewise_align.py:378: RuntimeWarning: invalid value encountered in divide\n",
      "  weights = weights / (1 - missing_weights)\n",
      "/mnt/nasquatch/data/2p/jonna/Code_Python/Notebooks_Jonna/BigStream/bigstream_v2_andermann/bigstream/piecewise_align.py:378: RuntimeWarning: invalid value encountered in divide\n",
      "  weights = weights / (1 - missing_weights)\n",
      "/mnt/nasquatch/data/2p/jonna/Code_Python/Notebooks_Jonna/BigStream/bigstream_v2_andermann/bigstream/piecewise_align.py:378: RuntimeWarning: invalid value encountered in divide\n",
      "  weights = weights / (1 - missing_weights)\n",
      "/mnt/nasquatch/data/2p/jonna/Code_Python/Notebooks_Jonna/BigStream/bigstream_v2_andermann/bigstream/piecewise_align.py:378: RuntimeWarning: invalid value encountered in divide\n",
      "  weights = weights / (1 - missing_weights)\n",
      "/mnt/nasquatch/data/2p/jonna/Code_Python/Notebooks_Jonna/BigStream/bigstream_v2_andermann/bigstream/piecewise_align.py:378: RuntimeWarning: invalid value encountered in divide\n",
      "  weights = weights / (1 - missing_weights)\n",
      "/mnt/nasquatch/data/2p/jonna/Code_Python/Notebooks_Jonna/BigStream/bigstream_v2_andermann/bigstream/piecewise_align.py:378: RuntimeWarning: invalid value encountered in divide\n",
      "  weights = weights / (1 - missing_weights)\n",
      "/mnt/nasquatch/data/2p/jonna/Code_Python/Notebooks_Jonna/BigStream/bigstream_v2_andermann/bigstream/piecewise_align.py:378: RuntimeWarning: invalid value encountered in divide\n",
      "  weights = weights / (1 - missing_weights)\n",
      "/mnt/nasquatch/data/2p/jonna/Code_Python/Notebooks_Jonna/BigStream/bigstream_v2_andermann/bigstream/piecewise_align.py:378: RuntimeWarning: invalid value encountered in divide\n",
      "  weights = weights / (1 - missing_weights)\n",
      "/mnt/nasquatch/data/2p/jonna/Code_Python/Notebooks_Jonna/BigStream/bigstream_v2_andermann/bigstream/piecewise_align.py:378: RuntimeWarning: invalid value encountered in divide\n",
      "  weights = weights / (1 - missing_weights)\n",
      "/mnt/nasquatch/data/2p/jonna/Code_Python/Notebooks_Jonna/BigStream/bigstream_v2_andermann/bigstream/piecewise_align.py:378: RuntimeWarning: invalid value encountered in divide\n",
      "  weights = weights / (1 - missing_weights)\n",
      "/mnt/nasquatch/data/2p/jonna/Code_Python/Notebooks_Jonna/BigStream/bigstream_v2_andermann/bigstream/piecewise_align.py:378: RuntimeWarning: invalid value encountered in divide\n",
      "  weights = weights / (1 - missing_weights)\n",
      "/mnt/nasquatch/data/2p/jonna/Code_Python/Notebooks_Jonna/BigStream/bigstream_v2_andermann/bigstream/piecewise_align.py:378: RuntimeWarning: invalid value encountered in divide\n",
      "  weights = weights / (1 - missing_weights)\n",
      "/mnt/nasquatch/data/2p/jonna/Code_Python/Notebooks_Jonna/BigStream/bigstream_v2_andermann/bigstream/piecewise_align.py:378: RuntimeWarning: invalid value encountered in divide\n",
      "  weights = weights / (1 - missing_weights)\n",
      "/mnt/nasquatch/data/2p/jonna/Code_Python/Notebooks_Jonna/BigStream/bigstream_v2_andermann/bigstream/piecewise_align.py:378: RuntimeWarning: invalid value encountered in divide\n",
      "  weights = weights / (1 - missing_weights)\n",
      "/mnt/nasquatch/data/2p/jonna/Code_Python/Notebooks_Jonna/BigStream/bigstream_v2_andermann/bigstream/piecewise_align.py:378: RuntimeWarning: invalid value encountered in divide\n",
      "  weights = weights / (1 - missing_weights)\n",
      "/mnt/nasquatch/data/2p/jonna/Code_Python/Notebooks_Jonna/BigStream/bigstream_v2_andermann/bigstream/piecewise_align.py:378: RuntimeWarning: invalid value encountered in divide\n",
      "  weights = weights / (1 - missing_weights)\n",
      "/mnt/nasquatch/data/2p/jonna/Code_Python/Notebooks_Jonna/BigStream/bigstream_v2_andermann/bigstream/piecewise_align.py:378: RuntimeWarning: invalid value encountered in divide\n",
      "  weights = weights / (1 - missing_weights)\n",
      "/mnt/nasquatch/data/2p/jonna/Code_Python/Notebooks_Jonna/BigStream/bigstream_v2_andermann/bigstream/piecewise_align.py:378: RuntimeWarning: invalid value encountered in divide\n",
      "  weights = weights / (1 - missing_weights)\n",
      "/mnt/nasquatch/data/2p/jonna/Code_Python/Notebooks_Jonna/BigStream/bigstream_v2_andermann/bigstream/piecewise_align.py:378: RuntimeWarning: invalid value encountered in divide\n",
      "  weights = weights / (1 - missing_weights)\n",
      "/mnt/nasquatch/data/2p/jonna/Code_Python/Notebooks_Jonna/BigStream/bigstream_v2_andermann/bigstream/piecewise_align.py:378: RuntimeWarning: invalid value encountered in divide\n",
      "  weights = weights / (1 - missing_weights)\n",
      "/mnt/nasquatch/data/2p/jonna/Code_Python/Notebooks_Jonna/BigStream/bigstream_v2_andermann/bigstream/piecewise_align.py:378: RuntimeWarning: invalid value encountered in divide\n",
      "  weights = weights / (1 - missing_weights)\n",
      "/mnt/nasquatch/data/2p/jonna/Code_Python/Notebooks_Jonna/BigStream/bigstream_v2_andermann/bigstream/piecewise_align.py:378: RuntimeWarning: invalid value encountered in divide\n",
      "  weights = weights / (1 - missing_weights)\n",
      "/mnt/nasquatch/data/2p/jonna/Code_Python/Notebooks_Jonna/BigStream/bigstream_v2_andermann/bigstream/piecewise_align.py:378: RuntimeWarning: invalid value encountered in divide\n",
      "  weights = weights / (1 - missing_weights)\n",
      "/mnt/nasquatch/data/2p/jonna/Code_Python/Notebooks_Jonna/BigStream/bigstream_v2_andermann/bigstream/piecewise_align.py:378: RuntimeWarning: invalid value encountered in divide\n",
      "  weights = weights / (1 - missing_weights)\n",
      "/mnt/nasquatch/data/2p/jonna/Code_Python/Notebooks_Jonna/BigStream/bigstream_v2_andermann/bigstream/piecewise_align.py:378: RuntimeWarning: invalid value encountered in divide\n",
      "  weights = weights / (1 - missing_weights)\n",
      "/mnt/nasquatch/data/2p/jonna/Code_Python/Notebooks_Jonna/BigStream/bigstream_v2_andermann/bigstream/piecewise_align.py:378: RuntimeWarning: invalid value encountered in divide\n",
      "  weights = weights / (1 - missing_weights)\n",
      "/mnt/nasquatch/data/2p/jonna/Code_Python/Notebooks_Jonna/BigStream/bigstream_v2_andermann/bigstream/piecewise_align.py:378: RuntimeWarning: invalid value encountered in divide\n",
      "  weights = weights / (1 - missing_weights)\n",
      "/mnt/nasquatch/data/2p/jonna/Code_Python/Notebooks_Jonna/BigStream/bigstream_v2_andermann/bigstream/piecewise_align.py:378: RuntimeWarning: invalid value encountered in divide\n",
      "  weights = weights / (1 - missing_weights)\n",
      "/mnt/nasquatch/data/2p/jonna/Code_Python/Notebooks_Jonna/BigStream/bigstream_v2_andermann/bigstream/piecewise_align.py:378: RuntimeWarning: invalid value encountered in divide\n",
      "  weights = weights / (1 - missing_weights)\n",
      "/mnt/nasquatch/data/2p/jonna/Code_Python/Notebooks_Jonna/BigStream/bigstream_v2_andermann/bigstream/piecewise_align.py:378: RuntimeWarning: invalid value encountered in divide\n",
      "  weights = weights / (1 - missing_weights)\n",
      "/mnt/nasquatch/data/2p/jonna/Code_Python/Notebooks_Jonna/BigStream/bigstream_v2_andermann/bigstream/piecewise_align.py:378: RuntimeWarning: invalid value encountered in divide\n",
      "  weights = weights / (1 - missing_weights)\n",
      "/mnt/nasquatch/data/2p/jonna/Code_Python/Notebooks_Jonna/BigStream/bigstream_v2_andermann/bigstream/piecewise_align.py:378: RuntimeWarning: invalid value encountered in divide\n",
      "  weights = weights / (1 - missing_weights)\n",
      "/mnt/nasquatch/data/2p/jonna/Code_Python/Notebooks_Jonna/BigStream/bigstream_v2_andermann/bigstream/piecewise_align.py:378: RuntimeWarning: invalid value encountered in divide\n",
      "  weights = weights / (1 - missing_weights)\n",
      "/mnt/nasquatch/data/2p/jonna/Code_Python/Notebooks_Jonna/BigStream/bigstream_v2_andermann/bigstream/piecewise_align.py:378: RuntimeWarning: invalid value encountered in divide\n",
      "  weights = weights / (1 - missing_weights)\n",
      "/mnt/nasquatch/data/2p/jonna/Code_Python/Notebooks_Jonna/BigStream/bigstream_v2_andermann/bigstream/piecewise_align.py:378: RuntimeWarning: invalid value encountered in divide\n",
      "  weights = weights / (1 - missing_weights)\n",
      "/mnt/nasquatch/data/2p/jonna/Code_Python/Notebooks_Jonna/BigStream/bigstream_v2_andermann/bigstream/piecewise_align.py:378: RuntimeWarning: invalid value encountered in divide\n",
      "  weights = weights / (1 - missing_weights)\n",
      "/mnt/nasquatch/data/2p/jonna/Code_Python/Notebooks_Jonna/BigStream/bigstream_v2_andermann/bigstream/piecewise_align.py:378: RuntimeWarning: invalid value encountered in divide\n",
      "  weights = weights / (1 - missing_weights)\n",
      "/mnt/nasquatch/data/2p/jonna/Code_Python/Notebooks_Jonna/BigStream/bigstream_v2_andermann/bigstream/piecewise_align.py:378: RuntimeWarning: invalid value encountered in divide\n",
      "  weights = weights / (1 - missing_weights)\n",
      "/mnt/nasquatch/data/2p/jonna/Code_Python/Notebooks_Jonna/BigStream/bigstream_v2_andermann/bigstream/piecewise_align.py:378: RuntimeWarning: invalid value encountered in divide\n",
      "  weights = weights / (1 - missing_weights)\n",
      "/mnt/nasquatch/data/2p/jonna/Code_Python/Notebooks_Jonna/BigStream/bigstream_v2_andermann/bigstream/piecewise_align.py:378: RuntimeWarning: invalid value encountered in divide\n",
      "  weights = weights / (1 - missing_weights)\n",
      "/mnt/nasquatch/data/2p/jonna/Code_Python/Notebooks_Jonna/BigStream/bigstream_v2_andermann/bigstream/piecewise_align.py:378: RuntimeWarning: invalid value encountered in divide\n",
      "  weights = weights / (1 - missing_weights)\n",
      "/mnt/nasquatch/data/2p/jonna/Code_Python/Notebooks_Jonna/BigStream/bigstream_v2_andermann/bigstream/piecewise_align.py:378: RuntimeWarning: invalid value encountered in divide\n",
      "  weights = weights / (1 - missing_weights)\n",
      "/mnt/nasquatch/data/2p/jonna/Code_Python/Notebooks_Jonna/BigStream/bigstream_v2_andermann/bigstream/piecewise_align.py:378: RuntimeWarning: invalid value encountered in divide\n",
      "  weights = weights / (1 - missing_weights)\n",
      "/mnt/nasquatch/data/2p/jonna/Code_Python/Notebooks_Jonna/BigStream/bigstream_v2_andermann/bigstream/piecewise_align.py:378: RuntimeWarning: invalid value encountered in divide\n",
      "  weights = weights / (1 - missing_weights)\n",
      "/mnt/nasquatch/data/2p/jonna/Code_Python/Notebooks_Jonna/BigStream/bigstream_v2_andermann/bigstream/piecewise_align.py:378: RuntimeWarning: invalid value encountered in divide\n",
      "  weights = weights / (1 - missing_weights)\n",
      "/mnt/nasquatch/data/2p/jonna/Code_Python/Notebooks_Jonna/BigStream/bigstream_v2_andermann/bigstream/piecewise_align.py:378: RuntimeWarning: invalid value encountered in divide\n",
      "  weights = weights / (1 - missing_weights)\n",
      "/mnt/nasquatch/data/2p/jonna/Code_Python/Notebooks_Jonna/BigStream/bigstream_v2_andermann/bigstream/piecewise_align.py:378: RuntimeWarning: invalid value encountered in divide\n",
      "  weights = weights / (1 - missing_weights)\n",
      "/mnt/nasquatch/data/2p/jonna/Code_Python/Notebooks_Jonna/BigStream/bigstream_v2_andermann/bigstream/piecewise_align.py:378: RuntimeWarning: invalid value encountered in divide\n",
      "  weights = weights / (1 - missing_weights)\n",
      "/mnt/nasquatch/data/2p/jonna/Code_Python/Notebooks_Jonna/BigStream/bigstream_v2_andermann/bigstream/piecewise_align.py:378: RuntimeWarning: invalid value encountered in divide\n",
      "  weights = weights / (1 - missing_weights)\n",
      "/mnt/nasquatch/data/2p/jonna/Code_Python/Notebooks_Jonna/BigStream/bigstream_v2_andermann/bigstream/piecewise_align.py:378: RuntimeWarning: invalid value encountered in divide\n",
      "  weights = weights / (1 - missing_weights)\n",
      "/mnt/nasquatch/data/2p/jonna/Code_Python/Notebooks_Jonna/BigStream/bigstream_v2_andermann/bigstream/piecewise_align.py:378: RuntimeWarning: invalid value encountered in divide\n",
      "  weights = weights / (1 - missing_weights)\n",
      "/mnt/nasquatch/data/2p/jonna/Code_Python/Notebooks_Jonna/BigStream/bigstream_v2_andermann/bigstream/piecewise_align.py:378: RuntimeWarning: invalid value encountered in divide\n",
      "  weights = weights / (1 - missing_weights)\n",
      "/mnt/nasquatch/data/2p/jonna/Code_Python/Notebooks_Jonna/BigStream/bigstream_v2_andermann/bigstream/piecewise_align.py:378: RuntimeWarning: invalid value encountered in divide\n",
      "  weights = weights / (1 - missing_weights)\n",
      "/mnt/nasquatch/data/2p/jonna/Code_Python/Notebooks_Jonna/BigStream/bigstream_v2_andermann/bigstream/piecewise_align.py:378: RuntimeWarning: invalid value encountered in divide\n",
      "  weights = weights / (1 - missing_weights)\n",
      "/mnt/nasquatch/data/2p/jonna/Code_Python/Notebooks_Jonna/BigStream/bigstream_v2_andermann/bigstream/piecewise_align.py:378: RuntimeWarning: invalid value encountered in divide\n",
      "  weights = weights / (1 - missing_weights)\n",
      "/mnt/nasquatch/data/2p/jonna/Code_Python/Notebooks_Jonna/BigStream/bigstream_v2_andermann/bigstream/piecewise_align.py:378: RuntimeWarning: invalid value encountered in divide\n",
      "  weights = weights / (1 - missing_weights)\n",
      "/mnt/nasquatch/data/2p/jonna/Code_Python/Notebooks_Jonna/BigStream/bigstream_v2_andermann/bigstream/piecewise_align.py:378: RuntimeWarning: invalid value encountered in divide\n",
      "  weights = weights / (1 - missing_weights)\n",
      "/mnt/nasquatch/data/2p/jonna/Code_Python/Notebooks_Jonna/BigStream/bigstream_v2_andermann/bigstream/piecewise_align.py:378: RuntimeWarning: invalid value encountered in divide\n",
      "  weights = weights / (1 - missing_weights)\n",
      "/mnt/nasquatch/data/2p/jonna/Code_Python/Notebooks_Jonna/BigStream/bigstream_v2_andermann/bigstream/piecewise_align.py:378: RuntimeWarning: invalid value encountered in divide\n",
      "  weights = weights / (1 - missing_weights)\n",
      "/mnt/nasquatch/data/2p/jonna/Code_Python/Notebooks_Jonna/BigStream/bigstream_v2_andermann/bigstream/piecewise_align.py:378: RuntimeWarning: invalid value encountered in divide\n",
      "  weights = weights / (1 - missing_weights)\n",
      "/mnt/nasquatch/data/2p/jonna/Code_Python/Notebooks_Jonna/BigStream/bigstream_v2_andermann/bigstream/piecewise_align.py:378: RuntimeWarning: invalid value encountered in divide\n",
      "  weights = weights / (1 - missing_weights)\n",
      "/mnt/nasquatch/data/2p/jonna/Code_Python/Notebooks_Jonna/BigStream/bigstream_v2_andermann/bigstream/piecewise_align.py:378: RuntimeWarning: invalid value encountered in divide\n",
      "  weights = weights / (1 - missing_weights)\n",
      "/mnt/nasquatch/data/2p/jonna/Code_Python/Notebooks_Jonna/BigStream/bigstream_v2_andermann/bigstream/piecewise_align.py:378: RuntimeWarning: invalid value encountered in divide\n",
      "  weights = weights / (1 - missing_weights)\n",
      "/mnt/nasquatch/data/2p/jonna/Code_Python/Notebooks_Jonna/BigStream/bigstream_v2_andermann/bigstream/piecewise_align.py:378: RuntimeWarning: invalid value encountered in divide\n",
      "  weights = weights / (1 - missing_weights)\n",
      "/mnt/nasquatch/data/2p/jonna/Code_Python/Notebooks_Jonna/BigStream/bigstream_v2_andermann/bigstream/piecewise_align.py:378: RuntimeWarning: invalid value encountered in divide\n",
      "  weights = weights / (1 - missing_weights)\n",
      "/mnt/nasquatch/data/2p/jonna/Code_Python/Notebooks_Jonna/BigStream/bigstream_v2_andermann/bigstream/piecewise_align.py:378: RuntimeWarning: invalid value encountered in divide\n",
      "  weights = weights / (1 - missing_weights)\n",
      "/mnt/nasquatch/data/2p/jonna/Code_Python/Notebooks_Jonna/BigStream/bigstream_v2_andermann/bigstream/piecewise_align.py:378: RuntimeWarning: invalid value encountered in divide\n",
      "  weights = weights / (1 - missing_weights)\n",
      "/mnt/nasquatch/data/2p/jonna/Code_Python/Notebooks_Jonna/BigStream/bigstream_v2_andermann/bigstream/piecewise_align.py:378: RuntimeWarning: invalid value encountered in divide\n",
      "  weights = weights / (1 - missing_weights)\n",
      "/mnt/nasquatch/data/2p/jonna/Code_Python/Notebooks_Jonna/BigStream/bigstream_v2_andermann/bigstream/piecewise_align.py:378: RuntimeWarning: invalid value encountered in divide\n",
      "  weights = weights / (1 - missing_weights)\n",
      "/mnt/nasquatch/data/2p/jonna/Code_Python/Notebooks_Jonna/BigStream/bigstream_v2_andermann/bigstream/piecewise_align.py:378: RuntimeWarning: invalid value encountered in divide\n",
      "  weights = weights / (1 - missing_weights)\n",
      "/mnt/nasquatch/data/2p/jonna/Code_Python/Notebooks_Jonna/BigStream/bigstream_v2_andermann/bigstream/piecewise_align.py:378: RuntimeWarning: invalid value encountered in divide\n",
      "  weights = weights / (1 - missing_weights)\n",
      "/mnt/nasquatch/data/2p/jonna/Code_Python/Notebooks_Jonna/BigStream/bigstream_v2_andermann/bigstream/piecewise_align.py:378: RuntimeWarning: invalid value encountered in divide\n",
      "  weights = weights / (1 - missing_weights)\n",
      "/mnt/nasquatch/data/2p/jonna/Code_Python/Notebooks_Jonna/BigStream/bigstream_v2_andermann/bigstream/piecewise_align.py:378: RuntimeWarning: invalid value encountered in divide\n",
      "  weights = weights / (1 - missing_weights)\n",
      "/mnt/nasquatch/data/2p/jonna/Code_Python/Notebooks_Jonna/BigStream/bigstream_v2_andermann/bigstream/piecewise_align.py:378: RuntimeWarning: invalid value encountered in divide\n",
      "  weights = weights / (1 - missing_weights)\n",
      "/mnt/nasquatch/data/2p/jonna/Code_Python/Notebooks_Jonna/BigStream/bigstream_v2_andermann/bigstream/piecewise_align.py:378: RuntimeWarning: invalid value encountered in divide\n",
      "  weights = weights / (1 - missing_weights)\n",
      "/mnt/nasquatch/data/2p/jonna/Code_Python/Notebooks_Jonna/BigStream/bigstream_v2_andermann/bigstream/piecewise_align.py:378: RuntimeWarning: invalid value encountered in divide\n",
      "  weights = weights / (1 - missing_weights)\n",
      "/mnt/nasquatch/data/2p/jonna/Code_Python/Notebooks_Jonna/BigStream/bigstream_v2_andermann/bigstream/piecewise_align.py:378: RuntimeWarning: invalid value encountered in divide\n",
      "  weights = weights / (1 - missing_weights)\n",
      "/mnt/nasquatch/data/2p/jonna/Code_Python/Notebooks_Jonna/BigStream/bigstream_v2_andermann/bigstream/piecewise_align.py:378: RuntimeWarning: invalid value encountered in divide\n",
      "  weights = weights / (1 - missing_weights)\n",
      "/mnt/nasquatch/data/2p/jonna/Code_Python/Notebooks_Jonna/BigStream/bigstream_v2_andermann/bigstream/piecewise_align.py:378: RuntimeWarning: invalid value encountered in divide\n",
      "  weights = weights / (1 - missing_weights)\n",
      "/mnt/nasquatch/data/2p/jonna/Code_Python/Notebooks_Jonna/BigStream/bigstream_v2_andermann/bigstream/piecewise_align.py:378: RuntimeWarning: invalid value encountered in divide\n",
      "  weights = weights / (1 - missing_weights)\n",
      "/mnt/nasquatch/data/2p/jonna/Code_Python/Notebooks_Jonna/BigStream/bigstream_v2_andermann/bigstream/piecewise_align.py:378: RuntimeWarning: invalid value encountered in divide\n",
      "  weights = weights / (1 - missing_weights)\n",
      "/mnt/nasquatch/data/2p/jonna/Code_Python/Notebooks_Jonna/BigStream/bigstream_v2_andermann/bigstream/piecewise_align.py:378: RuntimeWarning: invalid value encountered in divide\n",
      "  weights = weights / (1 - missing_weights)\n",
      "/mnt/nasquatch/data/2p/jonna/Code_Python/Notebooks_Jonna/BigStream/bigstream_v2_andermann/bigstream/piecewise_align.py:378: RuntimeWarning: invalid value encountered in divide\n",
      "  weights = weights / (1 - missing_weights)\n",
      "/mnt/nasquatch/data/2p/jonna/Code_Python/Notebooks_Jonna/BigStream/bigstream_v2_andermann/bigstream/piecewise_align.py:378: RuntimeWarning: invalid value encountered in divide\n",
      "  weights = weights / (1 - missing_weights)\n",
      "/mnt/nasquatch/data/2p/jonna/Code_Python/Notebooks_Jonna/BigStream/bigstream_v2_andermann/bigstream/piecewise_align.py:378: RuntimeWarning: invalid value encountered in divide\n",
      "  weights = weights / (1 - missing_weights)\n",
      "/mnt/nasquatch/data/2p/jonna/Code_Python/Notebooks_Jonna/BigStream/bigstream_v2_andermann/bigstream/piecewise_align.py:378: RuntimeWarning: invalid value encountered in divide\n",
      "  weights = weights / (1 - missing_weights)\n",
      "/mnt/nasquatch/data/2p/jonna/Code_Python/Notebooks_Jonna/BigStream/bigstream_v2_andermann/bigstream/piecewise_align.py:378: RuntimeWarning: invalid value encountered in divide\n",
      "  weights = weights / (1 - missing_weights)\n",
      "/mnt/nasquatch/data/2p/jonna/Code_Python/Notebooks_Jonna/BigStream/bigstream_v2_andermann/bigstream/piecewise_align.py:378: RuntimeWarning: invalid value encountered in divide\n",
      "  weights = weights / (1 - missing_weights)\n",
      "/mnt/nasquatch/data/2p/jonna/Code_Python/Notebooks_Jonna/BigStream/bigstream_v2_andermann/bigstream/piecewise_align.py:378: RuntimeWarning: invalid value encountered in divide\n",
      "  weights = weights / (1 - missing_weights)\n",
      "/mnt/nasquatch/data/2p/jonna/Code_Python/Notebooks_Jonna/BigStream/bigstream_v2_andermann/bigstream/piecewise_align.py:378: RuntimeWarning: invalid value encountered in divide\n",
      "  weights = weights / (1 - missing_weights)\n",
      "/mnt/nasquatch/data/2p/jonna/Code_Python/Notebooks_Jonna/BigStream/bigstream_v2_andermann/bigstream/piecewise_align.py:378: RuntimeWarning: invalid value encountered in divide\n",
      "  weights = weights / (1 - missing_weights)\n",
      "/mnt/nasquatch/data/2p/jonna/Code_Python/Notebooks_Jonna/BigStream/bigstream_v2_andermann/bigstream/piecewise_align.py:378: RuntimeWarning: invalid value encountered in divide\n",
      "  weights = weights / (1 - missing_weights)\n",
      "/mnt/nasquatch/data/2p/jonna/Code_Python/Notebooks_Jonna/BigStream/bigstream_v2_andermann/bigstream/piecewise_align.py:378: RuntimeWarning: invalid value encountered in divide\n",
      "  weights = weights / (1 - missing_weights)\n",
      "/mnt/nasquatch/data/2p/jonna/Code_Python/Notebooks_Jonna/BigStream/bigstream_v2_andermann/bigstream/piecewise_align.py:378: RuntimeWarning: invalid value encountered in divide\n",
      "  weights = weights / (1 - missing_weights)\n",
      "/mnt/nasquatch/data/2p/jonna/Code_Python/Notebooks_Jonna/BigStream/bigstream_v2_andermann/bigstream/piecewise_align.py:378: RuntimeWarning: invalid value encountered in divide\n",
      "  weights = weights / (1 - missing_weights)\n"
     ]
    }
   ],
   "source": [
    "c = {'n_workers': 15, 'threads_per_worker':2} # Colab00 has 20 cores, 2 threads per core, leave a little wiggle room, added c to args. Camillo has 40 cores.\n",
    "from ClusterWrap import cluster as cluster_constructor\n",
    "\n",
    "success_n = 0\n",
    "write_dir = output_folder / round_folder_name / 'local_params_scan'\n",
    "write_dir.mkdir(exist_ok=True,parents=True)\n",
    "write_directory = str(write_dir)\n",
    "print(write_directory)\n",
    "\n",
    "#Change this when ready to proceed with full reg! and change params up top before doing so\n",
    "no_deform = True\n",
    "\n",
    "if no_deform:\n",
    "    write_dir = write_dir.parent / f'{write_dir.name}_nodeform'\n",
    "\n",
    "njobs = len(g_radii_z)*len(g_radii_xy)*len(g_bsize_s_b)*len(g_m_tresholds)*len(blocksize_to_scan)*len(radii_z)*len(radii_xy)*len(bsize_s_b)*len(m_tresholds)\n",
    "pbar = tqdm(total=njobs)\n",
    "for g_radius_z in g_radii_z:\n",
    "  for g_radius_xy in g_radii_xy:\n",
    "    for g_bsize_s, g_bsize_b in g_bsize_s_b:\n",
    "      for g_m_treshold in g_m_tresholds:\n",
    "        for blocksize in blocksize_to_scan:\n",
    "          for radius_z in radii_z:\n",
    "            for radius_xy in radii_xy:\n",
    "              for bsize_s, bsize_b in bsize_s_b:\n",
    "                for m_treshold in m_tresholds:\n",
    "                        \n",
    "                  # wrong folder nameing need to replace the name\n",
    "                  local_folder = fr\"rz{g_radius_z}_rxy{g_radius_xy}_bs{g_bsize_s}to{g_bsize_b}_mt{g_m_treshold}\"\n",
    "                  global_folder = fr\"bs{blocksize[0]}_{blocksize[1]}_{blocksize[2]}_{radius_z}_{radius_xy}_bs{bsize_s}to{bsize_b}_mt{m_treshold}\"\n",
    "\n",
    "                  write_directory = write_dir / local_folder / global_folder\n",
    "                  write_directory.mkdir(exist_ok=True,parents=True)\n",
    "                  write_directory = str(write_directory); print(write_directory)\n",
    "\n",
    "                  global_ransac_kwargs = {'cc_radius':(g_radius_xy,g_radius_xy,g_radius_z),\n",
    "                                          'blob_sizes':[g_bsize_s, g_bsize_b],\n",
    "                                          'match_threshold':g_m_treshold,\n",
    "                                          'safeguard_exceptions':False}\n",
    "\n",
    "                  local_ransac_kwargs = {'cc_radius':(radius_xy,radius_xy,radius_z),\n",
    "                                               'blob_sizes':[bsize_s, bsize_b], \n",
    "                                               'match_threshold': [m_treshold],\n",
    "                                               'safeguard_exceptions':False}\n",
    "                    \n",
    "                \n",
    "                  cluster = cluster_constructor(c)\n",
    "                  affine, deform, aligned = custom_easifish_registration_pipeline(\n",
    "                          fix_lowres, fix_highres, mov_lowres, mov_highres,\n",
    "                          fix_lowres_spacing, fix_image_spacing,\n",
    "                          mov_lowres_spacing, mov_image_spacing,\n",
    "                          blocksize=blocksize,\n",
    "                          global_ransac_kwargs=global_ransac_kwargs,\n",
    "                          local_ransac_kwargs=local_ransac_kwargs,\n",
    "                          write_directory=write_directory,\n",
    "                          no_deform=no_deform,\n",
    "                          overwrite_lowres=False,\n",
    "                          cluster=cluster)\n",
    "                  print(f'finished! - {write_directory}')\n",
    "                  pbar.update(1)\n",
    "                  \n",
    "                  tif_imwrite(Path(write_directory)  / 'deformed.tiff', np.array(aligned).transpose(2,1,0))\n",
    "                  # delete zarr file\n",
    "                  os.remove(Path(write_directory) / 'deformed.zarr')\n"
   ]
  },
  {
   "cell_type": "code",
   "execution_count": null,
   "id": "a985b70f",
   "metadata": {},
   "outputs": [
    {
     "data": {
      "text/plain": [
       "'oamsalem'"
      ]
     },
     "execution_count": 20,
     "metadata": {},
     "output_type": "execute_result"
    }
   ],
   "source": [
    "import os\n",
    "os.getlogin()"
   ]
  },
  {
   "cell_type": "code",
   "execution_count": null,
   "id": "06e1b573-ab3d-4f57-8ef8-68750596c13b",
   "metadata": {},
   "outputs": [],
   "source": [
    "import os\n",
    "import zarr\n",
    "from tifffile import imwrite as tiff_imwrite\n",
    "\n",
    "write_directory = fr\"\\mnt\\bananas\\data\\ezfish\\jonna\\CIM132\\HCR\\240408_CIM132\\output_HCR4_to_HCR1_github\\local_params_scan\\rz1_rxy25_bs3to30_mt0.2\\bs100_100_25_1_25_bs5to70_mt0.2\"\n",
    "zarr_dir =  fr\"\\mnt\\bananas\\data\\ezfish\\jonna\\CIM132\\HCR\\240408_CIM132\\output_HCR4_to_HCR1_github\\local_params_scan\\rz1_rxy25_bs3to30_mt0.2\\bs100_100_25_1_25_bs5to70_mt0.2\\deformed.zarr\"\n",
    "\n",
    "# Check if the Zarr directory exists\n",
    "if os.path.isdir(zarr_dir):\n",
    "    print(\"Zarr directory exists\")\n",
    "\n",
    "    try:\n",
    "        # Attempt to load the Zarr data\n",
    "        data = zarr.open_array(zarr_dir, mode='r')\n",
    "        print(f\"Data loaded with shape: {data.shape}\")\n",
    "        \n",
    "        if data is not None:\n",
    "            # Save to TIFF file\n",
    "            tiff_path = os.path.join(write_directory, \"deformed.tiff\")\n",
    "            tiff_imwrite(tiff_path, data.transpose(2, 1, 0))\n",
    "            print(f\"TIFF file written successfully at {tiff_path}\")\n",
    "        else:\n",
    "            print(\"Failed to load data. It is None.\")\n",
    "    except Exception as e:\n",
    "        print(f\"An error occurred while processing the Zarr data: {e}\")\n",
    "else:\n",
    "    print(\"Zarr directory does not exist.\")\n",
    "\n",
    "\n",
    "\n"
   ]
  },
  {
   "cell_type": "code",
   "execution_count": null,
   "id": "8df6cab7",
   "metadata": {},
   "outputs": [],
   "source": [
    "## Make combined TIFFs in new folder to check local parameter search"
   ]
  },
  {
   "cell_type": "code",
   "execution_count": 4,
   "id": "80be5afd",
   "metadata": {},
   "outputs": [
    {
     "name": "stdout",
     "output_type": "stream",
     "text": [
      "Found 18 folders with 'deformed.zarr'\n",
      "Folders to process: ['\\\\\\\\bananas\\\\data\\\\ezfish\\\\jonna\\\\CIM132\\\\HCR\\\\240408_CIM132\\\\output_HCR4_to_HCR1_github\\\\local_params_scan_nodeform\\\\rz1_rxy25_bs3to30_mt0.2\\\\bs50_50_12_10_15_bs5to70_mt0.2', '\\\\\\\\bananas\\\\data\\\\ezfish\\\\jonna\\\\CIM132\\\\HCR\\\\240408_CIM132\\\\output_HCR4_to_HCR1_github\\\\local_params_scan_nodeform\\\\rz1_rxy25_bs3to30_mt0.2\\\\bs50_50_12_1_15_bs5to70_mt0.2', '\\\\\\\\bananas\\\\data\\\\ezfish\\\\jonna\\\\CIM132\\\\HCR\\\\240408_CIM132\\\\output_HCR4_to_HCR1_github\\\\local_params_scan_nodeform\\\\rz1_rxy25_bs3to30_mt0.2\\\\bs100_100_25_1_50_bs5to70_mt0.2', '\\\\\\\\bananas\\\\data\\\\ezfish\\\\jonna\\\\CIM132\\\\HCR\\\\240408_CIM132\\\\output_HCR4_to_HCR1_github\\\\local_params_scan_nodeform\\\\rz1_rxy25_bs3to30_mt0.2\\\\bs100_100_25_10_15_bs5to70_mt0.2', '\\\\\\\\bananas\\\\data\\\\ezfish\\\\jonna\\\\CIM132\\\\HCR\\\\240408_CIM132\\\\output_HCR4_to_HCR1_github\\\\local_params_scan_nodeform\\\\rz1_rxy25_bs3to30_mt0.2\\\\bs100_100_25_1_25_bs5to70_mt0.2', '\\\\\\\\bananas\\\\data\\\\ezfish\\\\jonna\\\\CIM132\\\\HCR\\\\240408_CIM132\\\\output_HCR4_to_HCR1_github\\\\local_params_scan_nodeform\\\\rz1_rxy25_bs3to30_mt0.2\\\\bs100_100_25_5_25_bs5to70_mt0.2', '\\\\\\\\bananas\\\\data\\\\ezfish\\\\jonna\\\\CIM132\\\\HCR\\\\240408_CIM132\\\\output_HCR4_to_HCR1_github\\\\local_params_scan_nodeform\\\\rz1_rxy25_bs3to30_mt0.2\\\\bs100_100_25_5_50_bs5to70_mt0.2', '\\\\\\\\bananas\\\\data\\\\ezfish\\\\jonna\\\\CIM132\\\\HCR\\\\240408_CIM132\\\\output_HCR4_to_HCR1_github\\\\local_params_scan_nodeform\\\\rz1_rxy25_bs3to30_mt0.2\\\\bs50_50_12_5_15_bs5to70_mt0.2', '\\\\\\\\bananas\\\\data\\\\ezfish\\\\jonna\\\\CIM132\\\\HCR\\\\240408_CIM132\\\\output_HCR4_to_HCR1_github\\\\local_params_scan_nodeform\\\\rz1_rxy25_bs3to30_mt0.2\\\\bs100_100_25_10_25_bs5to70_mt0.2', '\\\\\\\\bananas\\\\data\\\\ezfish\\\\jonna\\\\CIM132\\\\HCR\\\\240408_CIM132\\\\output_HCR4_to_HCR1_github\\\\local_params_scan_nodeform\\\\rz1_rxy25_bs3to30_mt0.2\\\\bs100_100_25_1_15_bs5to70_mt0.2', '\\\\\\\\bananas\\\\data\\\\ezfish\\\\jonna\\\\CIM132\\\\HCR\\\\240408_CIM132\\\\output_HCR4_to_HCR1_github\\\\local_params_scan_nodeform\\\\rz1_rxy25_bs3to30_mt0.2\\\\bs100_100_25_10_50_bs5to70_mt0.2', '\\\\\\\\bananas\\\\data\\\\ezfish\\\\jonna\\\\CIM132\\\\HCR\\\\240408_CIM132\\\\output_HCR4_to_HCR1_github\\\\local_params_scan_nodeform\\\\rz1_rxy25_bs3to30_mt0.2\\\\bs50_50_12_1_25_bs5to70_mt0.2', '\\\\\\\\bananas\\\\data\\\\ezfish\\\\jonna\\\\CIM132\\\\HCR\\\\240408_CIM132\\\\output_HCR4_to_HCR1_github\\\\local_params_scan_nodeform\\\\rz1_rxy25_bs3to30_mt0.2\\\\bs50_50_12_1_50_bs5to70_mt0.2', '\\\\\\\\bananas\\\\data\\\\ezfish\\\\jonna\\\\CIM132\\\\HCR\\\\240408_CIM132\\\\output_HCR4_to_HCR1_github\\\\local_params_scan_nodeform\\\\rz1_rxy25_bs3to30_mt0.2\\\\bs50_50_12_10_50_bs5to70_mt0.2', '\\\\\\\\bananas\\\\data\\\\ezfish\\\\jonna\\\\CIM132\\\\HCR\\\\240408_CIM132\\\\output_HCR4_to_HCR1_github\\\\local_params_scan_nodeform\\\\rz1_rxy25_bs3to30_mt0.2\\\\bs50_50_12_10_25_bs5to70_mt0.2', '\\\\\\\\bananas\\\\data\\\\ezfish\\\\jonna\\\\CIM132\\\\HCR\\\\240408_CIM132\\\\output_HCR4_to_HCR1_github\\\\local_params_scan_nodeform\\\\rz1_rxy25_bs3to30_mt0.2\\\\bs50_50_12_5_50_bs5to70_mt0.2', '\\\\\\\\bananas\\\\data\\\\ezfish\\\\jonna\\\\CIM132\\\\HCR\\\\240408_CIM132\\\\output_HCR4_to_HCR1_github\\\\local_params_scan_nodeform\\\\rz1_rxy25_bs3to30_mt0.2\\\\bs50_50_12_5_25_bs5to70_mt0.2', '\\\\\\\\bananas\\\\data\\\\ezfish\\\\jonna\\\\CIM132\\\\HCR\\\\240408_CIM132\\\\output_HCR4_to_HCR1_github\\\\local_params_scan_nodeform\\\\rz1_rxy25_bs3to30_mt0.2\\\\bs100_100_25_5_15_bs5to70_mt0.2']\n"
     ]
    },
    {
     "name": "stderr",
     "output_type": "stream",
     "text": [
      "Processing folders:   0%|                                                                       | 0/18 [00:00<?, ?it/s]"
     ]
    },
    {
     "name": "stdout",
     "output_type": "stream",
     "text": [
      "Processing folder 1 out of 18\n",
      "Zarr data shape: (1969, 1930, 39), DAPI data shape: (1969, 1930, 39)\n",
      "Combined data shape before reshaping: (1969, 1930, 39, 2)\n"
     ]
    },
    {
     "name": "stderr",
     "output_type": "stream",
     "text": [
      "Processing folders:   6%|███▍                                                          | 1/18 [03:15<55:29, 195.86s/it]"
     ]
    },
    {
     "name": "stdout",
     "output_type": "stream",
     "text": [
      "Converted \\\\bananas\\data\\ezfish\\jonna\\CIM132\\HCR\\240408_CIM132\\output_HCR4_to_HCR1_github\\local_params_scan_nodeform\\rz1_rxy25_bs3to30_mt0.2\\bs50_50_12_10_15_bs5to70_mt0.2\\deformed.zarr to \\\\bananas\\data\\ezfish\\jonna\\CIM132\\HCR\\240408_CIM132\\output_HCR4_to_HCR1_github\\local_params_scan_nodeform\\rz1_rxy25_bs3to30_mt0.2\\tiff_outputs_gpt\\m0.215_bs50_50_12_10_15_bs5to70_mt0.2_both.tiff\n",
      "Processing folder 2 out of 18\n",
      "Zarr data shape: (1969, 1930, 39), DAPI data shape: (1969, 1930, 39)\n",
      "Combined data shape before reshaping: (1969, 1930, 39, 2)\n"
     ]
    },
    {
     "name": "stderr",
     "output_type": "stream",
     "text": [
      "Processing folders:  11%|██████▉                                                       | 2/18 [06:50<55:07, 206.73s/it]"
     ]
    },
    {
     "name": "stdout",
     "output_type": "stream",
     "text": [
      "Converted \\\\bananas\\data\\ezfish\\jonna\\CIM132\\HCR\\240408_CIM132\\output_HCR4_to_HCR1_github\\local_params_scan_nodeform\\rz1_rxy25_bs3to30_mt0.2\\bs50_50_12_1_15_bs5to70_mt0.2\\deformed.zarr to \\\\bananas\\data\\ezfish\\jonna\\CIM132\\HCR\\240408_CIM132\\output_HCR4_to_HCR1_github\\local_params_scan_nodeform\\rz1_rxy25_bs3to30_mt0.2\\tiff_outputs_gpt\\m0.215_bs50_50_12_1_15_bs5to70_mt0.2_both.tiff\n",
      "Processing folder 3 out of 18\n",
      "Zarr data shape: (1969, 1930, 39), DAPI data shape: (1969, 1930, 39)\n",
      "Combined data shape before reshaping: (1969, 1930, 39, 2)\n"
     ]
    },
    {
     "name": "stderr",
     "output_type": "stream",
     "text": [
      "Processing folders:  17%|██████████▎                                                   | 3/18 [07:56<35:38, 142.54s/it]"
     ]
    },
    {
     "name": "stdout",
     "output_type": "stream",
     "text": [
      "Converted \\\\bananas\\data\\ezfish\\jonna\\CIM132\\HCR\\240408_CIM132\\output_HCR4_to_HCR1_github\\local_params_scan_nodeform\\rz1_rxy25_bs3to30_mt0.2\\bs100_100_25_1_50_bs5to70_mt0.2\\deformed.zarr to \\\\bananas\\data\\ezfish\\jonna\\CIM132\\HCR\\240408_CIM132\\output_HCR4_to_HCR1_github\\local_params_scan_nodeform\\rz1_rxy25_bs3to30_mt0.2\\tiff_outputs_gpt\\m0.226_bs100_100_25_1_50_bs5to70_mt0.2_both.tiff\n",
      "Processing folder 4 out of 18\n",
      "Zarr data shape: (1969, 1930, 39), DAPI data shape: (1969, 1930, 39)\n",
      "Combined data shape before reshaping: (1969, 1930, 39, 2)\n"
     ]
    },
    {
     "name": "stderr",
     "output_type": "stream",
     "text": [
      "Processing folders:  22%|█████████████▊                                                | 4/18 [08:52<25:17, 108.36s/it]"
     ]
    },
    {
     "name": "stdout",
     "output_type": "stream",
     "text": [
      "Converted \\\\bananas\\data\\ezfish\\jonna\\CIM132\\HCR\\240408_CIM132\\output_HCR4_to_HCR1_github\\local_params_scan_nodeform\\rz1_rxy25_bs3to30_mt0.2\\bs100_100_25_10_15_bs5to70_mt0.2\\deformed.zarr to \\\\bananas\\data\\ezfish\\jonna\\CIM132\\HCR\\240408_CIM132\\output_HCR4_to_HCR1_github\\local_params_scan_nodeform\\rz1_rxy25_bs3to30_mt0.2\\tiff_outputs_gpt\\m0.264_bs100_100_25_10_15_bs5to70_mt0.2_both.tiff\n",
      "Processing folder 5 out of 18\n",
      "Zarr data shape: (1969, 1930, 39), DAPI data shape: (1969, 1930, 39)\n",
      "Combined data shape before reshaping: (1969, 1930, 39, 2)\n"
     ]
    },
    {
     "name": "stderr",
     "output_type": "stream",
     "text": [
      "Processing folders:  28%|█████████████████▌                                             | 5/18 [09:58<20:09, 93.05s/it]"
     ]
    },
    {
     "name": "stdout",
     "output_type": "stream",
     "text": [
      "Converted \\\\bananas\\data\\ezfish\\jonna\\CIM132\\HCR\\240408_CIM132\\output_HCR4_to_HCR1_github\\local_params_scan_nodeform\\rz1_rxy25_bs3to30_mt0.2\\bs100_100_25_1_25_bs5to70_mt0.2\\deformed.zarr to \\\\bananas\\data\\ezfish\\jonna\\CIM132\\HCR\\240408_CIM132\\output_HCR4_to_HCR1_github\\local_params_scan_nodeform\\rz1_rxy25_bs3to30_mt0.2\\tiff_outputs_gpt\\m0.295_bs100_100_25_1_25_bs5to70_mt0.2_both.tiff\n",
      "Processing folder 6 out of 18\n",
      "Zarr data shape: (1969, 1930, 39), DAPI data shape: (1969, 1930, 39)\n",
      "Combined data shape before reshaping: (1969, 1930, 39, 2)\n"
     ]
    },
    {
     "name": "stderr",
     "output_type": "stream",
     "text": [
      "Processing folders:  33%|█████████████████████                                          | 6/18 [10:59<16:25, 82.12s/it]"
     ]
    },
    {
     "name": "stdout",
     "output_type": "stream",
     "text": [
      "Converted \\\\bananas\\data\\ezfish\\jonna\\CIM132\\HCR\\240408_CIM132\\output_HCR4_to_HCR1_github\\local_params_scan_nodeform\\rz1_rxy25_bs3to30_mt0.2\\bs100_100_25_5_25_bs5to70_mt0.2\\deformed.zarr to \\\\bananas\\data\\ezfish\\jonna\\CIM132\\HCR\\240408_CIM132\\output_HCR4_to_HCR1_github\\local_params_scan_nodeform\\rz1_rxy25_bs3to30_mt0.2\\tiff_outputs_gpt\\m0.294_bs100_100_25_5_25_bs5to70_mt0.2_both.tiff\n",
      "Processing folder 7 out of 18\n",
      "Zarr data shape: (1969, 1930, 39), DAPI data shape: (1969, 1930, 39)\n",
      "Combined data shape before reshaping: (1969, 1930, 39, 2)\n"
     ]
    },
    {
     "name": "stderr",
     "output_type": "stream",
     "text": [
      "Processing folders:  39%|████████████████████████▌                                      | 7/18 [11:55<13:28, 73.54s/it]"
     ]
    },
    {
     "name": "stdout",
     "output_type": "stream",
     "text": [
      "Converted \\\\bananas\\data\\ezfish\\jonna\\CIM132\\HCR\\240408_CIM132\\output_HCR4_to_HCR1_github\\local_params_scan_nodeform\\rz1_rxy25_bs3to30_mt0.2\\bs100_100_25_5_50_bs5to70_mt0.2\\deformed.zarr to \\\\bananas\\data\\ezfish\\jonna\\CIM132\\HCR\\240408_CIM132\\output_HCR4_to_HCR1_github\\local_params_scan_nodeform\\rz1_rxy25_bs3to30_mt0.2\\tiff_outputs_gpt\\m0.22_bs100_100_25_5_50_bs5to70_mt0.2_both.tiff\n",
      "Processing folder 8 out of 18\n",
      "Zarr data shape: (1969, 1930, 39), DAPI data shape: (1969, 1930, 39)\n",
      "Combined data shape before reshaping: (1969, 1930, 39, 2)\n"
     ]
    },
    {
     "name": "stderr",
     "output_type": "stream",
     "text": [
      "Processing folders:  44%|███████████████████████████▌                                  | 8/18 [15:14<18:54, 113.49s/it]"
     ]
    },
    {
     "name": "stdout",
     "output_type": "stream",
     "text": [
      "Converted \\\\bananas\\data\\ezfish\\jonna\\CIM132\\HCR\\240408_CIM132\\output_HCR4_to_HCR1_github\\local_params_scan_nodeform\\rz1_rxy25_bs3to30_mt0.2\\bs50_50_12_5_15_bs5to70_mt0.2\\deformed.zarr to \\\\bananas\\data\\ezfish\\jonna\\CIM132\\HCR\\240408_CIM132\\output_HCR4_to_HCR1_github\\local_params_scan_nodeform\\rz1_rxy25_bs3to30_mt0.2\\tiff_outputs_gpt\\m0.215_bs50_50_12_5_15_bs5to70_mt0.2_both.tiff\n",
      "Processing folder 9 out of 18\n",
      "Zarr data shape: (1969, 1930, 39), DAPI data shape: (1969, 1930, 39)\n",
      "Combined data shape before reshaping: (1969, 1930, 39, 2)\n"
     ]
    },
    {
     "name": "stderr",
     "output_type": "stream",
     "text": [
      "Processing folders:  50%|███████████████████████████████▌                               | 9/18 [16:09<14:17, 95.27s/it]"
     ]
    },
    {
     "name": "stdout",
     "output_type": "stream",
     "text": [
      "Converted \\\\bananas\\data\\ezfish\\jonna\\CIM132\\HCR\\240408_CIM132\\output_HCR4_to_HCR1_github\\local_params_scan_nodeform\\rz1_rxy25_bs3to30_mt0.2\\bs100_100_25_10_25_bs5to70_mt0.2\\deformed.zarr to \\\\bananas\\data\\ezfish\\jonna\\CIM132\\HCR\\240408_CIM132\\output_HCR4_to_HCR1_github\\local_params_scan_nodeform\\rz1_rxy25_bs3to30_mt0.2\\tiff_outputs_gpt\\m0.255_bs100_100_25_10_25_bs5to70_mt0.2_both.tiff\n",
      "Processing folder 10 out of 18\n",
      "Zarr data shape: (1969, 1930, 39), DAPI data shape: (1969, 1930, 39)\n",
      "Combined data shape before reshaping: (1969, 1930, 39, 2)\n"
     ]
    },
    {
     "name": "stderr",
     "output_type": "stream",
     "text": [
      "Processing folders:  56%|██████████████████████████████████▍                           | 10/18 [17:15<11:31, 86.38s/it]"
     ]
    },
    {
     "name": "stdout",
     "output_type": "stream",
     "text": [
      "Converted \\\\bananas\\data\\ezfish\\jonna\\CIM132\\HCR\\240408_CIM132\\output_HCR4_to_HCR1_github\\local_params_scan_nodeform\\rz1_rxy25_bs3to30_mt0.2\\bs100_100_25_1_15_bs5to70_mt0.2\\deformed.zarr to \\\\bananas\\data\\ezfish\\jonna\\CIM132\\HCR\\240408_CIM132\\output_HCR4_to_HCR1_github\\local_params_scan_nodeform\\rz1_rxy25_bs3to30_mt0.2\\tiff_outputs_gpt\\m0.299_bs100_100_25_1_15_bs5to70_mt0.2_both.tiff\n",
      "Processing folder 11 out of 18\n",
      "Zarr data shape: (1969, 1930, 39), DAPI data shape: (1969, 1930, 39)\n",
      "Combined data shape before reshaping: (1969, 1930, 39, 2)\n"
     ]
    },
    {
     "name": "stderr",
     "output_type": "stream",
     "text": [
      "Processing folders:  61%|█████████████████████████████████████▉                        | 11/18 [18:10<08:57, 76.81s/it]"
     ]
    },
    {
     "name": "stdout",
     "output_type": "stream",
     "text": [
      "Converted \\\\bananas\\data\\ezfish\\jonna\\CIM132\\HCR\\240408_CIM132\\output_HCR4_to_HCR1_github\\local_params_scan_nodeform\\rz1_rxy25_bs3to30_mt0.2\\bs100_100_25_10_50_bs5to70_mt0.2\\deformed.zarr to \\\\bananas\\data\\ezfish\\jonna\\CIM132\\HCR\\240408_CIM132\\output_HCR4_to_HCR1_github\\local_params_scan_nodeform\\rz1_rxy25_bs3to30_mt0.2\\tiff_outputs_gpt\\m0.216_bs100_100_25_10_50_bs5to70_mt0.2_both.tiff\n",
      "Processing folder 12 out of 18\n",
      "Zarr data shape: (1969, 1930, 39), DAPI data shape: (1969, 1930, 39)\n",
      "Combined data shape before reshaping: (1969, 1930, 39, 2)\n"
     ]
    },
    {
     "name": "stderr",
     "output_type": "stream",
     "text": [
      "Processing folders:  67%|████████████████████████████████████████▋                    | 12/18 [21:39<11:41, 116.88s/it]"
     ]
    },
    {
     "name": "stdout",
     "output_type": "stream",
     "text": [
      "Converted \\\\bananas\\data\\ezfish\\jonna\\CIM132\\HCR\\240408_CIM132\\output_HCR4_to_HCR1_github\\local_params_scan_nodeform\\rz1_rxy25_bs3to30_mt0.2\\bs50_50_12_1_25_bs5to70_mt0.2\\deformed.zarr to \\\\bananas\\data\\ezfish\\jonna\\CIM132\\HCR\\240408_CIM132\\output_HCR4_to_HCR1_github\\local_params_scan_nodeform\\rz1_rxy25_bs3to30_mt0.2\\tiff_outputs_gpt\\m0.215_bs50_50_12_1_25_bs5to70_mt0.2_both.tiff\n",
      "Processing folder 13 out of 18\n",
      "Zarr data shape: (1969, 1930, 39), DAPI data shape: (1969, 1930, 39)\n",
      "Combined data shape before reshaping: (1969, 1930, 39, 2)\n"
     ]
    },
    {
     "name": "stderr",
     "output_type": "stream",
     "text": [
      "Processing folders:  72%|████████████████████████████████████████████                 | 13/18 [25:02<11:54, 142.88s/it]"
     ]
    },
    {
     "name": "stdout",
     "output_type": "stream",
     "text": [
      "Converted \\\\bananas\\data\\ezfish\\jonna\\CIM132\\HCR\\240408_CIM132\\output_HCR4_to_HCR1_github\\local_params_scan_nodeform\\rz1_rxy25_bs3to30_mt0.2\\bs50_50_12_1_50_bs5to70_mt0.2\\deformed.zarr to \\\\bananas\\data\\ezfish\\jonna\\CIM132\\HCR\\240408_CIM132\\output_HCR4_to_HCR1_github\\local_params_scan_nodeform\\rz1_rxy25_bs3to30_mt0.2\\tiff_outputs_gpt\\m0.215_bs50_50_12_1_50_bs5to70_mt0.2_both.tiff\n",
      "Processing folder 14 out of 18\n",
      "Zarr data shape: (1969, 1930, 39), DAPI data shape: (1969, 1930, 39)\n",
      "Combined data shape before reshaping: (1969, 1930, 39, 2)\n"
     ]
    },
    {
     "name": "stderr",
     "output_type": "stream",
     "text": [
      "Processing folders:  78%|███████████████████████████████████████████████▍             | 14/18 [28:32<10:52, 163.25s/it]"
     ]
    },
    {
     "name": "stdout",
     "output_type": "stream",
     "text": [
      "Converted \\\\bananas\\data\\ezfish\\jonna\\CIM132\\HCR\\240408_CIM132\\output_HCR4_to_HCR1_github\\local_params_scan_nodeform\\rz1_rxy25_bs3to30_mt0.2\\bs50_50_12_10_50_bs5to70_mt0.2\\deformed.zarr to \\\\bananas\\data\\ezfish\\jonna\\CIM132\\HCR\\240408_CIM132\\output_HCR4_to_HCR1_github\\local_params_scan_nodeform\\rz1_rxy25_bs3to30_mt0.2\\tiff_outputs_gpt\\m0.215_bs50_50_12_10_50_bs5to70_mt0.2_both.tiff\n",
      "Processing folder 15 out of 18\n",
      "Zarr data shape: (1969, 1930, 39), DAPI data shape: (1969, 1930, 39)\n",
      "Combined data shape before reshaping: (1969, 1930, 39, 2)\n"
     ]
    },
    {
     "name": "stderr",
     "output_type": "stream",
     "text": [
      "Processing folders:  83%|██████████████████████████████████████████████████▊          | 15/18 [32:11<09:00, 180.20s/it]"
     ]
    },
    {
     "name": "stdout",
     "output_type": "stream",
     "text": [
      "Converted \\\\bananas\\data\\ezfish\\jonna\\CIM132\\HCR\\240408_CIM132\\output_HCR4_to_HCR1_github\\local_params_scan_nodeform\\rz1_rxy25_bs3to30_mt0.2\\bs50_50_12_10_25_bs5to70_mt0.2\\deformed.zarr to \\\\bananas\\data\\ezfish\\jonna\\CIM132\\HCR\\240408_CIM132\\output_HCR4_to_HCR1_github\\local_params_scan_nodeform\\rz1_rxy25_bs3to30_mt0.2\\tiff_outputs_gpt\\m0.215_bs50_50_12_10_25_bs5to70_mt0.2_both.tiff\n",
      "Processing folder 16 out of 18\n",
      "Zarr data shape: (1969, 1930, 39), DAPI data shape: (1969, 1930, 39)\n",
      "Combined data shape before reshaping: (1969, 1930, 39, 2)\n"
     ]
    },
    {
     "name": "stderr",
     "output_type": "stream",
     "text": [
      "Processing folders:  89%|██████████████████████████████████████████████████████▏      | 16/18 [35:52<06:24, 192.30s/it]"
     ]
    },
    {
     "name": "stdout",
     "output_type": "stream",
     "text": [
      "Converted \\\\bananas\\data\\ezfish\\jonna\\CIM132\\HCR\\240408_CIM132\\output_HCR4_to_HCR1_github\\local_params_scan_nodeform\\rz1_rxy25_bs3to30_mt0.2\\bs50_50_12_5_50_bs5to70_mt0.2\\deformed.zarr to \\\\bananas\\data\\ezfish\\jonna\\CIM132\\HCR\\240408_CIM132\\output_HCR4_to_HCR1_github\\local_params_scan_nodeform\\rz1_rxy25_bs3to30_mt0.2\\tiff_outputs_gpt\\m0.215_bs50_50_12_5_50_bs5to70_mt0.2_both.tiff\n",
      "Processing folder 17 out of 18\n",
      "Zarr data shape: (1969, 1930, 39), DAPI data shape: (1969, 1930, 39)\n",
      "Combined data shape before reshaping: (1969, 1930, 39, 2)\n"
     ]
    },
    {
     "name": "stderr",
     "output_type": "stream",
     "text": [
      "Processing folders:  94%|█████████████████████████████████████████████████████████▌   | 17/18 [39:24<03:18, 198.16s/it]"
     ]
    },
    {
     "name": "stdout",
     "output_type": "stream",
     "text": [
      "Converted \\\\bananas\\data\\ezfish\\jonna\\CIM132\\HCR\\240408_CIM132\\output_HCR4_to_HCR1_github\\local_params_scan_nodeform\\rz1_rxy25_bs3to30_mt0.2\\bs50_50_12_5_25_bs5to70_mt0.2\\deformed.zarr to \\\\bananas\\data\\ezfish\\jonna\\CIM132\\HCR\\240408_CIM132\\output_HCR4_to_HCR1_github\\local_params_scan_nodeform\\rz1_rxy25_bs3to30_mt0.2\\tiff_outputs_gpt\\m0.215_bs50_50_12_5_25_bs5to70_mt0.2_both.tiff\n",
      "Processing folder 18 out of 18\n",
      "Zarr data shape: (1969, 1930, 39), DAPI data shape: (1969, 1930, 39)\n",
      "Combined data shape before reshaping: (1969, 1930, 39, 2)\n"
     ]
    },
    {
     "name": "stderr",
     "output_type": "stream",
     "text": [
      "Processing folders: 100%|█████████████████████████████████████████████████████████████| 18/18 [40:29<00:00, 134.96s/it]"
     ]
    },
    {
     "name": "stdout",
     "output_type": "stream",
     "text": [
      "Converted \\\\bananas\\data\\ezfish\\jonna\\CIM132\\HCR\\240408_CIM132\\output_HCR4_to_HCR1_github\\local_params_scan_nodeform\\rz1_rxy25_bs3to30_mt0.2\\bs100_100_25_5_15_bs5to70_mt0.2\\deformed.zarr to \\\\bananas\\data\\ezfish\\jonna\\CIM132\\HCR\\240408_CIM132\\output_HCR4_to_HCR1_github\\local_params_scan_nodeform\\rz1_rxy25_bs3to30_mt0.2\\tiff_outputs_gpt\\m0.298_bs100_100_25_5_15_bs5to70_mt0.2_both.tiff\n"
     ]
    },
    {
     "name": "stderr",
     "output_type": "stream",
     "text": [
      "\n"
     ]
    }
   ],
   "source": [
    "## If scanning local parameters (WITHOUT DEFORM), go through a master folder and turn all deformed.zarr into TIFFs and combine with original DAPI for ease of comparison.\n",
    "#In future, save only non-degenerate affines would make this way easier.\n",
    "\n",
    "import os\n",
    "import zarr\n",
    "import tifffile\n",
    "import numpy as np\n",
    "from tqdm import tqdm\n",
    "import SimpleITK as sitk\n",
    "\n",
    "def get_registration_score(fixed, mov):\n",
    "    fixed_image = sitk.GetImageFromArray(fixed.astype(np.float32))\n",
    "    registered_image = sitk.GetImageFromArray(mov.astype(np.float32))\n",
    "    # Initialize the registration method\n",
    "    irm = sitk.ImageRegistrationMethod()\n",
    "\n",
    "    # Set the metric to ANTS Neighborhood Correlation\n",
    "    irm.SetMetricAsMattesMutualInformation()  # 4 is the radius of the neighborhood\n",
    "\n",
    "    # Set the fixed and moving images for the metric evaluation\n",
    "    out = irm.MetricEvaluate(fixed_image,registered_image)\n",
    "    return out\n",
    "\n",
    "def find_folders_with_zarr(master_folder):\n",
    "    zarr_folders = []\n",
    "    for root, dirs, files in os.walk(master_folder):\n",
    "        if 'deformed.zarr' in dirs:\n",
    "            zarr_folders.append(root)\n",
    "    return zarr_folders\n",
    "\n",
    "def process_zarr_to_tiff(master_folder, dapi_file, subsample_z =2 ):\n",
    "    zarr_folders = find_folders_with_zarr(master_folder)\n",
    "    subfolder_count = len(zarr_folders)\n",
    "\n",
    "    if subfolder_count == 0:\n",
    "        print(\"No folders with 'deformed.zarr' found.\")\n",
    "        return\n",
    "\n",
    "    print(f\"Found {subfolder_count} folders with 'deformed.zarr'\")\n",
    "    print(\"Folders to process:\", zarr_folders)\n",
    "\n",
    "    output_dir = os.path.join(master_folder, 'tiff_outputs_gpt')\n",
    "    if not os.path.exists(output_dir):\n",
    "        os.makedirs(output_dir)\n",
    "\n",
    "    dapi_data = tifffile.imread(dapi_file)\n",
    "    dapi_data = dapi_data.transpose(2, 1, 0)\n",
    "    dapi_data_org = dapi_data.copy()\n",
    "    dapi_data = dapi_data[:, :, ::subsample_z]\n",
    "\n",
    "    pbar = tqdm(total=subfolder_count, desc=\"Processing folders\")\n",
    "\n",
    "    for index, zarr_folder in enumerate(zarr_folders):\n",
    "        print(f\"Processing folder {index + 1} out of {subfolder_count}\")\n",
    "        zarr_path = os.path.join(zarr_folder, 'deformed.zarr')\n",
    "        subfolder_name = os.path.basename(zarr_folder)\n",
    "\n",
    "        try:\n",
    "            data = zarr.load(zarr_path)\n",
    "#             from IPython import embed; embed()\n",
    "            reg_score= get_registration_score(data, dapi_data_org)\n",
    "            reg_score_text = str(np.round(reg_score,3)).replace('-','m')\n",
    "        \n",
    "            data = data[:, :, ::subsample_z]\n",
    "\n",
    "            print(f\"Zarr data shape: {data.shape}, DAPI data shape: {dapi_data.shape}\")\n",
    "\n",
    "            if data.shape != dapi_data.shape:\n",
    "                print(f\"Skipping {zarr_path} due to shape mismatch with DAPI data\")\n",
    "                pbar.update(1)\n",
    "                continue\n",
    "\n",
    "            combined_data = np.stack((dapi_data, data), axis=-1)\n",
    "            print(f\"Combined data shape before reshaping: {combined_data.shape}\")\n",
    "\n",
    "            tiff_path = os.path.join(output_dir, f\"{reg_score_text}_{subfolder_name}_both.tiff\")\n",
    "            combined_data = combined_data.transpose(2, 3, 0, 1)\n",
    "            tifffile.imwrite(tiff_path, combined_data, photometric='minisblack', imagej=True)\n",
    "\n",
    "            print(f\"Converted {zarr_path} to {tiff_path}\")\n",
    "\n",
    "        except Exception as e:\n",
    "            print(f\"Error processing {zarr_path}: {e}\")\n",
    "\n",
    "        pbar.update(1)\n",
    "    \n",
    "        # Add a check to break out of the loop if it stalls.\n",
    "\n",
    "    pbar.close()\n",
    "\n",
    "master_folder = fr\"\\\\bananas\\data\\ezfish\\jonna\\CIM132\\HCR\\240408_CIM132\\output_HCR4_to_HCR1_github\\local_params_scan_nodeform\\rz1_rxy25_bs3to30_mt0.2\"\n",
    "dapi_file =fr\"\\\\bananas\\data\\ezfish\\jonna\\CIM132\\HCR\\240408_CIM132\\CIM132_SLICE001_HCR1_C1_DAPI.tif\"\n",
    "\n",
    "process_zarr_to_tiff(master_folder, dapi_file)\n"
   ]
  },
  {
   "cell_type": "code",
   "execution_count": null,
   "id": "4955f129",
   "metadata": {},
   "outputs": [],
   "source": []
  }
 ],
 "metadata": {
  "kernelspec": {
   "display_name": "base",
   "language": "python",
   "name": "python3"
  },
  "language_info": {
   "codemirror_mode": {
    "name": "ipython",
    "version": 3
   },
   "file_extension": ".py",
   "mimetype": "text/x-python",
   "name": "python",
   "nbconvert_exporter": "python",
   "pygments_lexer": "ipython3",
   "version": "3.9.15"
  },
  "toc": {
   "base_numbering": 1,
   "nav_menu": {},
   "number_sections": true,
   "sideBar": true,
   "skip_h1_title": false,
   "title_cell": "Table of Contents",
   "title_sidebar": "Contents",
   "toc_cell": false,
   "toc_position": {},
   "toc_section_display": true,
   "toc_window_display": false
  }
 },
 "nbformat": 4,
 "nbformat_minor": 5
}
